{
 "cells": [
  {
   "cell_type": "code",
   "execution_count": 23,
   "metadata": {},
   "outputs": [
    {
     "data": {
      "text/html": [
       "<style>.container { width:100% !important; }</style>"
      ],
      "text/plain": [
       "<IPython.core.display.HTML object>"
      ]
     },
     "metadata": {},
     "output_type": "display_data"
    }
   ],
   "source": [
    "from IPython.core.display import display, HTML\n",
    "display(HTML(\"<style>.container { width:100% !important; }</style>\"))\n",
    "from importlib import reload\n",
    "import sys \n",
    "import pandas as pd\n",
    "import numpy as np\n",
    "import sys \n",
    "sys.path.append('/Users/Santiago PC/Documents/Photometry/Quarter1/time_triggered_average/')\n",
    "import photometry_3\n",
    "import time_triggered_average\n",
    "get_ipython().magic('matplotlib qt5')\n",
    "import matplotlib.pyplot as plt\n",
    "import scipy.ndimage\n",
    "from tqdm import tqdm\n",
    "from sklearn import preprocessing "
   ]
  },
  {
   "cell_type": "code",
   "execution_count": 24,
   "metadata": {},
   "outputs": [],
   "source": [
    "def plot_averages(df, channel_to_align, Fs,  x_lims_list, y_lims_list):\n",
    "    \n",
    "    time_base = np.divide(df.index.values, Fs)\n",
    "    \n",
    "    plt.subplot(3,1,1)\n",
    "    plt.plot(time_base, df[channel_to_align], 'b')\n",
    "    plt.xlabel('time (seconds)')\n",
    "    plt.ylabel(channel_to_align)\n",
    "    plt.ylim(y_lims_list[0][0], y_lims_list[0][1])\n",
    "    #plt.xlim(50000, 150000)\n",
    "    plt.subplot(3,1,2)\n",
    "    plt.plot(time_base, df['channel_1_demod_F_F0'], 'g')\n",
    "    plt.xlabel('time (seconds)')\n",
    "    plt.ylabel('F/F0 488')\n",
    "    plt.ylim(y_lims_list[1][0], y_lims_list[1][1])\n",
    "    #plt.xlim(50000, 150000)\n",
    "    plt.subplot(3,1,3)\n",
    "    plt.plot(time_base, df['channel_2_demod_F_F0'])\n",
    "    plt.xlabel('time (seconds)')\n",
    "    plt.ylabel('F/F0 405')\n",
    "    plt.ylim(y_lims_list[2][0], y_lims_list[2][1])\n",
    "    #plt.xlim(50000, 150000)\n",
    "    plt.show()\n",
    "    return(True)\n",
    "\n",
    "def plot_individual_events(df, channel_to_align, Fs,  x_lims_list, y_lims_list):\n",
    "    \n",
    "    time_base = np.divide(df.index.values, Fs)\n",
    "    \n",
    "    plt.subplot(2,1,1)\n",
    "    for event in df[channel_to_align].columns:   \n",
    "        plt.plot(df[channel_to_align][event])\n",
    "    plt.xlabel('time (seconds)')\n",
    "    plt.ylabel(channel_to_align)\n",
    "    plt.ylim(y_lims_list[0][0], y_lims_list[0][1])\n",
    "    #plt.xlim(50000, 150000)\n",
    "    plt.subplot(2,1,2)\n",
    "    for event in df['channel_1_demod_F_F0'].columns:   \n",
    "        plt.plot(df['channel_1_demod_F_F0'][event])\n",
    "    plt.xlabel('time (seconds)')\n",
    "    plt.ylabel('F/F0 488')\n",
    "    plt.ylim(y_lims_list[1][0], y_lims_list[1][1])\n",
    "    plt.show()\n",
    "    return(True)"
   ]
  },
  {
   "cell_type": "code",
   "execution_count": 46,
   "metadata": {
    "scrolled": true
   },
   "outputs": [
    {
     "data": {
      "text/plain": [
       "<module 'time_triggered_average' from '/Users/johnmarshall/Documents/Analysis/PythonAnalysisScripts/photometry_analysis/time_triggered_average.py'>"
      ]
     },
     "execution_count": 46,
     "metadata": {},
     "output_type": "execute_result"
    }
   ],
   "source": [
    "reload(photometry_3)\n",
    "reload(time_triggered_average)"
   ]
  },
  {
   "cell_type": "code",
   "execution_count": 26,
   "metadata": {},
   "outputs": [],
   "source": [
    "#pd.read_hdf('/Users/johnmarshall/Documents/Analysis/PhotometryData/2019/07132019/19713011_F_F0behavior_added.h5')"
   ]
  },
  {
   "cell_type": "code",
   "execution_count": 27,
   "metadata": {},
   "outputs": [],
   "source": [
    "f_name = '/Users/johnmarshall/Documents/Analysis/PhotometryData/2019/08072019/SC_08072019/19807000background_subtracted_F_F0behavior_addedaccel.h5'\n",
    "df_from_file = photometry_3.photometry_df_from_file(f_name)"
   ]
  },
  {
   "cell_type": "code",
   "execution_count": 28,
   "metadata": {},
   "outputs": [
    {
     "data": {
      "text/html": [
       "<div>\n",
       "<style scoped>\n",
       "    .dataframe tbody tr th:only-of-type {\n",
       "        vertical-align: middle;\n",
       "    }\n",
       "\n",
       "    .dataframe tbody tr th {\n",
       "        vertical-align: top;\n",
       "    }\n",
       "\n",
       "    .dataframe thead th {\n",
       "        text-align: right;\n",
       "    }\n",
       "</style>\n",
       "<table border=\"1\" class=\"dataframe\">\n",
       "  <thead>\n",
       "    <tr style=\"text-align: right;\">\n",
       "      <th></th>\n",
       "      <th></th>\n",
       "      <th>time</th>\n",
       "      <th>encoder_windowed</th>\n",
       "      <th>fluorescence_channel_1_windowed</th>\n",
       "      <th>channel_1_demod</th>\n",
       "      <th>channel_2_demod</th>\n",
       "      <th>channel_1_demod_F_F0</th>\n",
       "      <th>channel_2_demod_F_F0</th>\n",
       "      <th>video_times_from_sync</th>\n",
       "      <th>frame</th>\n",
       "      <th>Acceleration</th>\n",
       "    </tr>\n",
       "    <tr>\n",
       "      <th>sweeps</th>\n",
       "      <th>index</th>\n",
       "      <th></th>\n",
       "      <th></th>\n",
       "      <th></th>\n",
       "      <th></th>\n",
       "      <th></th>\n",
       "      <th></th>\n",
       "      <th></th>\n",
       "      <th></th>\n",
       "      <th></th>\n",
       "      <th></th>\n",
       "    </tr>\n",
       "  </thead>\n",
       "  <tbody>\n",
       "    <tr>\n",
       "      <th rowspan=\"5\" valign=\"top\">sweep001</th>\n",
       "      <th>16846</th>\n",
       "      <td>16.6846</td>\n",
       "      <td>4.913940</td>\n",
       "      <td>3.298340</td>\n",
       "      <td>0.079159</td>\n",
       "      <td>0.185719</td>\n",
       "      <td>1.000596</td>\n",
       "      <td>0.991251</td>\n",
       "      <td>16.670954</td>\n",
       "      <td>500.000000</td>\n",
       "      <td>-0.169425</td>\n",
       "    </tr>\n",
       "    <tr>\n",
       "      <th>16847</th>\n",
       "      <td>16.6847</td>\n",
       "      <td>4.913330</td>\n",
       "      <td>3.966980</td>\n",
       "      <td>0.079158</td>\n",
       "      <td>0.185768</td>\n",
       "      <td>1.000596</td>\n",
       "      <td>0.991251</td>\n",
       "      <td>16.671054</td>\n",
       "      <td>500.002999</td>\n",
       "      <td>-0.169425</td>\n",
       "    </tr>\n",
       "    <tr>\n",
       "      <th>16848</th>\n",
       "      <td>16.6848</td>\n",
       "      <td>4.915161</td>\n",
       "      <td>4.398193</td>\n",
       "      <td>0.079157</td>\n",
       "      <td>0.185816</td>\n",
       "      <td>1.000596</td>\n",
       "      <td>0.991251</td>\n",
       "      <td>16.671154</td>\n",
       "      <td>500.005998</td>\n",
       "      <td>-0.169425</td>\n",
       "    </tr>\n",
       "    <tr>\n",
       "      <th>16849</th>\n",
       "      <td>16.6849</td>\n",
       "      <td>4.916687</td>\n",
       "      <td>4.578857</td>\n",
       "      <td>0.079156</td>\n",
       "      <td>0.185863</td>\n",
       "      <td>1.000596</td>\n",
       "      <td>0.991251</td>\n",
       "      <td>16.671254</td>\n",
       "      <td>500.008997</td>\n",
       "      <td>-0.169425</td>\n",
       "    </tr>\n",
       "    <tr>\n",
       "      <th>16850</th>\n",
       "      <td>16.6850</td>\n",
       "      <td>4.915771</td>\n",
       "      <td>4.463501</td>\n",
       "      <td>0.079154</td>\n",
       "      <td>0.185909</td>\n",
       "      <td>1.000596</td>\n",
       "      <td>0.991251</td>\n",
       "      <td>16.671354</td>\n",
       "      <td>500.011997</td>\n",
       "      <td>-0.169425</td>\n",
       "    </tr>\n",
       "  </tbody>\n",
       "</table>\n",
       "</div>"
      ],
      "text/plain": [
       "                   time  encoder_windowed  fluorescence_channel_1_windowed  \\\n",
       "sweeps   index                                                               \n",
       "sweep001 16846  16.6846          4.913940                         3.298340   \n",
       "         16847  16.6847          4.913330                         3.966980   \n",
       "         16848  16.6848          4.915161                         4.398193   \n",
       "         16849  16.6849          4.916687                         4.578857   \n",
       "         16850  16.6850          4.915771                         4.463501   \n",
       "\n",
       "                channel_1_demod  channel_2_demod  channel_1_demod_F_F0  \\\n",
       "sweeps   index                                                           \n",
       "sweep001 16846         0.079159         0.185719              1.000596   \n",
       "         16847         0.079158         0.185768              1.000596   \n",
       "         16848         0.079157         0.185816              1.000596   \n",
       "         16849         0.079156         0.185863              1.000596   \n",
       "         16850         0.079154         0.185909              1.000596   \n",
       "\n",
       "                channel_2_demod_F_F0  video_times_from_sync       frame  \\\n",
       "sweeps   index                                                            \n",
       "sweep001 16846              0.991251              16.670954  500.000000   \n",
       "         16847              0.991251              16.671054  500.002999   \n",
       "         16848              0.991251              16.671154  500.005998   \n",
       "         16849              0.991251              16.671254  500.008997   \n",
       "         16850              0.991251              16.671354  500.011997   \n",
       "\n",
       "                Acceleration  \n",
       "sweeps   index                \n",
       "sweep001 16846     -0.169425  \n",
       "         16847     -0.169425  \n",
       "         16848     -0.169425  \n",
       "         16849     -0.169425  \n",
       "         16850     -0.169425  "
      ]
     },
     "execution_count": 28,
     "metadata": {},
     "output_type": "execute_result"
    }
   ],
   "source": [
    "df_from_file.class_df.head()"
   ]
  },
  {
   "cell_type": "code",
   "execution_count": 29,
   "metadata": {
    "scrolled": false
   },
   "outputs": [],
   "source": [
    "channel_to_align = 'Acceleration'"
   ]
  },
  {
   "cell_type": "code",
   "execution_count": 30,
   "metadata": {},
   "outputs": [
    {
     "data": {
      "text/html": [
       "<div>\n",
       "<style scoped>\n",
       "    .dataframe tbody tr th:only-of-type {\n",
       "        vertical-align: middle;\n",
       "    }\n",
       "\n",
       "    .dataframe tbody tr th {\n",
       "        vertical-align: top;\n",
       "    }\n",
       "\n",
       "    .dataframe thead th {\n",
       "        text-align: right;\n",
       "    }\n",
       "</style>\n",
       "<table border=\"1\" class=\"dataframe\">\n",
       "  <thead>\n",
       "    <tr style=\"text-align: right;\">\n",
       "      <th></th>\n",
       "      <th></th>\n",
       "      <th>time</th>\n",
       "      <th>encoder_windowed</th>\n",
       "      <th>fluorescence_channel_1_windowed</th>\n",
       "      <th>channel_1_demod</th>\n",
       "      <th>channel_2_demod</th>\n",
       "      <th>channel_1_demod_F_F0</th>\n",
       "      <th>channel_2_demod_F_F0</th>\n",
       "      <th>video_times_from_sync</th>\n",
       "      <th>frame</th>\n",
       "      <th>Acceleration</th>\n",
       "    </tr>\n",
       "    <tr>\n",
       "      <th>sweeps</th>\n",
       "      <th>index</th>\n",
       "      <th></th>\n",
       "      <th></th>\n",
       "      <th></th>\n",
       "      <th></th>\n",
       "      <th></th>\n",
       "      <th></th>\n",
       "      <th></th>\n",
       "      <th></th>\n",
       "      <th></th>\n",
       "      <th></th>\n",
       "    </tr>\n",
       "  </thead>\n",
       "  <tbody>\n",
       "    <tr>\n",
       "      <th rowspan=\"5\" valign=\"top\">sweep001</th>\n",
       "      <th>16846</th>\n",
       "      <td>16.6846</td>\n",
       "      <td>4.913940</td>\n",
       "      <td>3.298340</td>\n",
       "      <td>0.079159</td>\n",
       "      <td>0.185719</td>\n",
       "      <td>1.000596</td>\n",
       "      <td>0.991251</td>\n",
       "      <td>16.670954</td>\n",
       "      <td>500.000000</td>\n",
       "      <td>-0.169425</td>\n",
       "    </tr>\n",
       "    <tr>\n",
       "      <th>16847</th>\n",
       "      <td>16.6847</td>\n",
       "      <td>4.913330</td>\n",
       "      <td>3.966980</td>\n",
       "      <td>0.079158</td>\n",
       "      <td>0.185768</td>\n",
       "      <td>1.000596</td>\n",
       "      <td>0.991251</td>\n",
       "      <td>16.671054</td>\n",
       "      <td>500.002999</td>\n",
       "      <td>-0.169425</td>\n",
       "    </tr>\n",
       "    <tr>\n",
       "      <th>16848</th>\n",
       "      <td>16.6848</td>\n",
       "      <td>4.915161</td>\n",
       "      <td>4.398193</td>\n",
       "      <td>0.079157</td>\n",
       "      <td>0.185816</td>\n",
       "      <td>1.000596</td>\n",
       "      <td>0.991251</td>\n",
       "      <td>16.671154</td>\n",
       "      <td>500.005998</td>\n",
       "      <td>-0.169425</td>\n",
       "    </tr>\n",
       "    <tr>\n",
       "      <th>16849</th>\n",
       "      <td>16.6849</td>\n",
       "      <td>4.916687</td>\n",
       "      <td>4.578857</td>\n",
       "      <td>0.079156</td>\n",
       "      <td>0.185863</td>\n",
       "      <td>1.000596</td>\n",
       "      <td>0.991251</td>\n",
       "      <td>16.671254</td>\n",
       "      <td>500.008997</td>\n",
       "      <td>-0.169425</td>\n",
       "    </tr>\n",
       "    <tr>\n",
       "      <th>16850</th>\n",
       "      <td>16.6850</td>\n",
       "      <td>4.915771</td>\n",
       "      <td>4.463501</td>\n",
       "      <td>0.079154</td>\n",
       "      <td>0.185909</td>\n",
       "      <td>1.000596</td>\n",
       "      <td>0.991251</td>\n",
       "      <td>16.671354</td>\n",
       "      <td>500.011997</td>\n",
       "      <td>-0.169425</td>\n",
       "    </tr>\n",
       "  </tbody>\n",
       "</table>\n",
       "</div>"
      ],
      "text/plain": [
       "                   time  encoder_windowed  fluorescence_channel_1_windowed  \\\n",
       "sweeps   index                                                               \n",
       "sweep001 16846  16.6846          4.913940                         3.298340   \n",
       "         16847  16.6847          4.913330                         3.966980   \n",
       "         16848  16.6848          4.915161                         4.398193   \n",
       "         16849  16.6849          4.916687                         4.578857   \n",
       "         16850  16.6850          4.915771                         4.463501   \n",
       "\n",
       "                channel_1_demod  channel_2_demod  channel_1_demod_F_F0  \\\n",
       "sweeps   index                                                           \n",
       "sweep001 16846         0.079159         0.185719              1.000596   \n",
       "         16847         0.079158         0.185768              1.000596   \n",
       "         16848         0.079157         0.185816              1.000596   \n",
       "         16849         0.079156         0.185863              1.000596   \n",
       "         16850         0.079154         0.185909              1.000596   \n",
       "\n",
       "                channel_2_demod_F_F0  video_times_from_sync       frame  \\\n",
       "sweeps   index                                                            \n",
       "sweep001 16846              0.991251              16.670954  500.000000   \n",
       "         16847              0.991251              16.671054  500.002999   \n",
       "         16848              0.991251              16.671154  500.005998   \n",
       "         16849              0.991251              16.671254  500.008997   \n",
       "         16850              0.991251              16.671354  500.011997   \n",
       "\n",
       "                Acceleration  \n",
       "sweeps   index                \n",
       "sweep001 16846     -0.169425  \n",
       "         16847     -0.169425  \n",
       "         16848     -0.169425  \n",
       "         16849     -0.169425  \n",
       "         16850     -0.169425  "
      ]
     },
     "execution_count": 30,
     "metadata": {},
     "output_type": "execute_result"
    }
   ],
   "source": [
    "df_from_file.class_df.head()"
   ]
  },
  {
   "cell_type": "code",
   "execution_count": 31,
   "metadata": {},
   "outputs": [],
   "source": [
    "plt.plot(df_from_file.class_df.loc['sweep007']['Acceleration'].values)\n",
    "plt.show()"
   ]
  },
  {
   "cell_type": "code",
   "execution_count": 32,
   "metadata": {},
   "outputs": [],
   "source": [
    "#df_from_file.class_df\n",
    "#display spreadsheet w data"
   ]
  },
  {
   "cell_type": "code",
   "execution_count": 33,
   "metadata": {},
   "outputs": [
    {
     "name": "stdout",
     "output_type": "stream",
     "text": [
      "-0.058204011024027155\n",
      "130.31207249105472\n",
      "781.8142309353043\n"
     ]
    }
   ],
   "source": [
    "if channel_to_align == 'Acceleration':\n",
    "    mean_=np.nanmean(df_from_file.class_df[channel_to_align].values)\n",
    "    std_=np.nanstd(df_from_file.class_df[channel_to_align].values)\n",
    "    threshold = mean_ + 6*std_\n",
    "    print(mean_)\n",
    "    print(std_)\n",
    "    print(threshold)\n",
    "    time_threshold = 0\n",
    "    \n",
    "if channel_to_align == 'Digging Manual':\n",
    "    threshold = 0.5\n",
    "    time_threshold = 0"
   ]
  },
  {
   "cell_type": "code",
   "execution_count": 34,
   "metadata": {
    "scrolled": true
   },
   "outputs": [
    {
     "name": "stdout",
     "output_type": "stream",
     "text": [
      "50000\n"
     ]
    }
   ],
   "source": [
    "# return regions in traces \"triggered\" around an amplitude threshold in a given trace \n",
    "regions = time_triggered_average.align_on_trigger(df_from_file.class_df, 10000, \n",
    "                                                     channel_to_align, \n",
    "                                                     ['channel_1_demod_F_F0', 'channel_2_demod_F_F0'],\n",
    "                                                     threshold, 'down', \n",
    "                                                     time_threshold, \n",
    "                                                     5, (0, 0))"
   ]
  },
  {
   "cell_type": "code",
   "execution_count": 52,
   "metadata": {},
   "outputs": [],
   "source": [
    "#average the triggered regions across channels\n",
    "unsorted_regions = time_triggered_average.return_events(regions)\n",
    "unsorted_regions_mean = unsorted_regions.mean(axis=1, level=0)"
   ]
  },
  {
   "cell_type": "code",
   "execution_count": 53,
   "metadata": {},
   "outputs": [
    {
     "data": {
      "text/html": [
       "<div>\n",
       "<style scoped>\n",
       "    .dataframe tbody tr th:only-of-type {\n",
       "        vertical-align: middle;\n",
       "    }\n",
       "\n",
       "    .dataframe tbody tr th {\n",
       "        vertical-align: top;\n",
       "    }\n",
       "\n",
       "    .dataframe thead tr th {\n",
       "        text-align: left;\n",
       "    }\n",
       "</style>\n",
       "<table border=\"1\" class=\"dataframe\">\n",
       "  <thead>\n",
       "    <tr>\n",
       "      <th></th>\n",
       "      <th colspan=\"10\" halign=\"left\">channel_1_demod_F_F0</th>\n",
       "      <th>...</th>\n",
       "      <th colspan=\"10\" halign=\"left\">Acceleration</th>\n",
       "    </tr>\n",
       "    <tr>\n",
       "      <th></th>\n",
       "      <th colspan=\"6\" halign=\"left\">sweep005</th>\n",
       "      <th colspan=\"2\" halign=\"left\">sweep002</th>\n",
       "      <th colspan=\"2\" halign=\"left\">sweep001</th>\n",
       "      <th>...</th>\n",
       "      <th colspan=\"4\" halign=\"left\">sweep007</th>\n",
       "      <th colspan=\"6\" halign=\"left\">sweep014</th>\n",
       "    </tr>\n",
       "    <tr>\n",
       "      <th></th>\n",
       "      <th>220581</th>\n",
       "      <th>229250</th>\n",
       "      <th>232579</th>\n",
       "      <th>401909</th>\n",
       "      <th>403239</th>\n",
       "      <th>405239</th>\n",
       "      <th>482921</th>\n",
       "      <th>494919</th>\n",
       "      <th>284629</th>\n",
       "      <th>644953</th>\n",
       "      <th>...</th>\n",
       "      <th>305929</th>\n",
       "      <th>437599</th>\n",
       "      <th>443270</th>\n",
       "      <th>446600</th>\n",
       "      <th>97311</th>\n",
       "      <th>99652</th>\n",
       "      <th>101984</th>\n",
       "      <th>105316</th>\n",
       "      <th>138004</th>\n",
       "      <th>141336</th>\n",
       "    </tr>\n",
       "  </thead>\n",
       "  <tbody>\n",
       "    <tr>\n",
       "      <th>0</th>\n",
       "      <td>1.070336</td>\n",
       "      <td>0.983642</td>\n",
       "      <td>0.999885</td>\n",
       "      <td>0.983931</td>\n",
       "      <td>0.981019</td>\n",
       "      <td>0.995647</td>\n",
       "      <td>1.000616</td>\n",
       "      <td>1.035890</td>\n",
       "      <td>1.028292</td>\n",
       "      <td>0.960145</td>\n",
       "      <td>...</td>\n",
       "      <td>26.9432</td>\n",
       "      <td>-363.473</td>\n",
       "      <td>-41.9422</td>\n",
       "      <td>-3.13263</td>\n",
       "      <td>-1.66046</td>\n",
       "      <td>-25.8759</td>\n",
       "      <td>-18.1398</td>\n",
       "      <td>74.9142</td>\n",
       "      <td>-196.332</td>\n",
       "      <td>-50.4693</td>\n",
       "    </tr>\n",
       "    <tr>\n",
       "      <th>1</th>\n",
       "      <td>1.070352</td>\n",
       "      <td>0.983637</td>\n",
       "      <td>1.000003</td>\n",
       "      <td>0.983917</td>\n",
       "      <td>0.980946</td>\n",
       "      <td>0.995712</td>\n",
       "      <td>1.000686</td>\n",
       "      <td>1.035984</td>\n",
       "      <td>1.028215</td>\n",
       "      <td>0.960189</td>\n",
       "      <td>...</td>\n",
       "      <td>26.9432</td>\n",
       "      <td>-363.473</td>\n",
       "      <td>-41.9422</td>\n",
       "      <td>-3.13263</td>\n",
       "      <td>-1.66046</td>\n",
       "      <td>-25.8759</td>\n",
       "      <td>-18.1398</td>\n",
       "      <td>74.9142</td>\n",
       "      <td>-196.332</td>\n",
       "      <td>-50.4693</td>\n",
       "    </tr>\n",
       "    <tr>\n",
       "      <th>2</th>\n",
       "      <td>1.070369</td>\n",
       "      <td>0.983628</td>\n",
       "      <td>1.000122</td>\n",
       "      <td>0.983903</td>\n",
       "      <td>0.980876</td>\n",
       "      <td>0.995774</td>\n",
       "      <td>1.000752</td>\n",
       "      <td>1.036074</td>\n",
       "      <td>1.028136</td>\n",
       "      <td>0.960239</td>\n",
       "      <td>...</td>\n",
       "      <td>26.9432</td>\n",
       "      <td>-363.473</td>\n",
       "      <td>-41.9422</td>\n",
       "      <td>-3.13263</td>\n",
       "      <td>-1.66046</td>\n",
       "      <td>-25.8759</td>\n",
       "      <td>-18.1398</td>\n",
       "      <td>74.9142</td>\n",
       "      <td>-196.332</td>\n",
       "      <td>-50.4693</td>\n",
       "    </tr>\n",
       "    <tr>\n",
       "      <th>3</th>\n",
       "      <td>1.070388</td>\n",
       "      <td>0.983615</td>\n",
       "      <td>1.000241</td>\n",
       "      <td>0.983888</td>\n",
       "      <td>0.980809</td>\n",
       "      <td>0.995833</td>\n",
       "      <td>1.000815</td>\n",
       "      <td>1.036161</td>\n",
       "      <td>1.028055</td>\n",
       "      <td>0.960293</td>\n",
       "      <td>...</td>\n",
       "      <td>26.9432</td>\n",
       "      <td>-363.473</td>\n",
       "      <td>-41.9422</td>\n",
       "      <td>-3.13263</td>\n",
       "      <td>-1.66046</td>\n",
       "      <td>-25.8759</td>\n",
       "      <td>-18.1398</td>\n",
       "      <td>74.9142</td>\n",
       "      <td>-196.332</td>\n",
       "      <td>-50.4693</td>\n",
       "    </tr>\n",
       "    <tr>\n",
       "      <th>4</th>\n",
       "      <td>1.070407</td>\n",
       "      <td>0.983598</td>\n",
       "      <td>1.000361</td>\n",
       "      <td>0.983873</td>\n",
       "      <td>0.980745</td>\n",
       "      <td>0.995888</td>\n",
       "      <td>1.000874</td>\n",
       "      <td>1.036246</td>\n",
       "      <td>1.027972</td>\n",
       "      <td>0.960352</td>\n",
       "      <td>...</td>\n",
       "      <td>26.9432</td>\n",
       "      <td>-363.473</td>\n",
       "      <td>-41.9422</td>\n",
       "      <td>-3.13263</td>\n",
       "      <td>-1.66046</td>\n",
       "      <td>-25.8759</td>\n",
       "      <td>-18.1398</td>\n",
       "      <td>74.9142</td>\n",
       "      <td>-196.332</td>\n",
       "      <td>-50.4693</td>\n",
       "    </tr>\n",
       "  </tbody>\n",
       "</table>\n",
       "<p>5 rows × 201 columns</p>\n",
       "</div>"
      ],
      "text/plain": [
       "  channel_1_demod_F_F0                                                    \\\n",
       "              sweep005                                                     \n",
       "                220581    229250    232579    401909    403239    405239   \n",
       "0             1.070336  0.983642  0.999885  0.983931  0.981019  0.995647   \n",
       "1             1.070352  0.983637  1.000003  0.983917  0.980946  0.995712   \n",
       "2             1.070369  0.983628  1.000122  0.983903  0.980876  0.995774   \n",
       "3             1.070388  0.983615  1.000241  0.983888  0.980809  0.995833   \n",
       "4             1.070407  0.983598  1.000361  0.983873  0.980745  0.995888   \n",
       "\n",
       "                                           ... Acceleration                    \\\n",
       "   sweep002            sweep001            ...     sweep007                     \n",
       "     482921    494919    284629    644953  ...       305929   437599   443270   \n",
       "0  1.000616  1.035890  1.028292  0.960145  ...      26.9432 -363.473 -41.9422   \n",
       "1  1.000686  1.035984  1.028215  0.960189  ...      26.9432 -363.473 -41.9422   \n",
       "2  1.000752  1.036074  1.028136  0.960239  ...      26.9432 -363.473 -41.9422   \n",
       "3  1.000815  1.036161  1.028055  0.960293  ...      26.9432 -363.473 -41.9422   \n",
       "4  1.000874  1.036246  1.027972  0.960352  ...      26.9432 -363.473 -41.9422   \n",
       "\n",
       "                                                                  \n",
       "           sweep014                                               \n",
       "    446600   97311    99652    101984   105316   138004   141336  \n",
       "0 -3.13263 -1.66046 -25.8759 -18.1398  74.9142 -196.332 -50.4693  \n",
       "1 -3.13263 -1.66046 -25.8759 -18.1398  74.9142 -196.332 -50.4693  \n",
       "2 -3.13263 -1.66046 -25.8759 -18.1398  74.9142 -196.332 -50.4693  \n",
       "3 -3.13263 -1.66046 -25.8759 -18.1398  74.9142 -196.332 -50.4693  \n",
       "4 -3.13263 -1.66046 -25.8759 -18.1398  74.9142 -196.332 -50.4693  \n",
       "\n",
       "[5 rows x 201 columns]"
      ]
     },
     "execution_count": 53,
     "metadata": {},
     "output_type": "execute_result"
    }
   ],
   "source": [
    "unsorted_regions.head()"
   ]
  },
  {
   "cell_type": "code",
   "execution_count": 38,
   "metadata": {},
   "outputs": [],
   "source": [
    "#unsorted_regions['channel_2_demod_F_F0']['sweep009'][81309]"
   ]
  },
  {
   "cell_type": "code",
   "execution_count": 39,
   "metadata": {},
   "outputs": [],
   "source": [
    "plt.plot(unsorted_regions['channel_2_demod_F_F0']['sweep005'][220581])\n",
    "#plt.plot(unsorted_regions['Acceleration']['sweep009'][275965])\n",
    "plt.show()"
   ]
  },
  {
   "cell_type": "code",
   "execution_count": 66,
   "metadata": {},
   "outputs": [],
   "source": [
    "plt.plot(unsorted_regions['channel_1_demod_F_F0'])\n",
    "plt.show()"
   ]
  },
  {
   "cell_type": "code",
   "execution_count": 67,
   "metadata": {},
   "outputs": [],
   "source": [
    "plt.plot(unsorted_regions['channel_2_demod_F_F0'].mean(axis=1))\n",
    "plt.plot(unsorted_regions['channel_1_demod_F_F0'].mean(axis=1))\n",
    "plt.show()\n"
   ]
  },
  {
   "cell_type": "code",
   "execution_count": 49,
   "metadata": {},
   "outputs": [],
   "source": [
    "plt.plot(unsorted_regions['Acceleration'].mean(axis=1))\n",
    "plt.show()"
   ]
  },
  {
   "cell_type": "code",
   "execution_count": 43,
   "metadata": {},
   "outputs": [
    {
     "data": {
      "text/plain": [
       "781.8142309353043"
      ]
     },
     "execution_count": 43,
     "metadata": {},
     "output_type": "execute_result"
    }
   ],
   "source": [
    "threshold"
   ]
  },
  {
   "cell_type": "code",
   "execution_count": 61,
   "metadata": {
    "scrolled": true
   },
   "outputs": [
    {
     "name": "stderr",
     "output_type": "stream",
     "text": [
      "100%|██████████| 67/67 [00:00<00:00, 313.99it/s]\n"
     ]
    }
   ],
   "source": [
    "#sort events by additional criteria \n",
    "sorted_events = time_triggered_average.return_sorted_events(unsorted_regions, channel_to_align , 'before', threshold, (0,20000))"
   ]
  },
  {
   "cell_type": "code",
   "execution_count": 62,
   "metadata": {},
   "outputs": [
    {
     "data": {
      "text/html": [
       "<div>\n",
       "<style scoped>\n",
       "    .dataframe tbody tr th:only-of-type {\n",
       "        vertical-align: middle;\n",
       "    }\n",
       "\n",
       "    .dataframe tbody tr th {\n",
       "        vertical-align: top;\n",
       "    }\n",
       "\n",
       "    .dataframe thead tr th {\n",
       "        text-align: left;\n",
       "    }\n",
       "</style>\n",
       "<table border=\"1\" class=\"dataframe\">\n",
       "  <thead>\n",
       "    <tr>\n",
       "      <th></th>\n",
       "      <th colspan=\"10\" halign=\"left\">channel_1_demod_F_F0</th>\n",
       "      <th>...</th>\n",
       "      <th colspan=\"10\" halign=\"left\">Acceleration</th>\n",
       "    </tr>\n",
       "    <tr>\n",
       "      <th></th>\n",
       "      <th colspan=\"4\" halign=\"left\">sweep005</th>\n",
       "      <th>sweep002</th>\n",
       "      <th colspan=\"2\" halign=\"left\">sweep001</th>\n",
       "      <th colspan=\"3\" halign=\"left\">sweep003</th>\n",
       "      <th>...</th>\n",
       "      <th colspan=\"2\" halign=\"left\">sweep018</th>\n",
       "      <th>sweep016</th>\n",
       "      <th>sweep017</th>\n",
       "      <th colspan=\"2\" halign=\"left\">sweep007</th>\n",
       "      <th colspan=\"4\" halign=\"left\">sweep014</th>\n",
       "    </tr>\n",
       "    <tr>\n",
       "      <th></th>\n",
       "      <th>401909</th>\n",
       "      <th>405239</th>\n",
       "      <th>220581</th>\n",
       "      <th>403239</th>\n",
       "      <th>482921</th>\n",
       "      <th>644953</th>\n",
       "      <th>284629</th>\n",
       "      <th>358406</th>\n",
       "      <th>479435</th>\n",
       "      <th>263470</th>\n",
       "      <th>...</th>\n",
       "      <th>266325</th>\n",
       "      <th>307997</th>\n",
       "      <th>1269</th>\n",
       "      <th>191940</th>\n",
       "      <th>305929</th>\n",
       "      <th>437599</th>\n",
       "      <th>141336</th>\n",
       "      <th>99652</th>\n",
       "      <th>138004</th>\n",
       "      <th>97311</th>\n",
       "    </tr>\n",
       "  </thead>\n",
       "  <tbody>\n",
       "    <tr>\n",
       "      <th>0</th>\n",
       "      <td>0.983931</td>\n",
       "      <td>0.995647</td>\n",
       "      <td>1.070336</td>\n",
       "      <td>0.981019</td>\n",
       "      <td>1.000616</td>\n",
       "      <td>0.960145</td>\n",
       "      <td>1.028292</td>\n",
       "      <td>0.999336</td>\n",
       "      <td>0.985459</td>\n",
       "      <td>0.985952</td>\n",
       "      <td>...</td>\n",
       "      <td>-25.8759</td>\n",
       "      <td>-50.4693</td>\n",
       "      <td>NaN</td>\n",
       "      <td>372.354</td>\n",
       "      <td>26.9432</td>\n",
       "      <td>-363.473</td>\n",
       "      <td>-50.4693</td>\n",
       "      <td>-25.8759</td>\n",
       "      <td>-196.332</td>\n",
       "      <td>-1.66046</td>\n",
       "    </tr>\n",
       "    <tr>\n",
       "      <th>1</th>\n",
       "      <td>0.983917</td>\n",
       "      <td>0.995712</td>\n",
       "      <td>1.070352</td>\n",
       "      <td>0.980946</td>\n",
       "      <td>1.000686</td>\n",
       "      <td>0.960189</td>\n",
       "      <td>1.028215</td>\n",
       "      <td>0.999207</td>\n",
       "      <td>0.985352</td>\n",
       "      <td>0.986095</td>\n",
       "      <td>...</td>\n",
       "      <td>-25.8759</td>\n",
       "      <td>-50.4693</td>\n",
       "      <td>NaN</td>\n",
       "      <td>372.354</td>\n",
       "      <td>26.9432</td>\n",
       "      <td>-363.473</td>\n",
       "      <td>-50.4693</td>\n",
       "      <td>-25.8759</td>\n",
       "      <td>-196.332</td>\n",
       "      <td>-1.66046</td>\n",
       "    </tr>\n",
       "    <tr>\n",
       "      <th>2</th>\n",
       "      <td>0.983903</td>\n",
       "      <td>0.995774</td>\n",
       "      <td>1.070369</td>\n",
       "      <td>0.980876</td>\n",
       "      <td>1.000752</td>\n",
       "      <td>0.960239</td>\n",
       "      <td>1.028136</td>\n",
       "      <td>0.999075</td>\n",
       "      <td>0.985249</td>\n",
       "      <td>0.986236</td>\n",
       "      <td>...</td>\n",
       "      <td>-25.8759</td>\n",
       "      <td>-50.4693</td>\n",
       "      <td>NaN</td>\n",
       "      <td>372.354</td>\n",
       "      <td>26.9432</td>\n",
       "      <td>-363.473</td>\n",
       "      <td>-50.4693</td>\n",
       "      <td>-25.8759</td>\n",
       "      <td>-196.332</td>\n",
       "      <td>-1.66046</td>\n",
       "    </tr>\n",
       "    <tr>\n",
       "      <th>3</th>\n",
       "      <td>0.983888</td>\n",
       "      <td>0.995833</td>\n",
       "      <td>1.070388</td>\n",
       "      <td>0.980809</td>\n",
       "      <td>1.000815</td>\n",
       "      <td>0.960293</td>\n",
       "      <td>1.028055</td>\n",
       "      <td>0.998940</td>\n",
       "      <td>0.985151</td>\n",
       "      <td>0.986373</td>\n",
       "      <td>...</td>\n",
       "      <td>-25.8759</td>\n",
       "      <td>-50.4693</td>\n",
       "      <td>NaN</td>\n",
       "      <td>372.354</td>\n",
       "      <td>26.9432</td>\n",
       "      <td>-363.473</td>\n",
       "      <td>-50.4693</td>\n",
       "      <td>-25.8759</td>\n",
       "      <td>-196.332</td>\n",
       "      <td>-1.66046</td>\n",
       "    </tr>\n",
       "    <tr>\n",
       "      <th>4</th>\n",
       "      <td>0.983873</td>\n",
       "      <td>0.995888</td>\n",
       "      <td>1.070407</td>\n",
       "      <td>0.980745</td>\n",
       "      <td>1.000874</td>\n",
       "      <td>0.960352</td>\n",
       "      <td>1.027972</td>\n",
       "      <td>0.998804</td>\n",
       "      <td>0.985059</td>\n",
       "      <td>0.986507</td>\n",
       "      <td>...</td>\n",
       "      <td>-25.8759</td>\n",
       "      <td>-50.4693</td>\n",
       "      <td>NaN</td>\n",
       "      <td>372.354</td>\n",
       "      <td>26.9432</td>\n",
       "      <td>-363.473</td>\n",
       "      <td>-50.4693</td>\n",
       "      <td>-25.8759</td>\n",
       "      <td>-196.332</td>\n",
       "      <td>-1.66046</td>\n",
       "    </tr>\n",
       "  </tbody>\n",
       "</table>\n",
       "<p>5 rows × 129 columns</p>\n",
       "</div>"
      ],
      "text/plain": [
       "  channel_1_demod_F_F0                                                    \\\n",
       "              sweep005                                sweep002  sweep001   \n",
       "                401909    405239    220581    403239    482921    644953   \n",
       "0             0.983931  0.995647  1.070336  0.981019  1.000616  0.960145   \n",
       "1             0.983917  0.995712  1.070352  0.980946  1.000686  0.960189   \n",
       "2             0.983903  0.995774  1.070369  0.980876  1.000752  0.960239   \n",
       "3             0.983888  0.995833  1.070388  0.980809  1.000815  0.960293   \n",
       "4             0.983873  0.995888  1.070407  0.980745  1.000874  0.960352   \n",
       "\n",
       "                                           ... Acceleration                    \\\n",
       "             sweep003                      ...     sweep018          sweep016   \n",
       "     284629    358406    479435    263470  ...       266325   307997   1269     \n",
       "0  1.028292  0.999336  0.985459  0.985952  ...     -25.8759 -50.4693      NaN   \n",
       "1  1.028215  0.999207  0.985352  0.986095  ...     -25.8759 -50.4693      NaN   \n",
       "2  1.028136  0.999075  0.985249  0.986236  ...     -25.8759 -50.4693      NaN   \n",
       "3  1.028055  0.998940  0.985151  0.986373  ...     -25.8759 -50.4693      NaN   \n",
       "4  1.027972  0.998804  0.985059  0.986507  ...     -25.8759 -50.4693      NaN   \n",
       "\n",
       "                                                                  \n",
       "  sweep017 sweep007          sweep014                             \n",
       "    191940   305929   437599   141336   99652    138004   97311   \n",
       "0  372.354  26.9432 -363.473 -50.4693 -25.8759 -196.332 -1.66046  \n",
       "1  372.354  26.9432 -363.473 -50.4693 -25.8759 -196.332 -1.66046  \n",
       "2  372.354  26.9432 -363.473 -50.4693 -25.8759 -196.332 -1.66046  \n",
       "3  372.354  26.9432 -363.473 -50.4693 -25.8759 -196.332 -1.66046  \n",
       "4  372.354  26.9432 -363.473 -50.4693 -25.8759 -196.332 -1.66046  \n",
       "\n",
       "[5 rows x 129 columns]"
      ]
     },
     "execution_count": 62,
     "metadata": {},
     "output_type": "execute_result"
    }
   ],
   "source": [
    "sorted_events.head()\n"
   ]
  },
  {
   "cell_type": "code",
   "execution_count": null,
   "metadata": {},
   "outputs": [],
   "source": [
    "#save results to hdf file \n",
    "unsorted_regions.to_hdf(f_name.rstrip('.h5') + channel_to_align + 'unsorted.h5', key='df', format='table')\n",
    "sorted_events.to_hdf(f_name.rstrip('.h5') + channel_to_align + 'sorted_before.h5', key='df')"
   ]
  },
  {
   "cell_type": "code",
   "execution_count": null,
   "metadata": {},
   "outputs": [],
   "source": [
    "#load sorted events dataframe from file \n",
    "sorted_events = pd.read_hdf('/Users/johnmarshall/Documents/Analysis/PhotometryData/2019/08072019/SC_08072019/19807000background_subtracted_F_F0behavior_addedaccelAccelerationsorted_before.h5')"
   ]
  },
  {
   "cell_type": "code",
   "execution_count": 71,
   "metadata": {},
   "outputs": [],
   "source": [
    "sorted_events_sweeps_removed = sorted_events.droplevel(level=1, axis=1)"
   ]
  },
  {
   "cell_type": "code",
   "execution_count": 72,
   "metadata": {},
   "outputs": [],
   "source": [
    "plt.plot(sorted_events_sweeps_removed['Acceleration'])\n",
    "plt.show()"
   ]
  },
  {
   "cell_type": "code",
   "execution_count": 73,
   "metadata": {},
   "outputs": [],
   "source": [
    "plt.plot(sorted_events_sweeps_removed['channel_2_demod_F_F0'].mean(axis=1)[15000:35000])\n",
    "plt.plot(sorted_events_sweeps_removed['channel_1_demod_F_F0'].mean(axis=1)[15000:35000])\n",
    "plt.show()"
   ]
  },
  {
   "cell_type": "code",
   "execution_count": 74,
   "metadata": {},
   "outputs": [
    {
     "data": {
      "text/html": [
       "<div>\n",
       "<style scoped>\n",
       "    .dataframe tbody tr th:only-of-type {\n",
       "        vertical-align: middle;\n",
       "    }\n",
       "\n",
       "    .dataframe tbody tr th {\n",
       "        vertical-align: top;\n",
       "    }\n",
       "\n",
       "    .dataframe thead th {\n",
       "        text-align: right;\n",
       "    }\n",
       "</style>\n",
       "<table border=\"1\" class=\"dataframe\">\n",
       "  <thead>\n",
       "    <tr style=\"text-align: right;\">\n",
       "      <th></th>\n",
       "      <th>401909</th>\n",
       "      <th>405239</th>\n",
       "      <th>220581</th>\n",
       "      <th>403239</th>\n",
       "      <th>482921</th>\n",
       "      <th>644953</th>\n",
       "      <th>284629</th>\n",
       "      <th>358406</th>\n",
       "      <th>479435</th>\n",
       "      <th>263470</th>\n",
       "      <th>...</th>\n",
       "      <th>266325</th>\n",
       "      <th>307997</th>\n",
       "      <th>1269</th>\n",
       "      <th>191940</th>\n",
       "      <th>305929</th>\n",
       "      <th>437599</th>\n",
       "      <th>141336</th>\n",
       "      <th>99652</th>\n",
       "      <th>138004</th>\n",
       "      <th>97311</th>\n",
       "    </tr>\n",
       "  </thead>\n",
       "  <tbody>\n",
       "    <tr>\n",
       "      <th>0</th>\n",
       "      <td>0.983931</td>\n",
       "      <td>0.995647</td>\n",
       "      <td>1.070336</td>\n",
       "      <td>0.981019</td>\n",
       "      <td>1.000616</td>\n",
       "      <td>0.960145</td>\n",
       "      <td>1.028292</td>\n",
       "      <td>0.999336</td>\n",
       "      <td>0.985459</td>\n",
       "      <td>0.985952</td>\n",
       "      <td>...</td>\n",
       "      <td>0.993896</td>\n",
       "      <td>1.003232</td>\n",
       "      <td>NaN</td>\n",
       "      <td>0.991339</td>\n",
       "      <td>1.001691</td>\n",
       "      <td>1.004476</td>\n",
       "      <td>1.019551</td>\n",
       "      <td>0.958780</td>\n",
       "      <td>1.016350</td>\n",
       "      <td>0.957745</td>\n",
       "    </tr>\n",
       "    <tr>\n",
       "      <th>1</th>\n",
       "      <td>0.983917</td>\n",
       "      <td>0.995712</td>\n",
       "      <td>1.070352</td>\n",
       "      <td>0.980946</td>\n",
       "      <td>1.000686</td>\n",
       "      <td>0.960189</td>\n",
       "      <td>1.028215</td>\n",
       "      <td>0.999207</td>\n",
       "      <td>0.985352</td>\n",
       "      <td>0.986095</td>\n",
       "      <td>...</td>\n",
       "      <td>0.994066</td>\n",
       "      <td>1.003186</td>\n",
       "      <td>NaN</td>\n",
       "      <td>0.991368</td>\n",
       "      <td>1.001850</td>\n",
       "      <td>1.004489</td>\n",
       "      <td>1.019728</td>\n",
       "      <td>0.958782</td>\n",
       "      <td>1.016388</td>\n",
       "      <td>0.957714</td>\n",
       "    </tr>\n",
       "    <tr>\n",
       "      <th>2</th>\n",
       "      <td>0.983903</td>\n",
       "      <td>0.995774</td>\n",
       "      <td>1.070369</td>\n",
       "      <td>0.980876</td>\n",
       "      <td>1.000752</td>\n",
       "      <td>0.960239</td>\n",
       "      <td>1.028136</td>\n",
       "      <td>0.999075</td>\n",
       "      <td>0.985249</td>\n",
       "      <td>0.986236</td>\n",
       "      <td>...</td>\n",
       "      <td>0.994237</td>\n",
       "      <td>1.003142</td>\n",
       "      <td>NaN</td>\n",
       "      <td>0.991399</td>\n",
       "      <td>1.002006</td>\n",
       "      <td>1.004498</td>\n",
       "      <td>1.019903</td>\n",
       "      <td>0.958782</td>\n",
       "      <td>1.016423</td>\n",
       "      <td>0.957681</td>\n",
       "    </tr>\n",
       "    <tr>\n",
       "      <th>3</th>\n",
       "      <td>0.983888</td>\n",
       "      <td>0.995833</td>\n",
       "      <td>1.070388</td>\n",
       "      <td>0.980809</td>\n",
       "      <td>1.000815</td>\n",
       "      <td>0.960293</td>\n",
       "      <td>1.028055</td>\n",
       "      <td>0.998940</td>\n",
       "      <td>0.985151</td>\n",
       "      <td>0.986373</td>\n",
       "      <td>...</td>\n",
       "      <td>0.994409</td>\n",
       "      <td>1.003099</td>\n",
       "      <td>NaN</td>\n",
       "      <td>0.991430</td>\n",
       "      <td>1.002160</td>\n",
       "      <td>1.004501</td>\n",
       "      <td>1.020076</td>\n",
       "      <td>0.958782</td>\n",
       "      <td>1.016456</td>\n",
       "      <td>0.957649</td>\n",
       "    </tr>\n",
       "    <tr>\n",
       "      <th>4</th>\n",
       "      <td>0.983873</td>\n",
       "      <td>0.995888</td>\n",
       "      <td>1.070407</td>\n",
       "      <td>0.980745</td>\n",
       "      <td>1.000874</td>\n",
       "      <td>0.960352</td>\n",
       "      <td>1.027972</td>\n",
       "      <td>0.998804</td>\n",
       "      <td>0.985059</td>\n",
       "      <td>0.986507</td>\n",
       "      <td>...</td>\n",
       "      <td>0.994583</td>\n",
       "      <td>1.003059</td>\n",
       "      <td>NaN</td>\n",
       "      <td>0.991462</td>\n",
       "      <td>1.002310</td>\n",
       "      <td>1.004499</td>\n",
       "      <td>1.020248</td>\n",
       "      <td>0.958781</td>\n",
       "      <td>1.016488</td>\n",
       "      <td>0.957616</td>\n",
       "    </tr>\n",
       "  </tbody>\n",
       "</table>\n",
       "<p>5 rows × 43 columns</p>\n",
       "</div>"
      ],
      "text/plain": [
       "     401909    405239    220581    403239    482921    644953    284629  \\\n",
       "0  0.983931  0.995647  1.070336  0.981019  1.000616  0.960145  1.028292   \n",
       "1  0.983917  0.995712  1.070352  0.980946  1.000686  0.960189  1.028215   \n",
       "2  0.983903  0.995774  1.070369  0.980876  1.000752  0.960239  1.028136   \n",
       "3  0.983888  0.995833  1.070388  0.980809  1.000815  0.960293  1.028055   \n",
       "4  0.983873  0.995888  1.070407  0.980745  1.000874  0.960352  1.027972   \n",
       "\n",
       "     358406    479435    263470  ...    266325    307997  1269      191940  \\\n",
       "0  0.999336  0.985459  0.985952  ...  0.993896  1.003232     NaN  0.991339   \n",
       "1  0.999207  0.985352  0.986095  ...  0.994066  1.003186     NaN  0.991368   \n",
       "2  0.999075  0.985249  0.986236  ...  0.994237  1.003142     NaN  0.991399   \n",
       "3  0.998940  0.985151  0.986373  ...  0.994409  1.003099     NaN  0.991430   \n",
       "4  0.998804  0.985059  0.986507  ...  0.994583  1.003059     NaN  0.991462   \n",
       "\n",
       "     305929    437599    141336    99652     138004    97311   \n",
       "0  1.001691  1.004476  1.019551  0.958780  1.016350  0.957745  \n",
       "1  1.001850  1.004489  1.019728  0.958782  1.016388  0.957714  \n",
       "2  1.002006  1.004498  1.019903  0.958782  1.016423  0.957681  \n",
       "3  1.002160  1.004501  1.020076  0.958782  1.016456  0.957649  \n",
       "4  1.002310  1.004499  1.020248  0.958781  1.016488  0.957616  \n",
       "\n",
       "[5 rows x 43 columns]"
      ]
     },
     "execution_count": 74,
     "metadata": {},
     "output_type": "execute_result"
    }
   ],
   "source": [
    "sorted_events_sweeps_removed['channel_1_demod_F_F0'].head()"
   ]
  },
  {
   "cell_type": "code",
   "execution_count": 75,
   "metadata": {},
   "outputs": [],
   "source": [
    "plt.plot(sorted_events_sweeps_removed['channel_1_demod_F_F0'][15000:35000])\n",
    "plt.show()"
   ]
  },
  {
   "cell_type": "code",
   "execution_count": null,
   "metadata": {},
   "outputs": [],
   "source": [
    "sorted_events_cropped = sorted_events_sweeps_removed['channel_1_demod_F_F0'][15000:35000]"
   ]
  },
  {
   "cell_type": "code",
   "execution_count": 76,
   "metadata": {},
   "outputs": [],
   "source": [
    "plt.plot(sorted_events_sweeps_removed.mean(axis=1))\n",
    "plt.show()"
   ]
  },
  {
   "cell_type": "code",
   "execution_count": 77,
   "metadata": {},
   "outputs": [],
   "source": [
    "def range_scale_numpy_array(inp_array):\n",
    "    inp_array_std = (inp_array - np.min(inp_array)) / (np.max(inp_array) - np.min(inp_array))\n",
    "    return(inp_array_std)"
   ]
  },
  {
   "cell_type": "code",
   "execution_count": 79,
   "metadata": {},
   "outputs": [],
   "source": [
    "range_scaled = {}\n",
    "for event in list(sorted_events_sweeps_removed.columns):\n",
    "    range_scaled[event] = range_scale_numpy_array(sorted_events_sweeps_removed[event])\n",
    "range_scaled = pd.DataFrame(range_scaled)"
   ]
  },
  {
   "cell_type": "code",
   "execution_count": 83,
   "metadata": {},
   "outputs": [],
   "source": [
    "plt.plot(sorted_events_sweeps_removed['channel_1_demod_F_F0'].mean(axis=1))\n",
    "plt.show()"
   ]
  },
  {
   "cell_type": "code",
   "execution_count": 84,
   "metadata": {},
   "outputs": [],
   "source": [
    "plt.plot(range_scale_numpy_array(sorted_events_sweeps_removed['channel_1_demod_F_F0'].mean(axis=1).values))\n",
    "plt.show()"
   ]
  },
  {
   "cell_type": "code",
   "execution_count": 81,
   "metadata": {},
   "outputs": [],
   "source": [
    "plt.plot(range_scaled['channel_1_demod_F_F0'].mean(axis=1))\n",
    "plt.show()"
   ]
  },
  {
   "cell_type": "code",
   "execution_count": null,
   "metadata": {},
   "outputs": [],
   "source": [
    "plt.plot(range_scaled[399315])\n",
    "plt.show()"
   ]
  },
  {
   "cell_type": "code",
   "execution_count": null,
   "metadata": {},
   "outputs": [],
   "source": [
    "plt.plot(range_scaled[399315])\n",
    "plt.show()"
   ]
  },
  {
   "cell_type": "code",
   "execution_count": null,
   "metadata": {},
   "outputs": [],
   "source": [
    "plt.plot(range_scaled)"
   ]
  },
  {
   "cell_type": "code",
   "execution_count": null,
   "metadata": {
    "scrolled": true
   },
   "outputs": [],
   "source": [
    "#plot average trace from sorted regions \n",
    "df_from_file.Fs\n",
    "plot_averages(means_by_channel, channel_to_align, df_from_file.Fs, [(),(),()], [(-.1, 1.2),(.98, 1.01),(.98, 1.025)])"
   ]
  },
  {
   "cell_type": "code",
   "execution_count": null,
   "metadata": {},
   "outputs": [],
   "source": [
    "plt.subplot(2,1,1)\n",
    "plt.plot(unsorted_regions['Grooming'])\n",
    "plt.subplot(2,1,2)\n",
    "plt.plot(unsorted_regions['channel_1_demod_F_F0'])\n",
    "plt.show()"
   ]
  },
  {
   "cell_type": "code",
   "execution_count": null,
   "metadata": {
    "scrolled": false
   },
   "outputs": [],
   "source": [
    "unsorted_regions['channel_1_demod_F_F0'].loc[50000:60000].max().values"
   ]
  },
  {
   "cell_type": "code",
   "execution_count": null,
   "metadata": {},
   "outputs": [],
   "source": [
    "max_during_grooming = unsorted_regions['channel_1_demod_F_F0'].loc[50000:60000].max().values"
   ]
  },
  {
   "cell_type": "code",
   "execution_count": null,
   "metadata": {},
   "outputs": [],
   "source": [
    "max_before_grooming = unsorted_regions['channel_1_demod_F_F0'].loc[40000:50000].max().values"
   ]
  },
  {
   "cell_type": "code",
   "execution_count": null,
   "metadata": {},
   "outputs": [],
   "source": [
    "plt.scatter(np.ones(len(max_during_grooming)), max_during_grooming)"
   ]
  },
  {
   "cell_type": "code",
   "execution_count": null,
   "metadata": {},
   "outputs": [],
   "source": [
    "plt.scatter(np.ones(len(max_before_grooming)), max_before_grooming)"
   ]
  },
  {
   "cell_type": "code",
   "execution_count": null,
   "metadata": {},
   "outputs": [],
   "source": [
    "max_before_grooming.max()"
   ]
  },
  {
   "cell_type": "code",
   "execution_count": null,
   "metadata": {},
   "outputs": [],
   "source": [
    "max_during_grooming.max()"
   ]
  },
  {
   "cell_type": "code",
   "execution_count": null,
   "metadata": {},
   "outputs": [],
   "source": [
    "plt.hist([max_before_grooming, max_during_grooming])\n",
    "plt.show()\n",
    "plt.suptitle('AAV_Synflex_004 D1')\n",
    "plt.xlabel('Fluoresence')\n",
    "plt.ylabel('Frequency')"
   ]
  },
  {
   "cell_type": "code",
   "execution_count": null,
   "metadata": {},
   "outputs": [],
   "source": [
    "max_before = [1.011622661,1.028583386]\n",
    "max_during = [1.014063491,1.025865516]"
   ]
  },
  {
   "cell_type": "code",
   "execution_count": null,
   "metadata": {},
   "outputs": [],
   "source": []
  },
  {
   "cell_type": "code",
   "execution_count": null,
   "metadata": {},
   "outputs": [],
   "source": [
    "unsorted_regions['channel_1_demod_F_F0'].loc[50000:60000].max()"
   ]
  },
  {
   "cell_type": "code",
   "execution_count": null,
   "metadata": {
    "scrolled": true
   },
   "outputs": [],
   "source": [
    "#plot individual traces of sorted events\n",
    "plot_individual_events(sorted_events, channel_to_align, df_from_file.Fs, [(),(),()], [(-.1, 1.2),(.98, 1.025),(.98, 1.025)])"
   ]
  },
  {
   "cell_type": "code",
   "execution_count": null,
   "metadata": {},
   "outputs": [],
   "source": [
    "#get peak of events in individual traces\n",
    "peak_df = pd.DataFrame(sorted_events[30000:50000].max(axis=0), columns = ['peak amplitude']).transpose()"
   ]
  },
  {
   "cell_type": "code",
   "execution_count": null,
   "metadata": {},
   "outputs": [],
   "source": [
    "#calculate latency to peak \n",
    "latency_samples_of_peak_df = pd.DataFrame(sorted_events[30000:50000].idxmax(axis=0), columns = ['peak latency']).transpose()\n",
    "#convert to seconds\n",
    "time_of_peak_df = latency_samples_of_peak_df.apply(lambda x: (50001-x)/df_from_file.Fs)"
   ]
  },
  {
   "cell_type": "code",
   "execution_count": null,
   "metadata": {},
   "outputs": [],
   "source": [
    "# fiter photometry signal but leave behavior channels \n",
    "dfs = []\n",
    "names = []\n",
    "for channel in ['channel_1_demod_F_F0', 'channel_2_demod_F_F0']:\n",
    "    by_channel = {}\n",
    "    for event in sorted_events['channel_1_demod_F_F0'].columns.values:\n",
    "        by_channel[event] = sorted_events[channel][event].apply((lambda x: photometry_3.gaussian_filter_signal(x, 200)))\n",
    "    dfs.append(pd.DataFrame(by_channel))\n",
    "    names.append(channel)\n",
    "\n",
    "dfs.append(sorted_events['Acceleration'])\n",
    "names.append('Acceleration')\n",
    "\n",
    "filt_df = pd.concat(dfs, keys=names, axis=1)"
   ]
  },
  {
   "cell_type": "code",
   "execution_count": null,
   "metadata": {
    "scrolled": false
   },
   "outputs": [],
   "source": [
    "plot_individual_events(filt_df, channel_to_align, df_from_file.Fs, [(),(),()], [(-.1, 2000),(.90, 1.05),(.95, 1.05)])"
   ]
  },
  {
   "cell_type": "code",
   "execution_count": null,
   "metadata": {},
   "outputs": [],
   "source": [
    "dfs_output = pd.concat([peak_df, time_of_peak_df])"
   ]
  },
  {
   "cell_type": "code",
   "execution_count": null,
   "metadata": {
    "scrolled": false
   },
   "outputs": [],
   "source": [
    "dfs_output"
   ]
  },
  {
   "cell_type": "code",
   "execution_count": null,
   "metadata": {
    "scrolled": true
   },
   "outputs": [],
   "source": [
    "plt.scatter(dfs_output['channel_1_demod_F_F0'].loc['peak latency'].values, dfs_output[channel_to_align].loc['peak amplitude'].values)"
   ]
  },
  {
   "cell_type": "code",
   "execution_count": null,
   "metadata": {},
   "outputs": [],
   "source": [
    "\n",
    "dfs_output.to_hdf(directory+f_name.rstrip('behavior_added.h5')+'_'+str(channel_to_align)+'_bouts_sorted_before_peak.h5', key='df')"
   ]
  },
  {
   "cell_type": "code",
   "execution_count": null,
   "metadata": {},
   "outputs": [],
   "source": [
    "#for grooming analysis\n",
    "# does the peak F_F0 proximal to grooming onset correlate with bout length\n",
    "\n",
    "# get bout lengths\n",
    "df = sorted_events\n",
    "bout_lengths = {}\n",
    "for index in df[channel_to_align].columns:  \n",
    "    out = time_triggered_average.measure_bout_lengths(df[channel_to_align][index], start_index=40000, threshold=.5)\n",
    "    if out[0][0] == int(len(df[channel_to_align][index])/2)+1:\n",
    "        bout_lengths[index] = out[1][0]\n",
    "#list(bout_lengths.items())"
   ]
  },
  {
   "cell_type": "code",
   "execution_count": null,
   "metadata": {},
   "outputs": [],
   "source": [
    "# from bout length dictionary get the peak in the F_F0 trace \n",
    "F_F0_peaks = {}\n",
    "for item in list(bout_lengths.items()):\n",
    "    print(item)\n",
    "    middle_index = int(len(df['channel_1_demod_F_F0'][item[0]])/2)\n",
    "    start_index = middle_index - 30000\n",
    "    signal_filt = photometry_3.gaussian_filter_signal(df['channel_1_demod_F_F0'][item[0]][start_index:(middle_index+item[1])], 200)\n",
    "    F_F0_peaks[item[0]] = np.max(signal_filt)\n",
    "    plt.plot(signal_filt)\n",
    "plt.show()\n",
    "\n",
    "\n",
    "df_out = pd.concat([pd.DataFrame(list(bout_lengths.values()), index=list(bout_lengths.keys()), columns=['bout_lengths_samples']),\n",
    "          pd.DataFrame(list(F_F0_peaks.values()), index=list(F_F0_peaks.keys()), columns=['channel_1_F_F0_peak'])], axis=1)"
   ]
  },
  {
   "cell_type": "code",
   "execution_count": null,
   "metadata": {},
   "outputs": [],
   "source": [
    "df_out.plot.scatter('channel_1_F_F0_peak', 'bout_lengths_samples', title='Mouse: AAV_SYN_005 File: ' + f_name.rstrip('behavior_added.h5'))"
   ]
  },
  {
   "cell_type": "code",
   "execution_count": null,
   "metadata": {},
   "outputs": [],
   "source": [
    "# renormalize to a baseline before grooming onset\n",
    "re_normed_traces = {}\n",
    "F_F0_peaks_normed_before_onset = {}\n",
    "for item in list(bout_lengths.items()):\n",
    "    print(item)\n",
    "    middle_index = int(len(df['channel_1_demod_F_F0'][item[0]])/2)\n",
    "    start_index = middle_index-30000\n",
    "    signal_filt = photometry_3.gaussian_filter_signal(df['channel_1_demod_F_F0'][item[0]][start_index:(middle_index+item[1])], 200)\n",
    "    \n",
    "    signal_filt_normed = np.array([((sample-np.mean(signal_filt[0:10000]))/np.mean(signal_filt[0:10000])) for sample in signal_filt])\n",
    "    \n",
    "    F_F0_peaks_normed_before_onset[item[0]] = np.max(signal_filt_normed)\n",
    "    to_pad = 80000-len(signal_filt)\n",
    "    re_normed_traces[item[0]] = np.pad(signal_filt_normed,(0,to_pad), 'constant', constant_values=np.nan)\n",
    "    plt.plot(signal_filt_normed)\n",
    "plt.show()\n",
    "\n",
    "df_out = pd.concat([pd.DataFrame(list(bout_lengths.values()), index=list(bout_lengths.keys()), columns=['bout_lengths_samples']),\n",
    "         pd.DataFrame(list(F_F0_peaks.values()), index=list(F_F0_peaks.keys()), columns=['channel_1_F_F0_peak']),\n",
    "         pd.DataFrame(list(F_F0_peaks_normed_before_onset.values()), index=list(F_F0_peaks_normed_before_onset.keys()), columns=['channel_1_F_F0_peak_normed'])],\n",
    "                   axis=1\n",
    "                  )"
   ]
  },
  {
   "cell_type": "code",
   "execution_count": null,
   "metadata": {},
   "outputs": [],
   "source": [
    "df_traces = pd.DataFrame(re_normed_traces, index=np.linspace(0, len(list(re_normed_traces.items())[0][1]), len(list(re_normed_traces.items())[0][1])))"
   ]
  },
  {
   "cell_type": "code",
   "execution_count": null,
   "metadata": {},
   "outputs": [],
   "source": [
    "plt.plot(df_traces.mean(axis=1))\n",
    "plt.show()"
   ]
  },
  {
   "cell_type": "code",
   "execution_count": null,
   "metadata": {},
   "outputs": [],
   "source": [
    "df_out.plot.scatter('channel_1_F_F0_peak_normed', 'bout_lengths_samples', title='Mouse: AAV_SYN_004 File: ' + f_name.rstrip('behavior_added.h5'))"
   ]
  },
  {
   "cell_type": "code",
   "execution_count": null,
   "metadata": {},
   "outputs": [],
   "source": [
    "df_out.to_hdf(directory+f_name.rstrip('behavior_added.h5')+'grooming_bouts_sorted_for_plotting.h5', key='df')"
   ]
  },
  {
   "cell_type": "code",
   "execution_count": null,
   "metadata": {},
   "outputs": [],
   "source": [
    "df_out"
   ]
  },
  {
   "cell_type": "code",
   "execution_count": null,
   "metadata": {},
   "outputs": [],
   "source": []
  }
 ],
 "metadata": {
  "kernelspec": {
   "display_name": "Python 3",
   "language": "python",
   "name": "python3"
  },
  "language_info": {
   "codemirror_mode": {
    "name": "ipython",
    "version": 3
   },
   "file_extension": ".py",
   "mimetype": "text/x-python",
   "name": "python",
   "nbconvert_exporter": "python",
   "pygments_lexer": "ipython3",
   "version": "3.6.6"
  }
 },
 "nbformat": 4,
 "nbformat_minor": 2
}
