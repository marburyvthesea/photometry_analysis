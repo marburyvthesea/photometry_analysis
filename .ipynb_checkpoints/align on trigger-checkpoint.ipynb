{
 "cells": [
  {
   "cell_type": "code",
   "execution_count": 2,
   "metadata": {},
   "outputs": [
    {
     "data": {
      "text/html": [
       "<style>.container { width:100% !important; }</style>"
      ],
      "text/plain": [
       "<IPython.core.display.HTML object>"
      ]
     },
     "metadata": {},
     "output_type": "display_data"
    }
   ],
   "source": [
    "from IPython.core.display import display, HTML\n",
    "display(HTML(\"<style>.container { width:100% !important; }</style>\"))\n",
    "from importlib import reload\n",
    "import sys \n",
    "import pandas as pd\n",
    "import numpy as np\n",
    "import sys \n",
    "sys.path.append('/Users/Santiago PC/Documents/Photometry/Quarter1/time_triggered_average/')\n",
    "import photometry_3\n",
    "import time_triggered_average\n",
    "get_ipython().magic('matplotlib qt5')\n",
    "import matplotlib.pyplot as plt\n",
    "import scipy.ndimage"
   ]
  },
  {
   "cell_type": "code",
   "execution_count": 3,
   "metadata": {},
   "outputs": [],
   "source": [
    "def plot_averages(df, channel_to_align, Fs,  x_lims_list, y_lims_list):\n",
    "    \n",
    "    time_base = np.divide(df.index.values, Fs)\n",
    "    \n",
    "    plt.subplot(3,1,1)\n",
    "    plt.plot(time_base, df[channel_to_align], 'b')\n",
    "    plt.xlabel('time (seconds)')\n",
    "    plt.ylabel(channel_to_align)\n",
    "    plt.ylim(y_lims_list[0][0], y_lims_list[0][1])\n",
    "    #plt.xlim(50000, 150000)\n",
    "    plt.subplot(3,1,2)\n",
    "    plt.plot(time_base, df['channel_1_demod_F_F0'], 'g')\n",
    "    plt.xlabel('time (seconds)')\n",
    "    plt.ylabel('F/F0 488')\n",
    "    plt.ylim(y_lims_list[1][0], y_lims_list[1][1])\n",
    "    #plt.xlim(50000, 150000)\n",
    "    plt.subplot(3,1,3)\n",
    "    plt.plot(time_base, df['channel_2_demod_F_F0'])\n",
    "    plt.xlabel('time (seconds)')\n",
    "    plt.ylabel('F/F0 405')\n",
    "    plt.ylim(y_lims_list[2][0], y_lims_list[2][1])\n",
    "    #plt.xlim(50000, 150000)\n",
    "    plt.show()\n",
    "    return(True)\n",
    "\n",
    "def plot_individual_events(df, channel_to_align, Fs,  x_lims_list, y_lims_list):\n",
    "    \n",
    "    time_base = np.divide(df.index.values, Fs)\n",
    "    \n",
    "    plt.subplot(2,1,1)\n",
    "    for event in df[channel_to_align].columns:   \n",
    "        plt.plot(df[channel_to_align][event])\n",
    "    plt.xlabel('time (seconds)')\n",
    "    plt.ylabel(channel_to_align)\n",
    "    plt.ylim(y_lims_list[0][0], y_lims_list[0][1])\n",
    "    #plt.xlim(50000, 150000)\n",
    "    plt.subplot(2,1,2)\n",
    "    for event in df['channel_1_demod_F_F0'].columns:   \n",
    "        plt.plot(df['channel_1_demod_F_F0'][event])\n",
    "    plt.xlabel('time (seconds)')\n",
    "    plt.ylabel('F/F0 488')\n",
    "    plt.ylim(y_lims_list[1][0], y_lims_list[1][1])\n",
    "    plt.show()\n",
    "    return(True)"
   ]
  },
  {
   "cell_type": "code",
   "execution_count": 4,
   "metadata": {
    "scrolled": true
   },
   "outputs": [
    {
     "data": {
      "text/plain": [
       "<module 'time_triggered_average' from '/Users/johnmarshall/Documents/Analysis/PythonAnalysisScripts/photometry_analysis/time_triggered_average.py'>"
      ]
     },
     "execution_count": 4,
     "metadata": {},
     "output_type": "execute_result"
    }
   ],
   "source": [
    "reload(photometry_3)\n",
    "reload(time_triggered_average)"
   ]
  },
  {
   "cell_type": "code",
   "execution_count": 13,
   "metadata": {},
   "outputs": [],
   "source": [
    "#pd.read_hdf('/Users/johnmarshall/Documents/Analysis/PhotometryData/2019/07132019/19713011_F_F0behavior_added.h5')"
   ]
  },
  {
   "cell_type": "code",
   "execution_count": 14,
   "metadata": {
    "scrolled": false
   },
   "outputs": [],
   "source": [
    "f_name = '/Users/johnmarshall/Documents/Analysis/PhotometryData/2019/07132019/19713011_F_F0behavior_added.h5'\n",
    "df_from_file = photometry_3.photometry_df_from_file(f_name)\n",
    "channel_to_align = 'Digging Manual'"
   ]
  },
  {
   "cell_type": "code",
   "execution_count": 19,
   "metadata": {},
   "outputs": [
    {
     "data": {
      "image/png": "[encoded data removed]",
      "text/plain": [
       "<Figure size 432x288 with 1 Axes>"
      ]
     },
     "metadata": {
      "needs_background": "light"
     },
     "output_type": "display_data"
    }
   ],
   "source": [
    "plt.plot(df_from_file.class_df.loc['sweep001'][channel_to_align].values)\n",
    "plt.show()"
   ]
  },
  {
   "cell_type": "code",
   "execution_count": 16,
   "metadata": {},
   "outputs": [
    {
     "data": {
      "image/png": "[encoded data removed]",
      "text/plain": [
       "<Figure size 432x288 with 1 Axes>"
      ]
     },
     "metadata": {
      "needs_background": "light"
     },
     "output_type": "display_data"
    }
   ],
   "source": [
    "plt.plot(df_from_file.class_df.loc['sweep001']['channel_1_demod_F_F0'].values)\n",
    "plt.show()"
   ]
  },
  {
   "cell_type": "code",
   "execution_count": 20,
   "metadata": {},
   "outputs": [],
   "source": [
    "#df_from_file.class_df\n",
    "#display spreadsheet w data"
   ]
  },
  {
   "cell_type": "code",
   "execution_count": 21,
   "metadata": {},
   "outputs": [],
   "source": [
    "if channel_to_align == 'Acceleration':\n",
    "    mean_=np.nanmean(df_from_file.class_df[channel_to_align].values)\n",
    "    std_=np.nanstd(df_from_file.class_df[channel_to_align].values)\n",
    "    threshold = mean_ + 4*std_\n",
    "    print(mean_)\n",
    "    print(std_)\n",
    "    print(threshold)\n",
    "    time_threshold = 0\n",
    "    \n",
    "if channel_to_align == 'Digging Manual':\n",
    "    threshold = 0.5\n",
    "    time_threshold = 1"
   ]
  },
  {
   "cell_type": "code",
   "execution_count": 22,
   "metadata": {
    "scrolled": true
   },
   "outputs": [],
   "source": [
    "# return regions in traces \"triggered\" around an amplitude threshold in a given trace \n",
    "regions = time_triggered_average.align_on_trigger(df_from_file.class_df, 10000, \n",
    "                                                     channel_to_align, \n",
    "                                                     ['channel_1_demod_F_F0', 'channel_2_demod_F_F0'],\n",
    "                                                     threshold, 'up', \n",
    "                                                     time_threshold, \n",
    "                                                     5, (0, 0))"
   ]
  },
  {
   "cell_type": "code",
   "execution_count": 25,
   "metadata": {},
   "outputs": [],
   "source": [
    "#average the triggered regions across channels\n",
    "unsorted_regions = time_triggered_average.return_events(regions)\n",
    "unsorted_regions_mean = unsorted_regions.mean(axis=1, level=0)"
   ]
  },
  {
   "cell_type": "code",
   "execution_count": 26,
   "metadata": {},
   "outputs": [
    {
     "data": {
      "text/plain": [
       "MultiIndex(levels=[['sweep012', 'sweep002', 'sweep007', 'sweep016', 'sweep014', 'sweep009', 'sweep015', 'sweep006', 'sweep005', 'sweep017', 'sweep011', 'sweep001', 'sweep008', 'sweep013', 'sweep003'], [8632, 29636, 36328, 50629, 74983, 82611, 90292, 96312, 98316, 112272, 120297, 136899, 160648, 161009, 183941, 191002, 198560, 201931, 202311, 212966, 220002, 228309, 236295, 253293, 262306, 264941, 277605, 278627, 303961, 314588, 341940, 358274, 362993, 365320, 381660, 386999, 394951, 407878, 412321, 415926, 432957, 434321, 445301, 445590, 453625, 466600, 469991, 470651, 472651, 493972, 494321, 586616, 599658]],\n",
       "           labels=[[0, 0, 0, 0, 0, 1, 1, 1, 1, 2, 2, 2, 3, 3, 3, 4, 4, 4, 4, 4, 5, 5, 6, 6, 6, 6, 6, 7, 8, 8, 8, 8, 8, 8, 9, 9, 10, 10, 10, 10, 10, 10, 10, 12, 12, 12, 12, 13, 13, 13, 13, 13, 14], [25, 36, 42, 47, 52, 15, 20, 35, 46, 24, 32, 50, 3, 14, 34, 10, 12, 23, 31, 45, 1, 13, 8, 21, 27, 28, 40, 37, 2, 7, 33, 38, 41, 48, 6, 19, 0, 5, 9, 17, 44, 49, 51, 18, 22, 26, 29, 11, 16, 30, 39, 43, 4]])"
      ]
     },
     "execution_count": 26,
     "metadata": {},
     "output_type": "execute_result"
    }
   ],
   "source": [
    "unsorted_regions['Digging Manual'].columns"
   ]
  },
  {
   "cell_type": "code",
   "execution_count": 27,
   "metadata": {},
   "outputs": [
    {
     "data": {
      "text/html": [
       "<div>\n",
       "<style scoped>\n",
       "    .dataframe tbody tr th:only-of-type {\n",
       "        vertical-align: middle;\n",
       "    }\n",
       "\n",
       "    .dataframe tbody tr th {\n",
       "        vertical-align: top;\n",
       "    }\n",
       "\n",
       "    .dataframe thead tr th {\n",
       "        text-align: left;\n",
       "    }\n",
       "</style>\n",
       "<table border=\"1\" class=\"dataframe\">\n",
       "  <thead>\n",
       "    <tr>\n",
       "      <th></th>\n",
       "      <th colspan=\"5\" halign=\"left\">sweep012</th>\n",
       "      <th colspan=\"4\" halign=\"left\">sweep002</th>\n",
       "      <th>sweep007</th>\n",
       "      <th>...</th>\n",
       "      <th colspan=\"4\" halign=\"left\">sweep008</th>\n",
       "      <th colspan=\"5\" halign=\"left\">sweep013</th>\n",
       "      <th>sweep003</th>\n",
       "    </tr>\n",
       "    <tr>\n",
       "      <th></th>\n",
       "      <th>264941</th>\n",
       "      <th>394951</th>\n",
       "      <th>445301</th>\n",
       "      <th>470651</th>\n",
       "      <th>599658</th>\n",
       "      <th>191002</th>\n",
       "      <th>220002</th>\n",
       "      <th>386999</th>\n",
       "      <th>469991</th>\n",
       "      <th>262306</th>\n",
       "      <th>...</th>\n",
       "      <th>202311</th>\n",
       "      <th>236295</th>\n",
       "      <th>277605</th>\n",
       "      <th>314588</th>\n",
       "      <th>136899</th>\n",
       "      <th>198560</th>\n",
       "      <th>341940</th>\n",
       "      <th>415926</th>\n",
       "      <th>445590</th>\n",
       "      <th>74983</th>\n",
       "    </tr>\n",
       "  </thead>\n",
       "  <tbody>\n",
       "    <tr>\n",
       "      <th>0</th>\n",
       "      <td>0</td>\n",
       "      <td>0</td>\n",
       "      <td>1</td>\n",
       "      <td>1</td>\n",
       "      <td>0</td>\n",
       "      <td>0</td>\n",
       "      <td>1</td>\n",
       "      <td>0</td>\n",
       "      <td>0</td>\n",
       "      <td>0</td>\n",
       "      <td>...</td>\n",
       "      <td>0</td>\n",
       "      <td>1</td>\n",
       "      <td>0</td>\n",
       "      <td>1</td>\n",
       "      <td>0</td>\n",
       "      <td>0</td>\n",
       "      <td>0</td>\n",
       "      <td>0</td>\n",
       "      <td>1</td>\n",
       "      <td>0</td>\n",
       "    </tr>\n",
       "    <tr>\n",
       "      <th>1</th>\n",
       "      <td>0</td>\n",
       "      <td>0</td>\n",
       "      <td>1</td>\n",
       "      <td>1</td>\n",
       "      <td>0</td>\n",
       "      <td>0</td>\n",
       "      <td>1</td>\n",
       "      <td>0</td>\n",
       "      <td>0</td>\n",
       "      <td>0</td>\n",
       "      <td>...</td>\n",
       "      <td>0</td>\n",
       "      <td>1</td>\n",
       "      <td>0</td>\n",
       "      <td>1</td>\n",
       "      <td>0</td>\n",
       "      <td>0</td>\n",
       "      <td>0</td>\n",
       "      <td>0</td>\n",
       "      <td>1</td>\n",
       "      <td>0</td>\n",
       "    </tr>\n",
       "    <tr>\n",
       "      <th>2</th>\n",
       "      <td>0</td>\n",
       "      <td>0</td>\n",
       "      <td>1</td>\n",
       "      <td>1</td>\n",
       "      <td>0</td>\n",
       "      <td>0</td>\n",
       "      <td>1</td>\n",
       "      <td>0</td>\n",
       "      <td>0</td>\n",
       "      <td>0</td>\n",
       "      <td>...</td>\n",
       "      <td>0</td>\n",
       "      <td>1</td>\n",
       "      <td>0</td>\n",
       "      <td>1</td>\n",
       "      <td>0</td>\n",
       "      <td>0</td>\n",
       "      <td>0</td>\n",
       "      <td>0</td>\n",
       "      <td>1</td>\n",
       "      <td>0</td>\n",
       "    </tr>\n",
       "    <tr>\n",
       "      <th>3</th>\n",
       "      <td>0</td>\n",
       "      <td>0</td>\n",
       "      <td>1</td>\n",
       "      <td>1</td>\n",
       "      <td>0</td>\n",
       "      <td>0</td>\n",
       "      <td>1</td>\n",
       "      <td>0</td>\n",
       "      <td>0</td>\n",
       "      <td>0</td>\n",
       "      <td>...</td>\n",
       "      <td>0</td>\n",
       "      <td>1</td>\n",
       "      <td>0</td>\n",
       "      <td>1</td>\n",
       "      <td>0</td>\n",
       "      <td>0</td>\n",
       "      <td>0</td>\n",
       "      <td>0</td>\n",
       "      <td>1</td>\n",
       "      <td>0</td>\n",
       "    </tr>\n",
       "    <tr>\n",
       "      <th>4</th>\n",
       "      <td>0</td>\n",
       "      <td>0</td>\n",
       "      <td>1</td>\n",
       "      <td>1</td>\n",
       "      <td>0</td>\n",
       "      <td>0</td>\n",
       "      <td>1</td>\n",
       "      <td>0</td>\n",
       "      <td>0</td>\n",
       "      <td>0</td>\n",
       "      <td>...</td>\n",
       "      <td>0</td>\n",
       "      <td>1</td>\n",
       "      <td>0</td>\n",
       "      <td>1</td>\n",
       "      <td>0</td>\n",
       "      <td>0</td>\n",
       "      <td>0</td>\n",
       "      <td>0</td>\n",
       "      <td>1</td>\n",
       "      <td>0</td>\n",
       "    </tr>\n",
       "  </tbody>\n",
       "</table>\n",
       "<p>5 rows × 53 columns</p>\n",
       "</div>"
      ],
      "text/plain": [
       "  sweep012                             sweep002                      sweep007  \\\n",
       "    264941 394951 445301 470651 599658   191002 220002 386999 469991   262306   \n",
       "0        0      0      1      1      0        0      1      0      0        0   \n",
       "1        0      0      1      1      0        0      1      0      0        0   \n",
       "2        0      0      1      1      0        0      1      0      0        0   \n",
       "3        0      0      1      1      0        0      1      0      0        0   \n",
       "4        0      0      1      1      0        0      1      0      0        0   \n",
       "\n",
       "    ...    sweep008                      sweep013                              \\\n",
       "    ...      202311 236295 277605 314588   136899 198560 341940 415926 445590   \n",
       "0   ...           0      1      0      1        0      0      0      0      1   \n",
       "1   ...           0      1      0      1        0      0      0      0      1   \n",
       "2   ...           0      1      0      1        0      0      0      0      1   \n",
       "3   ...           0      1      0      1        0      0      0      0      1   \n",
       "4   ...           0      1      0      1        0      0      0      0      1   \n",
       "\n",
       "  sweep003  \n",
       "    74983   \n",
       "0        0  \n",
       "1        0  \n",
       "2        0  \n",
       "3        0  \n",
       "4        0  \n",
       "\n",
       "[5 rows x 53 columns]"
      ]
     },
     "execution_count": 27,
     "metadata": {},
     "output_type": "execute_result"
    }
   ],
   "source": [
    "unsorted_regions['Digging Manual'].head()"
   ]
  },
  {
   "cell_type": "code",
   "execution_count": 28,
   "metadata": {
    "scrolled": true
   },
   "outputs": [
    {
     "data": {
      "text/plain": [
       "[<matplotlib.lines.Line2D at 0x1c2bc30e48>]"
      ]
     },
     "execution_count": 28,
     "metadata": {},
     "output_type": "execute_result"
    },
    {
     "data": {
      "image/png": "[encoded data removed]",
      "text/plain": [
       "<Figure size 432x288 with 1 Axes>"
      ]
     },
     "metadata": {
      "needs_background": "light"
     },
     "output_type": "display_data"
    }
   ],
   "source": [
    "plt.plot(df_from_file.class_df.loc['sweep007']['Digging Manual'].values)"
   ]
  },
  {
   "cell_type": "code",
   "execution_count": 29,
   "metadata": {},
   "outputs": [],
   "source": [
    "#if checking later\n",
    "#df_from_file = pd.read_hdf(directory+'19710002_F_F0behavior_addedDiggingunsorted.h5')"
   ]
  },
  {
   "cell_type": "code",
   "execution_count": 30,
   "metadata": {},
   "outputs": [],
   "source": [
    "#in tandem with the cell from above\n",
    "#unsorted_regions = df_from_file"
   ]
  },
  {
   "cell_type": "code",
   "execution_count": 32,
   "metadata": {},
   "outputs": [
    {
     "data": {
      "image/png": "[encoded data removed]",
      "text/plain": [
       "<Figure size 432x288 with 1 Axes>"
      ]
     },
     "metadata": {
      "needs_background": "light"
     },
     "output_type": "display_data"
    }
   ],
   "source": [
    "plt.plot(unsorted_regions['channel_1_demod_F_F0'].mean(axis=1))\n",
    "plt.show()"
   ]
  },
  {
   "cell_type": "code",
   "execution_count": 33,
   "metadata": {},
   "outputs": [
    {
     "data": {
      "image/png": "[encoded data removed]",
      "text/plain": [
       "<Figure size 432x288 with 1 Axes>"
      ]
     },
     "metadata": {
      "needs_background": "light"
     },
     "output_type": "display_data"
    }
   ],
   "source": [
    "plt.plot(unsorted_regions['Digging Manual'])\n",
    "plt.show()"
   ]
  },
  {
   "cell_type": "code",
   "execution_count": 36,
   "metadata": {
    "scrolled": true
   },
   "outputs": [],
   "source": [
    "#sort events by additional criteria \n",
    "sorted_events = time_triggered_average.return_sorted_events(unsorted_regions, channel_to_align , 'before', threshold, 15000)"
   ]
  },
  {
   "cell_type": "code",
   "execution_count": null,
   "metadata": {},
   "outputs": [],
   "source": [
    "#save results to hdf file \n",
    "unsorted_regions.to_hdf(directory + f_name.rstrip('.h5') + channel_to_align + 'unsorted.h5', key='df', format='table')\n",
    "sorted_events.to_hdf(directory + f_name.rstrip('.h5') + channel_to_align + 'sorted_before.h5', key='df')"
   ]
  },
  {
   "cell_type": "code",
   "execution_count": null,
   "metadata": {
    "scrolled": true
   },
   "outputs": [],
   "source": [
    "#plot average trace from sorted regions \n",
    "df_from_file.Fs\n",
    "plot_averages(means_by_channel, channel_to_align, df_from_file.Fs, [(),(),()], [(-.1, 1.2),(.98, 1.01),(.98, 1.025)])"
   ]
  },
  {
   "cell_type": "code",
   "execution_count": null,
   "metadata": {},
   "outputs": [],
   "source": [
    "plt.subplot(2,1,1)\n",
    "plt.plot(unsorted_regions['Grooming'])\n",
    "plt.subplot(2,1,2)\n",
    "plt.plot(unsorted_regions['channel_1_demod_F_F0'])\n",
    "plt.show()"
   ]
  },
  {
   "cell_type": "code",
   "execution_count": null,
   "metadata": {
    "scrolled": false
   },
   "outputs": [],
   "source": [
    "unsorted_regions['channel_1_demod_F_F0'].loc[50000:60000].max().values"
   ]
  },
  {
   "cell_type": "code",
   "execution_count": null,
   "metadata": {},
   "outputs": [],
   "source": [
    "max_during_grooming = unsorted_regions['channel_1_demod_F_F0'].loc[50000:60000].max().values"
   ]
  },
  {
   "cell_type": "code",
   "execution_count": null,
   "metadata": {},
   "outputs": [],
   "source": [
    "max_before_grooming = unsorted_regions['channel_1_demod_F_F0'].loc[40000:50000].max().values"
   ]
  },
  {
   "cell_type": "code",
   "execution_count": null,
   "metadata": {},
   "outputs": [],
   "source": [
    "plt.scatter(np.ones(len(max_during_grooming)), max_during_grooming)"
   ]
  },
  {
   "cell_type": "code",
   "execution_count": null,
   "metadata": {},
   "outputs": [],
   "source": [
    "plt.scatter(np.ones(len(max_before_grooming)), max_before_grooming)"
   ]
  },
  {
   "cell_type": "code",
   "execution_count": null,
   "metadata": {},
   "outputs": [],
   "source": [
    "max_before_grooming.max()"
   ]
  },
  {
   "cell_type": "code",
   "execution_count": null,
   "metadata": {},
   "outputs": [],
   "source": [
    "max_during_grooming.max()"
   ]
  },
  {
   "cell_type": "code",
   "execution_count": null,
   "metadata": {},
   "outputs": [],
   "source": [
    "plt.hist([max_before_grooming, max_during_grooming])\n",
    "plt.show()\n",
    "plt.suptitle('AAV_Synflex_004 D1')\n",
    "plt.xlabel('Fluoresence')\n",
    "plt.ylabel('Frequency')"
   ]
  },
  {
   "cell_type": "code",
   "execution_count": null,
   "metadata": {},
   "outputs": [],
   "source": [
    "max_before = [1.011622661,1.028583386]\n",
    "max_during = [1.014063491,1.025865516]"
   ]
  },
  {
   "cell_type": "code",
   "execution_count": null,
   "metadata": {},
   "outputs": [],
   "source": []
  },
  {
   "cell_type": "code",
   "execution_count": null,
   "metadata": {},
   "outputs": [],
   "source": [
    "unsorted_regions['channel_1_demod_F_F0'].loc[50000:60000].max()"
   ]
  },
  {
   "cell_type": "code",
   "execution_count": null,
   "metadata": {
    "scrolled": true
   },
   "outputs": [],
   "source": [
    "#plot individual traces of sorted events\n",
    "plot_individual_events(sorted_events, channel_to_align, df_from_file.Fs, [(),(),()], [(-.1, 1.2),(.98, 1.025),(.98, 1.025)])"
   ]
  },
  {
   "cell_type": "code",
   "execution_count": null,
   "metadata": {},
   "outputs": [],
   "source": [
    "#get peak of events in individual traces\n",
    "peak_df = pd.DataFrame(sorted_events[30000:50000].max(axis=0), columns = ['peak amplitude']).transpose()"
   ]
  },
  {
   "cell_type": "code",
   "execution_count": null,
   "metadata": {},
   "outputs": [],
   "source": [
    "#calculate latency to peak \n",
    "latency_samples_of_peak_df = pd.DataFrame(sorted_events[30000:50000].idxmax(axis=0), columns = ['peak latency']).transpose()\n",
    "#convert to seconds\n",
    "time_of_peak_df = latency_samples_of_peak_df.apply(lambda x: (50001-x)/df_from_file.Fs)"
   ]
  },
  {
   "cell_type": "code",
   "execution_count": null,
   "metadata": {},
   "outputs": [],
   "source": [
    "# fiter photometry signal but leave behavior channels \n",
    "dfs = []\n",
    "names = []\n",
    "for channel in ['channel_1_demod_F_F0', 'channel_2_demod_F_F0']:\n",
    "    by_channel = {}\n",
    "    for event in sorted_events['channel_1_demod_F_F0'].columns.values:\n",
    "        by_channel[event] = sorted_events[channel][event].apply((lambda x: photometry_3.gaussian_filter_signal(x, 200)))\n",
    "    dfs.append(pd.DataFrame(by_channel))\n",
    "    names.append(channel)\n",
    "\n",
    "dfs.append(sorted_events['Acceleration'])\n",
    "names.append('Acceleration')\n",
    "\n",
    "filt_df = pd.concat(dfs, keys=names, axis=1)"
   ]
  },
  {
   "cell_type": "code",
   "execution_count": null,
   "metadata": {
    "scrolled": false
   },
   "outputs": [],
   "source": [
    "plot_individual_events(filt_df, channel_to_align, df_from_file.Fs, [(),(),()], [(-.1, 2000),(.90, 1.05),(.95, 1.05)])"
   ]
  },
  {
   "cell_type": "code",
   "execution_count": null,
   "metadata": {},
   "outputs": [],
   "source": [
    "dfs_output = pd.concat([peak_df, time_of_peak_df])"
   ]
  },
  {
   "cell_type": "code",
   "execution_count": null,
   "metadata": {
    "scrolled": false
   },
   "outputs": [],
   "source": [
    "dfs_output"
   ]
  },
  {
   "cell_type": "code",
   "execution_count": null,
   "metadata": {
    "scrolled": true
   },
   "outputs": [],
   "source": [
    "plt.scatter(dfs_output['channel_1_demod_F_F0'].loc['peak latency'].values, dfs_output[channel_to_align].loc['peak amplitude'].values)"
   ]
  },
  {
   "cell_type": "code",
   "execution_count": null,
   "metadata": {},
   "outputs": [],
   "source": [
    "\n",
    "dfs_output.to_hdf(directory+f_name.rstrip('behavior_added.h5')+'_'+str(channel_to_align)+'_bouts_sorted_before_peak.h5', key='df')"
   ]
  },
  {
   "cell_type": "code",
   "execution_count": null,
   "metadata": {},
   "outputs": [],
   "source": [
    "#for grooming analysis\n",
    "# does the peak F_F0 proximal to grooming onset correlate with bout length\n",
    "\n",
    "# get bout lengths\n",
    "df = sorted_events\n",
    "bout_lengths = {}\n",
    "for index in df[channel_to_align].columns:  \n",
    "    out = time_triggered_average.measure_bout_lengths(df[channel_to_align][index], start_index=40000, threshold=.5)\n",
    "    if out[0][0] == int(len(df[channel_to_align][index])/2)+1:\n",
    "        bout_lengths[index] = out[1][0]\n",
    "#list(bout_lengths.items())"
   ]
  },
  {
   "cell_type": "code",
   "execution_count": null,
   "metadata": {},
   "outputs": [],
   "source": [
    "# from bout length dictionary get the peak in the F_F0 trace \n",
    "F_F0_peaks = {}\n",
    "for item in list(bout_lengths.items()):\n",
    "    print(item)\n",
    "    middle_index = int(len(df['channel_1_demod_F_F0'][item[0]])/2)\n",
    "    start_index = middle_index - 30000\n",
    "    signal_filt = photometry_3.gaussian_filter_signal(df['channel_1_demod_F_F0'][item[0]][start_index:(middle_index+item[1])], 200)\n",
    "    F_F0_peaks[item[0]] = np.max(signal_filt)\n",
    "    plt.plot(signal_filt)\n",
    "plt.show()\n",
    "\n",
    "\n",
    "df_out = pd.concat([pd.DataFrame(list(bout_lengths.values()), index=list(bout_lengths.keys()), columns=['bout_lengths_samples']),\n",
    "          pd.DataFrame(list(F_F0_peaks.values()), index=list(F_F0_peaks.keys()), columns=['channel_1_F_F0_peak'])], axis=1)"
   ]
  },
  {
   "cell_type": "code",
   "execution_count": null,
   "metadata": {},
   "outputs": [],
   "source": [
    "df_out.plot.scatter('channel_1_F_F0_peak', 'bout_lengths_samples', title='Mouse: AAV_SYN_005 File: ' + f_name.rstrip('behavior_added.h5'))"
   ]
  },
  {
   "cell_type": "code",
   "execution_count": null,
   "metadata": {},
   "outputs": [],
   "source": [
    "# renormalize to a baseline before grooming onset\n",
    "re_normed_traces = {}\n",
    "F_F0_peaks_normed_before_onset = {}\n",
    "for item in list(bout_lengths.items()):\n",
    "    print(item)\n",
    "    middle_index = int(len(df['channel_1_demod_F_F0'][item[0]])/2)\n",
    "    start_index = middle_index-30000\n",
    "    signal_filt = photometry_3.gaussian_filter_signal(df['channel_1_demod_F_F0'][item[0]][start_index:(middle_index+item[1])], 200)\n",
    "    \n",
    "    signal_filt_normed = np.array([((sample-np.mean(signal_filt[0:10000]))/np.mean(signal_filt[0:10000])) for sample in signal_filt])\n",
    "    \n",
    "    F_F0_peaks_normed_before_onset[item[0]] = np.max(signal_filt_normed)\n",
    "    to_pad = 80000-len(signal_filt)\n",
    "    re_normed_traces[item[0]] = np.pad(signal_filt_normed,(0,to_pad), 'constant', constant_values=np.nan)\n",
    "    plt.plot(signal_filt_normed)\n",
    "plt.show()\n",
    "\n",
    "df_out = pd.concat([pd.DataFrame(list(bout_lengths.values()), index=list(bout_lengths.keys()), columns=['bout_lengths_samples']),\n",
    "         pd.DataFrame(list(F_F0_peaks.values()), index=list(F_F0_peaks.keys()), columns=['channel_1_F_F0_peak']),\n",
    "         pd.DataFrame(list(F_F0_peaks_normed_before_onset.values()), index=list(F_F0_peaks_normed_before_onset.keys()), columns=['channel_1_F_F0_peak_normed'])],\n",
    "                   axis=1\n",
    "                  )"
   ]
  },
  {
   "cell_type": "code",
   "execution_count": null,
   "metadata": {},
   "outputs": [],
   "source": [
    "df_traces = pd.DataFrame(re_normed_traces, index=np.linspace(0, len(list(re_normed_traces.items())[0][1]), len(list(re_normed_traces.items())[0][1])))"
   ]
  },
  {
   "cell_type": "code",
   "execution_count": null,
   "metadata": {},
   "outputs": [],
   "source": [
    "plt.plot(df_traces.mean(axis=1))\n",
    "plt.show()"
   ]
  },
  {
   "cell_type": "code",
   "execution_count": null,
   "metadata": {},
   "outputs": [],
   "source": [
    "df_out.plot.scatter('channel_1_F_F0_peak_normed', 'bout_lengths_samples', title='Mouse: AAV_SYN_004 File: ' + f_name.rstrip('behavior_added.h5'))"
   ]
  },
  {
   "cell_type": "code",
   "execution_count": null,
   "metadata": {},
   "outputs": [],
   "source": [
    "df_out.to_hdf(directory+f_name.rstrip('behavior_added.h5')+'grooming_bouts_sorted_for_plotting.h5', key='df')"
   ]
  },
  {
   "cell_type": "code",
   "execution_count": null,
   "metadata": {},
   "outputs": [],
   "source": [
    "df_out"
   ]
  },
  {
   "cell_type": "code",
   "execution_count": null,
   "metadata": {},
   "outputs": [],
   "source": []
  }
 ],
 "metadata": {
  "kernelspec": {
   "display_name": "Python 3",
   "language": "python",
   "name": "python3"
  },
  "language_info": {
   "codemirror_mode": {
    "name": "ipython",
    "version": 3
   },
   "file_extension": ".py",
   "mimetype": "text/x-python",
   "name": "python",
   "nbconvert_exporter": "python",
   "pygments_lexer": "ipython3",
   "version": "3.6.6"
  }
 },
 "nbformat": 4,
 "nbformat_minor": 2
}
