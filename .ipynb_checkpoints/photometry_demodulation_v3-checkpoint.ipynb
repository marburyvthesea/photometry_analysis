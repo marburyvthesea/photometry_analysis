{
 "cells": [
  {
   "cell_type": "markdown",
   "metadata": {},
   "source": [
    "# Script to demodulate photometry experiment collected with Axon digidata "
   ]
  },
  {
   "cell_type": "code",
   "execution_count": 1,
   "metadata": {
    "scrolled": false
   },
   "outputs": [
    {
     "data": {
      "text/html": [
       "<style>.container { width:100% !important; }</style>"
      ],
      "text/plain": [
       "<IPython.core.display.HTML object>"
      ]
     },
     "metadata": {},
     "output_type": "display_data"
    }
   ],
   "source": [
    "## additional packages needed to run\n",
    "from importlib import reload\n",
    "from IPython.core.display import display, HTML\n",
    "display(HTML(\"<style>.container { width:100% !important; }</style>\"))\n",
    "import sys \n",
    "import neo \n",
    "from neo import io\n",
    "import pandas as pd\n",
    "import numpy as np\n",
    "import yaml\n",
    "import sys \n",
    "import photometry_3\n",
    "get_ipython().magic('matplotlib qt')\n",
    "#%matplotlib qt5\n",
    "import matplotlib.pyplot as plt"
   ]
  },
  {
   "cell_type": "code",
   "execution_count": 2,
   "metadata": {},
   "outputs": [],
   "source": [
    "## function for plotting graphs from stored data \n",
    "def plot_multiple_sweeps_from_class(class_name, df_to_load, sweeps_list, channels_list, window, wspace=0.1, hspace=0.1, \n",
    "                                    X_axis_column=None, X_label=None, Y_labels=None, _inline=False):\n",
    "    \"\"\"Inputs: \n",
    "    window (tuple of time values)\"\"\" \n",
    "    if sweeps_list == 'all':\n",
    "        sweeps_to_plot = sorted(list(set(df_to_load.index.get_level_values(0))))\n",
    "    else:\n",
    "        sweeps_to_plot = sweeps_list\n",
    "    windowed_start = int(window[0]*class_name.Fs)\n",
    "    windowed_end = len(df_to_load.loc[sweeps_to_plot[0]][str(channels_list[0])]) - int(window[1]*class_name.Fs)\n",
    "    if _inline == False:\n",
    "        %matplotlib qt5\n",
    "    else: \n",
    "        %matplotlib inline\n",
    "    plt.subplots_adjust(wspace, hspace)\n",
    "    \n",
    "    \n",
    "    # sweeps are plotted by column\n",
    "    column_num = int(len(sweeps_to_plot))\n",
    "    # channels are plotted by row\n",
    "    row_num = int(len(channels_list))\n",
    "    subplot_index = 1\n",
    "    for channel_to_plot in range(len(channels_list)):\n",
    "        for sweep in range(len(sweeps_to_plot)):\n",
    "            plt.subplot(row_num, column_num, subplot_index)\n",
    "            if X_axis_column:\n",
    "                plt.plot(df_to_load.loc[str(sweeps_to_plot[sweep])][str(X_axis_column)].as_matrix()[windowed_start:windowed_end],\n",
    "                        df_to_load.loc[str(sweeps_to_plot[sweep])][str(channels_list[channel_to_plot])].as_matrix()[windowed_start:windowed_end])\n",
    "            else:\n",
    "                plt.plot(df_to_load.loc[str(sweeps_to_plot[sweep])][str(channels_list[channel_to_plot])].as_matrix()[windowed_start:windowed_end])\n",
    "            if X_label:\n",
    "                plt.xlabel(X_label)\n",
    "            if Y_labels:\n",
    "                plt.ylabel(str(Y_labels[subplot_index]))\n",
    "            else:\n",
    "                plt.ylabel(str(channels_list[channel_to_plot]))\n",
    "            subplot_index += 1\n",
    "                           \n",
    "    plt.show()\n",
    "    return()\n",
    "    "
   ]
  },
  {
   "cell_type": "markdown",
   "metadata": {},
   "source": [
    "## input .abf file to load "
   ]
  },
  {
   "cell_type": "code",
   "execution_count": 3,
   "metadata": {
    "scrolled": true
   },
   "outputs": [],
   "source": [
    "#input path to file \n",
    "file = '/Users/johnmarshall/Documents/Analysis/PhotometryData/2019/07102019/19710002.abf'\n",
    "file_to_load = file\n",
    "fname_for_saving = file.rstrip('.abf')\n",
    "#use True or False to indicate if the experiment has rotary endocder data or not\n",
    "#if True, also pass list with encoder channels\n",
    "#need to add a column that has time according to run not just per sweep \n",
    "_recording = photometry_3.raw_photometry_file(file_to_load, .1, False)"
   ]
  },
  {
   "cell_type": "code",
   "execution_count": null,
   "metadata": {
    "scrolled": true
   },
   "outputs": [],
   "source": [
    "_recording.class_df.head()"
   ]
  },
  {
   "cell_type": "code",
   "execution_count": null,
   "metadata": {
    "scrolled": true
   },
   "outputs": [],
   "source": [
    "# plot sweeps (class_name, df, list of sweeps to load or 'all', list of channels, time to window, \n",
    "# borderspace, headspace, column name to use for x axis, y axis label, inline plotting=True/False)\n",
    "# use _recording.cont_df for rotary encoder data _recording.class_df if none \n",
    "plot_multiple_sweeps_from_class(_recording, _recording.class_df, ['sweep002']\n",
    "                                , ['channel_0', 'channel_1','channel_2','channel_3'], (0,0), 0.1,\n",
    "                               0.1, 'time', 'time (seconds)', 'detector power', False)"
   ]
  },
  {
   "cell_type": "code",
   "execution_count": 66,
   "metadata": {},
   "outputs": [
    {
     "data": {
      "text/plain": [
       "True"
      ]
     },
     "execution_count": 66,
     "metadata": {},
     "output_type": "execute_result"
    }
   ],
   "source": [
    "#save df to .hdf5 file\n",
    "fname_for_saving = file.rstrip('.abf')\n",
    "_recording.save_to_hdf(fname_for_saving) "
   ]
  },
  {
   "cell_type": "markdown",
   "metadata": {},
   "source": [
    "# load demodulation parameters from file and run demodulation"
   ]
  },
  {
   "cell_type": "code",
   "execution_count": 5,
   "metadata": {},
   "outputs": [],
   "source": [
    "# default parameters are stored in 'default_photometry_params.yml' in photometry_3.0 folder \n",
    "with open('default_photometry_params.yml', 'r') as stream:\n",
    "    params_for_demodulation_file = yaml.load(stream)"
   ]
  },
  {
   "cell_type": "code",
   "execution_count": 6,
   "metadata": {},
   "outputs": [
    {
     "name": "stdout",
     "output_type": "stream",
     "text": [
      "demodulating sweep sweep001\n",
      "prefilter channel 1\n"
     ]
    },
    {
     "name": "stderr",
     "output_type": "stream",
     "text": [
      "/Users/johnmarshall/Documents/Analysis/PythonAnalysisScripts/photometry_analysis/photometry_3.py:486: FutureWarning: Method .as_matrix will be removed in a future version. Use .values instead.\n",
      "  sweep_dict['time'] = file_df.loc[sweep]['time'].as_matrix()[windowed_start:windowed_end]\n",
      "/Users/johnmarshall/Documents/Analysis/PythonAnalysisScripts/photometry_analysis/photometry_3.py:489: FutureWarning: Method .as_matrix will be removed in a future version. Use .values instead.\n",
      "  encoder_windowed = file_df.loc[sweep][encoder_channel].as_matrix()[windowed_start:windowed_end]\n",
      "/Users/johnmarshall/Documents/Analysis/PythonAnalysisScripts/photometry_analysis/photometry_3.py:493: FutureWarning: Method .as_matrix will be removed in a future version. Use .values instead.\n",
      "  fluorescence_channel_1_windowed = file_df.loc[sweep][fluorescence_channel_1].as_matrix()[windowed_start:windowed_end]\n",
      "/Users/johnmarshall/Documents/Analysis/PythonAnalysisScripts/photometry_analysis/photometry_3.py:497: FutureWarning: Method .as_matrix will be removed in a future version. Use .values instead.\n",
      "  modulation_channel_1_windowed = file_df.loc[sweep][modulation_channel_1].as_matrix()[windowed_start:windowed_end]\n",
      "/Users/johnmarshall/Documents/Analysis/PythonAnalysisScripts/photometry_analysis/photometry_3.py:502: FutureWarning: Method .as_matrix will be removed in a future version. Use .values instead.\n",
      "  modulation_channel_2_windowed = file_df.loc[sweep][modulation_channel_2].as_matrix()[windowed_start:windowed_end]\n",
      "/Users/johnmarshall/miniconda2/envs/py36_photometry_analysis/lib/python3.6/site-packages/scipy/signal/_arraytools.py:45: FutureWarning: Using a non-tuple sequence for multidimensional indexing is deprecated; use `arr[tuple(seq)]` instead of `arr[seq]`. In the future this will be interpreted as an array index, `arr[np.array(seq)]`, which will result either in an error or a different result.\n",
      "  b = a[a_slice]\n"
     ]
    },
    {
     "name": "stdout",
     "output_type": "stream",
     "text": [
      "demodulating channel 1\n",
      "demodulating/summing in quadrature channel 1\n",
      "prefilter channel 2\n",
      "demodulating channel 2\n",
      "demodulating/summing in quadrature channel 2\n",
      "sweep sweep001 done\n",
      "demodulating sweep sweep002\n",
      "prefilter channel 1\n",
      "demodulating channel 1\n",
      "demodulating/summing in quadrature channel 1\n",
      "prefilter channel 2\n",
      "demodulating channel 2\n",
      "demodulating/summing in quadrature channel 2\n",
      "sweep sweep002 done\n",
      "demodulating sweep sweep003\n",
      "prefilter channel 1\n",
      "demodulating channel 1\n",
      "demodulating/summing in quadrature channel 1\n",
      "prefilter channel 2\n",
      "demodulating channel 2\n",
      "demodulating/summing in quadrature channel 2\n",
      "sweep sweep003 done\n",
      "demodulating sweep sweep004\n",
      "prefilter channel 1\n",
      "demodulating channel 1\n",
      "demodulating/summing in quadrature channel 1\n",
      "prefilter channel 2\n",
      "demodulating channel 2\n",
      "demodulating/summing in quadrature channel 2\n",
      "sweep sweep004 done\n",
      "demodulating sweep sweep005\n",
      "prefilter channel 1\n",
      "demodulating channel 1\n",
      "demodulating/summing in quadrature channel 1\n",
      "prefilter channel 2\n",
      "demodulating channel 2\n",
      "demodulating/summing in quadrature channel 2\n",
      "sweep sweep005 done\n",
      "demodulating sweep sweep006\n",
      "prefilter channel 1\n",
      "demodulating channel 1\n",
      "demodulating/summing in quadrature channel 1\n",
      "prefilter channel 2\n",
      "demodulating channel 2\n",
      "demodulating/summing in quadrature channel 2\n",
      "sweep sweep006 done\n",
      "demodulating sweep sweep007\n",
      "prefilter channel 1\n",
      "demodulating channel 1\n",
      "demodulating/summing in quadrature channel 1\n",
      "prefilter channel 2\n",
      "demodulating channel 2\n",
      "demodulating/summing in quadrature channel 2\n",
      "sweep sweep007 done\n",
      "demodulating sweep sweep008\n",
      "prefilter channel 1\n",
      "demodulating channel 1\n",
      "demodulating/summing in quadrature channel 1\n",
      "prefilter channel 2\n",
      "demodulating channel 2\n",
      "demodulating/summing in quadrature channel 2\n",
      "sweep sweep008 done\n",
      "concactenating sweeps\n"
     ]
    }
   ],
   "source": [
    "# use _recording.cont_df for rotary encoder data _recording.class_df if none \n",
    "_recording_demod = _recording.demodulate_file(_recording.class_df, params_for_demodulation_file)"
   ]
  },
  {
   "cell_type": "code",
   "execution_count": 62,
   "metadata": {
    "scrolled": true
   },
   "outputs": [
    {
     "name": "stdout",
     "output_type": "stream",
     "text": [
      "Warning: Cannot change to a different GUI toolkit: qt5. Using qt instead.\n"
     ]
    },
    {
     "name": "stderr",
     "output_type": "stream",
     "text": [
      "/Users/johnmarshall/miniconda2/envs/py36_photometry_analysis/lib/python3.6/site-packages/ipykernel_launcher.py:28: FutureWarning: Method .as_matrix will be removed in a future version. Use .values instead.\n",
      "/Users/johnmarshall/miniconda2/envs/py36_photometry_analysis/lib/python3.6/site-packages/ipykernel_launcher.py:29: FutureWarning: Method .as_matrix will be removed in a future version. Use .values instead.\n"
     ]
    },
    {
     "data": {
      "text/plain": [
       "()"
      ]
     },
     "execution_count": 62,
     "metadata": {},
     "output_type": "execute_result"
    }
   ],
   "source": [
    "plot_multiple_sweeps_from_class(_recording_demod, _recording_demod.class_df, ['sweep003'],\n",
    "                                ['channel_1_demod'], (5,5), 0.1,\n",
    "                               0.1, 'time', 'time (seconds)', 'detector power', False)"
   ]
  },
  {
   "cell_type": "code",
   "execution_count": null,
   "metadata": {},
   "outputs": [],
   "source": []
  },
  {
   "cell_type": "code",
   "execution_count": 7,
   "metadata": {},
   "outputs": [
    {
     "data": {
      "text/plain": [
       "True"
      ]
     },
     "execution_count": 7,
     "metadata": {},
     "output_type": "execute_result"
    }
   ],
   "source": [
    "#save df to .hdf5 file\n",
    "_recording_demod.save_to_hdf(fname_for_saving) "
   ]
  },
  {
   "cell_type": "markdown",
   "metadata": {},
   "source": [
    "# functions to calculate baseline/variance/smooth filter a given channel "
   ]
  },
  {
   "cell_type": "code",
   "execution_count": null,
   "metadata": {},
   "outputs": [],
   "source": [
    "#_recording_demod  = photometry_3.photometry_df_from_file('/Users/johnmarshall/Documents/Analysis/PhotometryData/October2018/10262018/18o26000demodulated.h5')\n",
    "#fname_for_saving = '/Users/johnmarshall/Documents/Analysis/PhotometryData/October2018/10262018/18o26000'"
   ]
  },
  {
   "cell_type": "code",
   "execution_count": 63,
   "metadata": {},
   "outputs": [],
   "source": [
    "class_name = _recording_demod\n",
    "df_input = _recording_demod.class_df\n",
    "channels_to_calc = ['channel_1_demod', 'channel_2_demod']\n",
    "window_time = (5,5)\n",
    "sliding_baseline_length = .1"
   ]
  },
  {
   "cell_type": "code",
   "execution_count": 64,
   "metadata": {
    "scrolled": false
   },
   "outputs": [
    {
     "name": "stdout",
     "output_type": "stream",
     "text": [
      "sweep001\n"
     ]
    },
    {
     "name": "stderr",
     "output_type": "stream",
     "text": [
      "/Users/johnmarshall/Documents/Analysis/PythonAnalysisScripts/photometry_analysis/photometry_3.py:624: FutureWarning: Method .as_matrix will be removed in a future version. Use .values instead.\n",
      "  sweep_dict[column_nv] = df_input.loc[sweep][column_nv].as_matrix()[windowed_start:windowed_end]\n",
      "/Users/johnmarshall/Documents/Analysis/PythonAnalysisScripts/photometry_analysis/photometry_3.py:627: FutureWarning: Method .as_matrix will be removed in a future version. Use .values instead.\n",
      "  array_length = len(df_input.loc[sweep]['time'].as_matrix()[windowed_start:windowed_end])\n",
      "/Users/johnmarshall/Documents/Analysis/PythonAnalysisScripts/photometry_analysis/photometry_3.py:653: FutureWarning: Method .as_matrix will be removed in a future version. Use .values instead.\n",
      "  toadd = F_f0(df_input.loc[sweep][column_v].as_matrix()[windowed_start:windowed_end], Fs, sliding_baseline_length)\n"
     ]
    },
    {
     "name": "stdout",
     "output_type": "stream",
     "text": [
      "sweep002\n",
      "sweep003\n",
      "sweep004\n",
      "sweep005\n",
      "sweep006\n",
      "sweep007\n",
      "sweep008\n"
     ]
    }
   ],
   "source": [
    "_recording_demod_F_F0 = photometry_3.transform_df(class_name, \n",
    "                                           channels_to_calc, \n",
    "                                           window_time, \n",
    "                                           {'F_F0': sliding_baseline_length})"
   ]
  },
  {
   "cell_type": "code",
   "execution_count": 67,
   "metadata": {},
   "outputs": [
    {
     "data": {
      "text/plain": [
       "True"
      ]
     },
     "execution_count": 67,
     "metadata": {},
     "output_type": "execute_result"
    }
   ],
   "source": [
    "#save df to .hdf5 file\n",
    "#fname_for_saving = '/Users/johnmarshall/Documents/Analysis/PhotometryData/August2018/08282018/18828000_F_F0.h5'\n",
    "_recording_demod_F_F0.save_to_hdf(fname_for_saving+'_F_F0_100msecbaseline') "
   ]
  },
  {
   "cell_type": "code",
   "execution_count": null,
   "metadata": {
    "scrolled": false
   },
   "outputs": [],
   "source": [
    "_recording_demod_F_F0.class_df.columns.values"
   ]
  },
  {
   "cell_type": "code",
   "execution_count": 68,
   "metadata": {
    "scrolled": true
   },
   "outputs": [
    {
     "name": "stdout",
     "output_type": "stream",
     "text": [
      "Warning: Cannot change to a different GUI toolkit: qt5. Using qt instead.\n"
     ]
    },
    {
     "name": "stderr",
     "output_type": "stream",
     "text": [
      "/Users/johnmarshall/miniconda2/envs/py36_photometry_analysis/lib/python3.6/site-packages/ipykernel_launcher.py:28: FutureWarning: Method .as_matrix will be removed in a future version. Use .values instead.\n",
      "/Users/johnmarshall/miniconda2/envs/py36_photometry_analysis/lib/python3.6/site-packages/ipykernel_launcher.py:29: FutureWarning: Method .as_matrix will be removed in a future version. Use .values instead.\n"
     ]
    },
    {
     "data": {
      "text/plain": [
       "()"
      ]
     },
     "execution_count": 68,
     "metadata": {},
     "output_type": "execute_result"
    }
   ],
   "source": [
    "plot_multiple_sweeps_from_class(_recording_demod_F_F0, _recording_demod_F_F0.class_df, ['sweep001'],\n",
    "                                ['encoder_windowed','channel_1_demod_F_F0', 'channel_2_demod_F_F0'], (0,0), 0.1,\n",
    "                               0.1, 'time', 'time (seconds)', 'detector power', False)"
   ]
  },
  {
   "cell_type": "code",
   "execution_count": 53,
   "metadata": {},
   "outputs": [],
   "source": [
    "filtered = photometry_3.gaussian_filter_signal(_recording_demod_F_F0_filtered.class_df['channel_1_demod_F_F0'], 5000)"
   ]
  },
  {
   "cell_type": "code",
   "execution_count": 52,
   "metadata": {},
   "outputs": [
    {
     "data": {
      "text/plain": [
       "[<matplotlib.lines.Line2D at 0x1c2aad8fd0>]"
      ]
     },
     "execution_count": 52,
     "metadata": {},
     "output_type": "execute_result"
    }
   ],
   "source": [
    "plt.plot(filtered)"
   ]
  },
  {
   "cell_type": "code",
   "execution_count": 56,
   "metadata": {},
   "outputs": [],
   "source": [
    "z_score = photometry_3.get_z_score(_recording_demod_F_F0.class_df['channel_1_demod_F_F0'].values)"
   ]
  },
  {
   "cell_type": "code",
   "execution_count": 58,
   "metadata": {},
   "outputs": [
    {
     "data": {
      "text/plain": [
       "[<matplotlib.lines.Line2D at 0x1c2a2fabe0>]"
      ]
     },
     "execution_count": 58,
     "metadata": {},
     "output_type": "execute_result"
    }
   ],
   "source": [
    "plt.plot(_recording_demod_F_F0.class_df['channel_1_demod_F_F0'].values)"
   ]
  },
  {
   "cell_type": "markdown",
   "metadata": {},
   "source": [
    "# gaussian filter signal"
   ]
  },
  {
   "cell_type": "code",
   "execution_count": 15,
   "metadata": {},
   "outputs": [],
   "source": [
    "class_name = _recording_demod_F_F0\n",
    "channels_to_calc = ['channel_1_demod_F_F0']\n",
    "window_time = (0,0)"
   ]
  },
  {
   "cell_type": "code",
   "execution_count": 23,
   "metadata": {},
   "outputs": [
    {
     "name": "stdout",
     "output_type": "stream",
     "text": [
      "sweep001\n",
      "sweep002\n",
      "sweep003\n"
     ]
    },
    {
     "name": "stderr",
     "output_type": "stream",
     "text": [
      "/Users/johnmarshall/Documents/Analysis/PythonAnalysisScripts/photometry_analysis/photometry_3.py:624: FutureWarning: Method .as_matrix will be removed in a future version. Use .values instead.\n",
      "  sweep_dict[column_nv] = df_input.loc[sweep][column_nv].as_matrix()[windowed_start:windowed_end]\n",
      "/Users/johnmarshall/Documents/Analysis/PythonAnalysisScripts/photometry_analysis/photometry_3.py:627: FutureWarning: Method .as_matrix will be removed in a future version. Use .values instead.\n",
      "  array_length = len(df_input.loc[sweep]['time'].as_matrix()[windowed_start:windowed_end])\n"
     ]
    },
    {
     "name": "stdout",
     "output_type": "stream",
     "text": [
      "sweep004\n",
      "sweep005\n",
      "sweep006\n",
      "sweep007\n",
      "sweep008\n"
     ]
    }
   ],
   "source": [
    "_recording_demod_F_F0_filtered = photometry_3.transform_df(class_name, \n",
    "                                           channels_to_calc, \n",
    "                                           window_time, \n",
    "                                           {'gaussian_filter_signal': 1000})"
   ]
  },
  {
   "cell_type": "code",
   "execution_count": 24,
   "metadata": {},
   "outputs": [
    {
     "data": {
      "text/plain": [
       "array(['time', 'encoder_windowed', 'fluorescence_channel_1_windowed',\n",
       "       'channel_1_demod', 'channel_2_demod', 'channel_1_demod_F_F0',\n",
       "       'channel_2_demod_F_F0'], dtype=object)"
      ]
     },
     "execution_count": 24,
     "metadata": {},
     "output_type": "execute_result"
    }
   ],
   "source": [
    "_recording_demod_F_F0_filtered.class_df.columns.values"
   ]
  },
  {
   "cell_type": "code",
   "execution_count": 29,
   "metadata": {},
   "outputs": [],
   "source": [
    "#_recording_demod_F_F0_filtered.class_df['channel_1_demod_F_F0']"
   ]
  },
  {
   "cell_type": "code",
   "execution_count": 38,
   "metadata": {},
   "outputs": [],
   "source": [
    "filtered = photometry_3.gaussian_filter_signal(_recording_demod_F_F0_filtered.class_df['channel_1_demod_F_F0'], 1)"
   ]
  },
  {
   "cell_type": "code",
   "execution_count": 39,
   "metadata": {},
   "outputs": [
    {
     "data": {
      "text/plain": [
       "[<matplotlib.lines.Line2D at 0x1c2ad0ea20>]"
      ]
     },
     "execution_count": 39,
     "metadata": {},
     "output_type": "execute_result"
    }
   ],
   "source": [
    "plt.plot(filtered)"
   ]
  },
  {
   "cell_type": "code",
   "execution_count": 35,
   "metadata": {
    "scrolled": true
   },
   "outputs": [
    {
     "name": "stdout",
     "output_type": "stream",
     "text": [
      "Warning: Cannot change to a different GUI toolkit: qt5. Using qt instead.\n"
     ]
    },
    {
     "name": "stderr",
     "output_type": "stream",
     "text": [
      "/Users/johnmarshall/miniconda2/envs/py36_photometry_analysis/lib/python3.6/site-packages/ipykernel_launcher.py:28: FutureWarning: Method .as_matrix will be removed in a future version. Use .values instead.\n",
      "/Users/johnmarshall/miniconda2/envs/py36_photometry_analysis/lib/python3.6/site-packages/ipykernel_launcher.py:29: FutureWarning: Method .as_matrix will be removed in a future version. Use .values instead.\n"
     ]
    },
    {
     "data": {
      "text/plain": [
       "()"
      ]
     },
     "execution_count": 35,
     "metadata": {},
     "output_type": "execute_result"
    }
   ],
   "source": [
    "plot_multiple_sweeps_from_class(_recording_demod_F_F0_filtered, \n",
    "                                _recording_demod_F_F0_filtered.class_df, ['sweep004'],\n",
    "                                ['channel_1_demod_F_F0'], \n",
    "                                (10,10), 0.1,\n",
    "                               0.1, 'time', 'time (seconds)', 'detector power', False)"
   ]
  },
  {
   "cell_type": "markdown",
   "metadata": {},
   "source": [
    "# functions to align sweeps to threshold events "
   ]
  },
  {
   "cell_type": "code",
   "execution_count": null,
   "metadata": {},
   "outputs": [],
   "source": [
    "## need to trigger files \n",
    "\n",
    "\n",
    "def return_indicies(class_name, channel_to_trigger, amplitude_threshold, time_threshold, window_time):\n",
    "\n",
    "    \"\"\"\n",
    "    Input: \n",
    "            \n",
    "            window time in tuple as before    \n",
    "    \n",
    "    Output: numpy array of sample points from input channel where trace passes above threshold\n",
    "    \"\"\"\n",
    "    indicies_from_trigger_channel_by_sweep = {}\n",
    "    for sweep in sorted(list(set(class_name.class_df.index.get_level_values(0)))):\n",
    "        trace = class_name.class_df.loc[sweep][channel_to_trigger].values\n",
    "        event_number, sample_indicies = photometry_3.count_events_in_array(trace,\n",
    "                                                                 class_name.dt, \n",
    "                                                                 time_threshold, \n",
    "                                                                 amplitude_threshold)\n",
    "        # remove sample indicies outside of \"window\"\n",
    "        sample_indicies_to_add = [i for i in sample_indicies if (window_time[0] < i < window_time[1])]\n",
    "        \n",
    "        if event_number > 0:\n",
    "            indicies_from_trigger_channel_by_sweep[sweep] = sample_indicies_to_add\n",
    "\n",
    "    return(indicies_from_trigger_channel_by_sweep)\n",
    "\n",
    "def align_on_trigger(class_name, channel_to_trigger, channels_to_align, amplitdue_threshold, time_threshold, \n",
    "                     time_region, window_time=(0,0)):\n",
    "    \"\"\"\n",
    "    Output: dataframe of trace regions surrounding threshold for all channels\n",
    "    \"\"\"\n",
    "    \n",
    "    # call return indicies to get sample indicies\n",
    "    \n",
    "    indicies_from_trigger_channel = return_indicies(class_name, channel_to_trigger, \n",
    "                                                    amplitdue_threshold, time_threshold, window_time)\n",
    "    \n",
    "    by_channel_by_sweep = {}\n",
    "    region_in_samples = time_region*class_name.Fs\n",
    "    \n",
    "    channels_to_align.append(channel_to_trigger)\n",
    "    for channel in channels_to_align:\n",
    "        for sweep in sorted(list(set(class_name.class_df.index.get_level_values(0)))):\n",
    "            if sweep in list(indicies_from_trigger_channel.keys()):\n",
    "                \n",
    "                by_index = {}\n",
    "                for i in indicies_from_trigger_channel[sweep]:\n",
    "            \n",
    "                    \n",
    "                    if int(i-region_in_samples) < 0:\n",
    "                        trace_region = np.pad(class_name.class_df.loc[sweep][channel].values[0:int(i+region_in_samples)], \n",
    "                                              (int(region_in_samples*2)-int(i+region_in_samples), 0), 'constant', constant_values=np.nan)\n",
    "                    \n",
    "                    \n",
    "                    elif int(i+region_in_samples) > len(class_name.class_df.loc[sweep][channel].values):\n",
    "                        trace_region = np.pad(class_name.class_df.loc[sweep][channel].values[(i-region_in_samples):], \n",
    "                                              (0, int(i+region_in_samples)-len(class_name.class_df.loc[sweep][channel].values))\n",
    "                                              , 'constant', constant_values=np.nan)\n",
    "                        \n",
    "                    else:\n",
    "                        trace_region = class_name.class_df.loc[sweep][channel].values[int(i-region_in_samples):int(i+region_in_samples)]\n",
    "\n",
    "                    by_index[i] = trace_region\n",
    "                    \n",
    "                index = list(range(int(-region_in_samples), int(region_in_samples)))\n",
    "        \n",
    "                by_index = pd.DataFrame(by_index)\n",
    "                                                                \n",
    "                by_channel_by_sweep[(channel, sweep)] = by_index\n",
    "            else:\n",
    "                pass\n",
    "             \n",
    "    return(by_channel_by_sweep)\n",
    "        \n",
    "        \n",
    "def average_sweep_responses(dict_of_dfs):\n",
    "    \n",
    "    channels = list(set((list(regions.keys()))[i][0] for i in range(len(regions.keys()))))\n",
    "    sweeps = list(set((list(regions.keys()))[i][1] for i in range(len(regions.keys()))))\n",
    "    \n",
    "    channel_means = {}\n",
    "    \n",
    "    for channel in channels:\n",
    "        list_to_concat = []\n",
    "        for sweep in sweeps:\n",
    "            for key in list(dict_of_dfs.keys()):\n",
    "                if channel in key:\n",
    "                    list_to_concat.append(regions[key].mean(axis=1))\n",
    "        \n",
    "        channel_means[channel] = pd.concat(list_to_concat, axis=1).mean(axis=1)\n",
    "        \n",
    "    mean_df = pd.DataFrame(channel_means)\n",
    "    \n",
    "    return(mean_df)\n",
    "        \n",
    "    "
   ]
  },
  {
   "cell_type": "code",
   "execution_count": null,
   "metadata": {},
   "outputs": [],
   "source": [
    "_recording_demod_F_F0_endcodervariance.class_df['encoder_windowed_variance'].mean()"
   ]
  },
  {
   "cell_type": "code",
   "execution_count": null,
   "metadata": {},
   "outputs": [],
   "source": [
    "_recording_demod_F_F0_endcodervariance.class_df['encoder_windowed_variance'].std()"
   ]
  },
  {
   "cell_type": "code",
   "execution_count": null,
   "metadata": {},
   "outputs": [],
   "source": [
    "np.mean(_recording_demod_F_F0_endcodervariance.class_df['encoder_windowed_variance'].values)"
   ]
  },
  {
   "cell_type": "code",
   "execution_count": null,
   "metadata": {},
   "outputs": [],
   "source": [
    "np.std(_recording_demod_F_F0_endcodervariance.class_df['encoder_windowed_variance'].values)"
   ]
  },
  {
   "cell_type": "code",
   "execution_count": null,
   "metadata": {},
   "outputs": [],
   "source": [
    "regions = align_on_trigger(_recording_demod_F_F0_endcodervariance, \n",
    "                                                     'encoder_windowed_variance', \n",
    "                                                     ['channel_1_demod_F_F0', 'channel_2_demod_F_F0'],\n",
    "                                                     8, \n",
    "                                                     1000, \n",
    "                                                     5)"
   ]
  },
  {
   "cell_type": "code",
   "execution_count": null,
   "metadata": {},
   "outputs": [],
   "source": [
    "regions[('encoder_windowed_variance', 'sweep013')]"
   ]
  },
  {
   "cell_type": "code",
   "execution_count": null,
   "metadata": {},
   "outputs": [],
   "source": [
    "mean_df = average_sweep_responses(regions)"
   ]
  },
  {
   "cell_type": "code",
   "execution_count": null,
   "metadata": {},
   "outputs": [],
   "source": [
    "list(regions.keys())"
   ]
  },
  {
   "cell_type": "code",
   "execution_count": null,
   "metadata": {
    "scrolled": false
   },
   "outputs": [],
   "source": [
    "plt.subplot(3,1,1)\n",
    "plt.plot(mean_df['encoder_windowed_variance'].values)\n",
    "plt.xlabel('time (samples (10000Hz))')\n",
    "plt.ylabel('encoder variance')\n",
    "plt.subplot(3,1,2)\n",
    "plt.plot(mean_df['channel_1_demod_F_F0'].values)\n",
    "plt.xlabel('time (samples (10000Hz))')\n",
    "plt.ylabel('F/F0 488')\n",
    "plt.subplot(3,1,3)\n",
    "plt.plot(mean_df['channel_2_demod_F_F0'].values)\n",
    "plt.xlabel('time (samples (10000Hz))')\n",
    "plt.ylabel('F/F0 405')\n",
    "plt.show()"
   ]
  },
  {
   "cell_type": "code",
   "execution_count": null,
   "metadata": {},
   "outputs": [],
   "source": [
    "mean_df"
   ]
  }
 ],
 "metadata": {
  "kernelspec": {
   "display_name": "Python 3",
   "language": "python",
   "name": "python3"
  },
  "language_info": {
   "codemirror_mode": {
    "name": "ipython",
    "version": 3
   },
   "file_extension": ".py",
   "mimetype": "text/x-python",
   "name": "python",
   "nbconvert_exporter": "python",
   "pygments_lexer": "ipython3",
   "version": "3.6.6"
  }
 },
 "nbformat": 4,
 "nbformat_minor": 2
}
