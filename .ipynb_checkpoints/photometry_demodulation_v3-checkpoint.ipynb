{
 "cells": [
  {
   "cell_type": "markdown",
   "metadata": {},
   "source": [
    "# Script to demodulate photometry experiment collected with Axon digidata "
   ]
  },
  {
   "cell_type": "code",
   "execution_count": 2,
   "metadata": {
    "scrolled": false
   },
   "outputs": [
    {
     "data": {
      "text/html": [
       "<style>.container { width:100% !important; }</style>"
      ],
      "text/plain": [
       "<IPython.core.display.HTML object>"
      ]
     },
     "metadata": {},
     "output_type": "display_data"
    }
   ],
   "source": [
    "## additional packages needed to run\n",
    "from importlib import reload\n",
    "from IPython.core.display import display, HTML\n",
    "display(HTML(\"<style>.container { width:100% !important; }</style>\"))\n",
    "import sys \n",
    "import neo \n",
    "from neo import io\n",
    "import pandas as pd\n",
    "import numpy as np\n",
    "import yaml\n",
    "import sys \n",
    "import photometry_3\n",
    "get_ipython().magic('matplotlib qt')\n",
    "#%matplotlib qt5\n",
    "import matplotlib.pyplot as plt"
   ]
  },
  {
   "cell_type": "code",
   "execution_count": 3,
   "metadata": {},
   "outputs": [],
   "source": [
    "## function for plotting graphs from stored data \n",
    "def plot_multiple_sweeps_from_class(class_name, df_to_load, sweeps_list, channels_list, window, wspace=0.1, hspace=0.1, \n",
    "                                    X_axis_column=None, X_label=None, Y_labels=None, _inline=False):\n",
    "    \"\"\"Inputs: \n",
    "    window (tuple of time values)\"\"\" \n",
    "    if sweeps_list == 'all':\n",
    "        sweeps_to_plot = sorted(list(set(df_to_load.index.get_level_values(0))))\n",
    "    else:\n",
    "        sweeps_to_plot = sweeps_list\n",
    "    windowed_start = int(window[0]*class_name.Fs)\n",
    "    windowed_end = len(df_to_load.loc[sweeps_to_plot[0]][str(channels_list[0])]) - int(window[1]*class_name.Fs)\n",
    "    if _inline == False:\n",
    "        %matplotlib qt5\n",
    "    else: \n",
    "        %matplotlib inline\n",
    "    plt.subplots_adjust(wspace, hspace)\n",
    "    \n",
    "    \n",
    "    # sweeps are plotted by column\n",
    "    column_num = int(len(sweeps_to_plot))\n",
    "    # channels are plotted by row\n",
    "    row_num = int(len(channels_list))\n",
    "    subplot_index = 1\n",
    "    for channel_to_plot in range(len(channels_list)):\n",
    "        for sweep in range(len(sweeps_to_plot)):\n",
    "            plt.subplot(row_num, column_num, subplot_index)\n",
    "            if X_axis_column:\n",
    "                plt.plot(df_to_load.loc[str(sweeps_to_plot[sweep])][str(X_axis_column)].as_matrix()[windowed_start:windowed_end],\n",
    "                        df_to_load.loc[str(sweeps_to_plot[sweep])][str(channels_list[channel_to_plot])].as_matrix()[windowed_start:windowed_end])\n",
    "            else:\n",
    "                plt.plot(df_to_load.loc[str(sweeps_to_plot[sweep])][str(channels_list[channel_to_plot])].as_matrix()[windowed_start:windowed_end])\n",
    "            if X_label:\n",
    "                plt.xlabel(X_label)\n",
    "            if Y_labels:\n",
    "                plt.ylabel(str(Y_labels[subplot_index]))\n",
    "            else:\n",
    "                plt.ylabel(str(channels_list[channel_to_plot]))\n",
    "            subplot_index += 1\n",
    "                           \n",
    "    plt.show()\n",
    "    return()\n",
    "    "
   ]
  },
  {
   "cell_type": "markdown",
   "metadata": {},
   "source": [
    "## input .abf file to load "
   ]
  },
  {
   "cell_type": "code",
   "execution_count": 15,
   "metadata": {
    "scrolled": true
   },
   "outputs": [],
   "source": [
    "#input path to file \n",
    "file = '/Users/johnmarshall/Documents/Analysis/PhotometryData/2019/07152019/19715010.abf'\n",
    "file_to_load = file\n",
    "fname_for_saving = file.rstrip('.abf')\n",
    "#use True or False to indicate if the experiment has rotary endocder data (for head fixed experiment) or not\n",
    "#if True, also pass list with encoder channels\n",
    "#need to add a column that has time according to run not just per sweep \n",
    "_recording = photometry_3.raw_photometry_file(file_to_load, .1, False)\n",
    "\n",
    "#input path to background file \n",
    "bckground_file = '/Users/johnmarshall/Documents/Analysis/PhotometryData/2019/07152019/19715013.abf'\n",
    "bckground_fname_for_saving = bckground_file.rstrip('.abf')\n",
    "_recording_bckground = photometry_3.raw_photometry_file(bckground_file, .1, False)\n",
    "\n",
    "\n"
   ]
  },
  {
   "cell_type": "code",
   "execution_count": 18,
   "metadata": {
    "scrolled": true
   },
   "outputs": [
    {
     "name": "stdout",
     "output_type": "stream",
     "text": [
      "Warning: Cannot change to a different GUI toolkit: qt5. Using qt instead.\n"
     ]
    },
    {
     "name": "stderr",
     "output_type": "stream",
     "text": [
      "/Users/johnmarshall/miniconda2/envs/py36_photometry_analysis/lib/python3.6/site-packages/ipykernel_launcher.py:28: FutureWarning: Method .as_matrix will be removed in a future version. Use .values instead.\n",
      "/Users/johnmarshall/miniconda2/envs/py36_photometry_analysis/lib/python3.6/site-packages/ipykernel_launcher.py:29: FutureWarning: Method .as_matrix will be removed in a future version. Use .values instead.\n"
     ]
    },
    {
     "data": {
      "text/plain": [
       "()"
      ]
     },
     "execution_count": 18,
     "metadata": {},
     "output_type": "execute_result"
    }
   ],
   "source": [
    "# plot sweeps (class_name, df, list of sweeps to load or 'all', list of channels, time to window, \n",
    "# borderspace, headspace, column name to use for x axis, y axis label, inline plotting=True/False)\n",
    "# use _recording.cont_df for rotary encoder data _recording.class_df if none \n",
    "plot_multiple_sweeps_from_class(_recording, _recording.class_df, ['sweep002']\n",
    "                                , ['channel_0', 'channel_1','channel_2','channel_3'], (0,0), 0.1,\n",
    "                               0.1, 'time', 'time (seconds)', 'detector power', False)"
   ]
  },
  {
   "cell_type": "code",
   "execution_count": 17,
   "metadata": {},
   "outputs": [
    {
     "name": "stdout",
     "output_type": "stream",
     "text": [
      "Warning: Cannot change to a different GUI toolkit: qt5. Using qt instead.\n"
     ]
    },
    {
     "name": "stderr",
     "output_type": "stream",
     "text": [
      "/Users/johnmarshall/miniconda2/envs/py36_photometry_analysis/lib/python3.6/site-packages/ipykernel_launcher.py:28: FutureWarning: Method .as_matrix will be removed in a future version. Use .values instead.\n",
      "/Users/johnmarshall/miniconda2/envs/py36_photometry_analysis/lib/python3.6/site-packages/ipykernel_launcher.py:29: FutureWarning: Method .as_matrix will be removed in a future version. Use .values instead.\n"
     ]
    },
    {
     "data": {
      "text/plain": [
       "()"
      ]
     },
     "execution_count": 17,
     "metadata": {},
     "output_type": "execute_result"
    }
   ],
   "source": [
    "plot_multiple_sweeps_from_class(_recording_bckground, _recording_bckground.class_df, ['sweep001']\n",
    "                                , ['channel_0', 'channel_3','channel_4','channel_5'], (0,0), 0.1,\n",
    "                               0.1, 'time', 'time (seconds)', 'detector power', False)"
   ]
  },
  {
   "cell_type": "code",
   "execution_count": 19,
   "metadata": {},
   "outputs": [
    {
     "data": {
      "text/plain": [
       "True"
      ]
     },
     "execution_count": 19,
     "metadata": {},
     "output_type": "execute_result"
    }
   ],
   "source": [
    "#save df to .hdf5 file\n",
    "fname_for_saving = file.rstrip('.abf')\n",
    "_recording.save_to_hdf(fname_for_saving) "
   ]
  },
  {
   "cell_type": "markdown",
   "metadata": {},
   "source": [
    "# load demodulation parameters from file and run demodulation"
   ]
  },
  {
   "cell_type": "code",
   "execution_count": 20,
   "metadata": {},
   "outputs": [],
   "source": [
    "# default parameters are stored in 'default_photometry_params.yml' in photometry_3.0 folder \n",
    "with open('default_photometry_params.yml', 'r') as stream:\n",
    "    params_for_demodulation_file = yaml.load(stream)"
   ]
  },
  {
   "cell_type": "code",
   "execution_count": 21,
   "metadata": {},
   "outputs": [],
   "source": [
    "# default parameters are stored in 'default_photometry_params.yml' in photometry_3.0 folder \n",
    "with open('default_photometry_params_background.yml', 'r') as stream:\n",
    "    params_for_background_demodulation_file = yaml.load(stream)"
   ]
  },
  {
   "cell_type": "code",
   "execution_count": 22,
   "metadata": {},
   "outputs": [
    {
     "name": "stdout",
     "output_type": "stream",
     "text": [
      "demodulating sweep sweep001\n",
      "prefilter channel 1\n"
     ]
    },
    {
     "name": "stderr",
     "output_type": "stream",
     "text": [
      "/Users/johnmarshall/Documents/Analysis/PythonAnalysisScripts/photometry_analysis/photometry_3.py:488: FutureWarning: Method .as_matrix will be removed in a future version. Use .values instead.\n",
      "  sweep_dict['time'] = file_df.loc[sweep]['time'].as_matrix()[windowed_start:windowed_end]\n",
      "/Users/johnmarshall/Documents/Analysis/PythonAnalysisScripts/photometry_analysis/photometry_3.py:491: FutureWarning: Method .as_matrix will be removed in a future version. Use .values instead.\n",
      "  encoder_windowed = file_df.loc[sweep][encoder_channel].as_matrix()[windowed_start:windowed_end]\n",
      "/Users/johnmarshall/Documents/Analysis/PythonAnalysisScripts/photometry_analysis/photometry_3.py:495: FutureWarning: Method .as_matrix will be removed in a future version. Use .values instead.\n",
      "  fluorescence_channel_1_windowed = file_df.loc[sweep][fluorescence_channel_1].as_matrix()[windowed_start:windowed_end]\n",
      "/Users/johnmarshall/Documents/Analysis/PythonAnalysisScripts/photometry_analysis/photometry_3.py:499: FutureWarning: Method .as_matrix will be removed in a future version. Use .values instead.\n",
      "  modulation_channel_1_windowed = file_df.loc[sweep][modulation_channel_1].as_matrix()[windowed_start:windowed_end]\n",
      "/Users/johnmarshall/Documents/Analysis/PythonAnalysisScripts/photometry_analysis/photometry_3.py:504: FutureWarning: Method .as_matrix will be removed in a future version. Use .values instead.\n",
      "  modulation_channel_2_windowed = file_df.loc[sweep][modulation_channel_2].as_matrix()[windowed_start:windowed_end]\n",
      "/Users/johnmarshall/miniconda2/envs/py36_photometry_analysis/lib/python3.6/site-packages/scipy/signal/_arraytools.py:45: FutureWarning: Using a non-tuple sequence for multidimensional indexing is deprecated; use `arr[tuple(seq)]` instead of `arr[seq]`. In the future this will be interpreted as an array index, `arr[np.array(seq)]`, which will result either in an error or a different result.\n",
      "  b = a[a_slice]\n"
     ]
    },
    {
     "name": "stdout",
     "output_type": "stream",
     "text": [
      "demodulating channel 1\n",
      "demodulating/summing in quadrature channel 1\n",
      "prefilter channel 2\n",
      "demodulating channel 2\n",
      "demodulating/summing in quadrature channel 2\n",
      "sweep sweep001 done\n",
      "demodulating sweep sweep002\n",
      "prefilter channel 1\n",
      "demodulating channel 1\n",
      "demodulating/summing in quadrature channel 1\n",
      "prefilter channel 2\n",
      "demodulating channel 2\n",
      "demodulating/summing in quadrature channel 2\n",
      "sweep sweep002 done\n",
      "demodulating sweep sweep003\n",
      "prefilter channel 1\n",
      "demodulating channel 1\n",
      "demodulating/summing in quadrature channel 1\n",
      "prefilter channel 2\n",
      "demodulating channel 2\n",
      "demodulating/summing in quadrature channel 2\n",
      "sweep sweep003 done\n",
      "demodulating sweep sweep004\n",
      "prefilter channel 1\n",
      "demodulating channel 1\n",
      "demodulating/summing in quadrature channel 1\n",
      "prefilter channel 2\n",
      "demodulating channel 2\n",
      "demodulating/summing in quadrature channel 2\n",
      "sweep sweep004 done\n",
      "demodulating sweep sweep005\n",
      "prefilter channel 1\n",
      "demodulating channel 1\n",
      "demodulating/summing in quadrature channel 1\n",
      "prefilter channel 2\n",
      "demodulating channel 2\n",
      "demodulating/summing in quadrature channel 2\n",
      "sweep sweep005 done\n",
      "demodulating sweep sweep006\n",
      "prefilter channel 1\n",
      "demodulating channel 1\n",
      "demodulating/summing in quadrature channel 1\n",
      "prefilter channel 2\n",
      "demodulating channel 2\n",
      "demodulating/summing in quadrature channel 2\n",
      "sweep sweep006 done\n",
      "demodulating sweep sweep007\n",
      "prefilter channel 1\n",
      "demodulating channel 1\n",
      "demodulating/summing in quadrature channel 1\n",
      "prefilter channel 2\n",
      "demodulating channel 2\n",
      "demodulating/summing in quadrature channel 2\n",
      "sweep sweep007 done\n",
      "demodulating sweep sweep008\n",
      "prefilter channel 1\n",
      "demodulating channel 1\n",
      "demodulating/summing in quadrature channel 1\n",
      "prefilter channel 2\n",
      "demodulating channel 2\n",
      "demodulating/summing in quadrature channel 2\n",
      "sweep sweep008 done\n",
      "demodulating sweep sweep009\n",
      "prefilter channel 1\n",
      "demodulating channel 1\n",
      "demodulating/summing in quadrature channel 1\n",
      "prefilter channel 2\n",
      "demodulating channel 2\n",
      "demodulating/summing in quadrature channel 2\n",
      "sweep sweep009 done\n",
      "demodulating sweep sweep010\n",
      "prefilter channel 1\n",
      "demodulating channel 1\n",
      "demodulating/summing in quadrature channel 1\n",
      "prefilter channel 2\n",
      "demodulating channel 2\n",
      "demodulating/summing in quadrature channel 2\n",
      "sweep sweep010 done\n",
      "demodulating sweep sweep011\n",
      "prefilter channel 1\n",
      "demodulating channel 1\n",
      "demodulating/summing in quadrature channel 1\n",
      "prefilter channel 2\n",
      "demodulating channel 2\n",
      "demodulating/summing in quadrature channel 2\n",
      "sweep sweep011 done\n",
      "demodulating sweep sweep012\n",
      "prefilter channel 1\n",
      "demodulating channel 1\n",
      "demodulating/summing in quadrature channel 1\n",
      "prefilter channel 2\n",
      "demodulating channel 2\n",
      "demodulating/summing in quadrature channel 2\n",
      "sweep sweep012 done\n",
      "demodulating sweep sweep013\n",
      "prefilter channel 1\n",
      "demodulating channel 1\n",
      "demodulating/summing in quadrature channel 1\n",
      "prefilter channel 2\n",
      "demodulating channel 2\n",
      "demodulating/summing in quadrature channel 2\n",
      "sweep sweep013 done\n",
      "demodulating sweep sweep014\n",
      "prefilter channel 1\n",
      "demodulating channel 1\n",
      "demodulating/summing in quadrature channel 1\n",
      "prefilter channel 2\n",
      "demodulating channel 2\n",
      "demodulating/summing in quadrature channel 2\n",
      "sweep sweep014 done\n",
      "demodulating sweep sweep015\n",
      "prefilter channel 1\n",
      "demodulating channel 1\n",
      "demodulating/summing in quadrature channel 1\n",
      "prefilter channel 2\n",
      "demodulating channel 2\n",
      "demodulating/summing in quadrature channel 2\n",
      "sweep sweep015 done\n",
      "demodulating sweep sweep016\n",
      "prefilter channel 1\n",
      "demodulating channel 1\n",
      "demodulating/summing in quadrature channel 1\n",
      "prefilter channel 2\n",
      "demodulating channel 2\n",
      "demodulating/summing in quadrature channel 2\n",
      "sweep sweep016 done\n",
      "demodulating sweep sweep017\n",
      "prefilter channel 1\n",
      "demodulating channel 1\n",
      "demodulating/summing in quadrature channel 1\n",
      "prefilter channel 2\n",
      "demodulating channel 2\n",
      "demodulating/summing in quadrature channel 2\n",
      "sweep sweep017 done\n",
      "demodulating sweep sweep018\n",
      "prefilter channel 1\n",
      "demodulating channel 1\n",
      "demodulating/summing in quadrature channel 1\n",
      "prefilter channel 2\n",
      "demodulating channel 2\n",
      "demodulating/summing in quadrature channel 2\n",
      "sweep sweep018 done\n",
      "demodulating sweep sweep019\n",
      "prefilter channel 1\n",
      "demodulating channel 1\n",
      "demodulating/summing in quadrature channel 1\n",
      "prefilter channel 2\n",
      "demodulating channel 2\n",
      "demodulating/summing in quadrature channel 2\n",
      "sweep sweep019 done\n",
      "demodulating sweep sweep020\n",
      "prefilter channel 1\n",
      "demodulating channel 1\n",
      "demodulating/summing in quadrature channel 1\n",
      "prefilter channel 2\n",
      "demodulating channel 2\n",
      "demodulating/summing in quadrature channel 2\n",
      "sweep sweep020 done\n",
      "demodulating sweep sweep021\n",
      "prefilter channel 1\n",
      "demodulating channel 1\n",
      "demodulating/summing in quadrature channel 1\n",
      "prefilter channel 2\n",
      "demodulating channel 2\n",
      "demodulating/summing in quadrature channel 2\n",
      "sweep sweep021 done\n",
      "demodulating sweep sweep022\n",
      "prefilter channel 1\n",
      "demodulating channel 1\n",
      "demodulating/summing in quadrature channel 1\n",
      "prefilter channel 2\n",
      "demodulating channel 2\n",
      "demodulating/summing in quadrature channel 2\n",
      "sweep sweep022 done\n",
      "demodulating sweep sweep023\n",
      "prefilter channel 1\n",
      "demodulating channel 1\n",
      "demodulating/summing in quadrature channel 1\n",
      "prefilter channel 2\n",
      "demodulating channel 2\n",
      "demodulating/summing in quadrature channel 2\n",
      "sweep sweep023 done\n",
      "demodulating sweep sweep024\n",
      "prefilter channel 1\n",
      "demodulating channel 1\n",
      "demodulating/summing in quadrature channel 1\n",
      "prefilter channel 2\n",
      "demodulating channel 2\n",
      "demodulating/summing in quadrature channel 2\n",
      "sweep sweep024 done\n",
      "demodulating sweep sweep025\n",
      "prefilter channel 1\n",
      "demodulating channel 1\n",
      "demodulating/summing in quadrature channel 1\n",
      "prefilter channel 2\n",
      "demodulating channel 2\n",
      "demodulating/summing in quadrature channel 2\n",
      "sweep sweep025 done\n",
      "concactenating sweeps\n"
     ]
    }
   ],
   "source": [
    "# use _recording.cont_df for rotary encoder data _recording.class_df if none \n",
    "_recording_demod = _recording.demodulate_file(_recording.class_df, params_for_demodulation_file)"
   ]
  },
  {
   "cell_type": "code",
   "execution_count": 23,
   "metadata": {
    "scrolled": false
   },
   "outputs": [
    {
     "name": "stdout",
     "output_type": "stream",
     "text": [
      "demodulating sweep sweep001\n",
      "prefilter channel 1\n",
      "demodulating channel 1\n",
      "demodulating/summing in quadrature channel 1\n",
      "prefilter channel 2\n",
      "demodulating channel 2\n"
     ]
    },
    {
     "name": "stderr",
     "output_type": "stream",
     "text": [
      "/Users/johnmarshall/Documents/Analysis/PythonAnalysisScripts/photometry_analysis/photometry_3.py:488: FutureWarning: Method .as_matrix will be removed in a future version. Use .values instead.\n",
      "  sweep_dict['time'] = file_df.loc[sweep]['time'].as_matrix()[windowed_start:windowed_end]\n",
      "/Users/johnmarshall/Documents/Analysis/PythonAnalysisScripts/photometry_analysis/photometry_3.py:491: FutureWarning: Method .as_matrix will be removed in a future version. Use .values instead.\n",
      "  encoder_windowed = file_df.loc[sweep][encoder_channel].as_matrix()[windowed_start:windowed_end]\n",
      "/Users/johnmarshall/Documents/Analysis/PythonAnalysisScripts/photometry_analysis/photometry_3.py:495: FutureWarning: Method .as_matrix will be removed in a future version. Use .values instead.\n",
      "  fluorescence_channel_1_windowed = file_df.loc[sweep][fluorescence_channel_1].as_matrix()[windowed_start:windowed_end]\n",
      "/Users/johnmarshall/Documents/Analysis/PythonAnalysisScripts/photometry_analysis/photometry_3.py:499: FutureWarning: Method .as_matrix will be removed in a future version. Use .values instead.\n",
      "  modulation_channel_1_windowed = file_df.loc[sweep][modulation_channel_1].as_matrix()[windowed_start:windowed_end]\n",
      "/Users/johnmarshall/Documents/Analysis/PythonAnalysisScripts/photometry_analysis/photometry_3.py:504: FutureWarning: Method .as_matrix will be removed in a future version. Use .values instead.\n",
      "  modulation_channel_2_windowed = file_df.loc[sweep][modulation_channel_2].as_matrix()[windowed_start:windowed_end]\n",
      "/Users/johnmarshall/miniconda2/envs/py36_photometry_analysis/lib/python3.6/site-packages/scipy/signal/_arraytools.py:45: FutureWarning: Using a non-tuple sequence for multidimensional indexing is deprecated; use `arr[tuple(seq)]` instead of `arr[seq]`. In the future this will be interpreted as an array index, `arr[np.array(seq)]`, which will result either in an error or a different result.\n",
      "  b = a[a_slice]\n"
     ]
    },
    {
     "name": "stdout",
     "output_type": "stream",
     "text": [
      "demodulating/summing in quadrature channel 2\n",
      "sweep sweep001 done\n",
      "demodulating sweep sweep002\n",
      "prefilter channel 1\n",
      "demodulating channel 1\n",
      "demodulating/summing in quadrature channel 1\n",
      "prefilter channel 2\n",
      "demodulating channel 2\n",
      "demodulating/summing in quadrature channel 2\n",
      "sweep sweep002 done\n",
      "demodulating sweep sweep003\n",
      "prefilter channel 1\n",
      "demodulating channel 1\n",
      "demodulating/summing in quadrature channel 1\n",
      "prefilter channel 2\n",
      "demodulating channel 2\n",
      "demodulating/summing in quadrature channel 2\n",
      "sweep sweep003 done\n",
      "concactenating sweeps\n"
     ]
    }
   ],
   "source": [
    "# demodulate background with same parameters \n",
    "_recording_demod_bckground = _recording_bckground.demodulate_file(_recording_bckground.class_df, params_for_background_demodulation_file)"
   ]
  },
  {
   "cell_type": "code",
   "execution_count": null,
   "metadata": {
    "scrolled": false
   },
   "outputs": [],
   "source": [
    "plot_multiple_sweeps_from_class(_recording_demod, _recording_demod.class_df, ['sweep003'],\n",
    "                                ['encoder_windowed', 'channel_1_demod', 'channel_2_demod'], (5,5), 0.1,\n",
    "                               0.1, 'time', 'time (seconds)', 'detector power', False)"
   ]
  },
  {
   "cell_type": "code",
   "execution_count": null,
   "metadata": {},
   "outputs": [],
   "source": [
    "plot_multiple_sweeps_from_class(_recording_demod_bckground, _recording_demod_bckground.class_df, ['sweep003'],\n",
    "                                ['encoder_windowed', 'channel_1_demod', 'channel_2_demod'], (5,5), 0.1,\n",
    "                               0.1, 'time', 'time (seconds)', 'detector power', False)"
   ]
  },
  {
   "cell_type": "code",
   "execution_count": null,
   "metadata": {
    "scrolled": true
   },
   "outputs": [],
   "source": [
    "#save df to .hdf5 file\n",
    "_recording_demod.save_to_hdf(fname_for_saving) \n",
    "_recording_demod_bckground.save_to_hdf(fname_for_saving) "
   ]
  },
  {
   "cell_type": "markdown",
   "metadata": {},
   "source": [
    "## subtract background file"
   ]
  },
  {
   "cell_type": "code",
   "execution_count": null,
   "metadata": {},
   "outputs": [],
   "source": [
    "_recording_demod.class_df.update(pd.DataFrame({'channel_1_demod' : _recording_demod.class_df['channel_1_demod']-_recording_demod_bckground.class_df['channel_1_demod'].mean(),\n",
    "                                               'channel_2_demod' : _recording_demod.class_df['channel_2_demod']-_recording_demod_bckground.class_df['channel_2_demod'].mean()\n",
    "                                              }))"
   ]
  },
  {
   "cell_type": "code",
   "execution_count": null,
   "metadata": {},
   "outputs": [],
   "source": [
    "_recording_demod.class_df.head()"
   ]
  },
  {
   "cell_type": "code",
   "execution_count": null,
   "metadata": {},
   "outputs": [],
   "source": [
    "plot_multiple_sweeps_from_class(_recording_demod, _recording_demod.class_df, ['sweep002'],\n",
    "                                ['encoder_windowed', 'channel_1_demod', 'channel_2_demod'], (5,5), 0.1,\n",
    "                               0.1, 'time', 'time (seconds)', 'detector power', False)"
   ]
  },
  {
   "cell_type": "markdown",
   "metadata": {},
   "source": [
    "# functions to calculate baseline/variance/smooth filter a given channel "
   ]
  },
  {
   "cell_type": "code",
   "execution_count": null,
   "metadata": {},
   "outputs": [],
   "source": [
    "#_recording_demod  = photometry_3.photometry_df_from_file('/Users/johnmarshall/Documents/Analysis/PhotometryData/October2018/10262018/18o26000demodulated.h5')\n",
    "#fname_for_saving = '/Users/johnmarshall/Documents/Analysis/PhotometryData/October2018/10262018/18o26000'"
   ]
  },
  {
   "cell_type": "code",
   "execution_count": null,
   "metadata": {},
   "outputs": [],
   "source": [
    "class_name = _recording_demod\n",
    "df_input = _recording_demod.class_df\n",
    "channels_to_calc = ['channel_1_demod', 'channel_2_demod']\n",
    "window_time = (5,5)\n",
    "sliding_baseline_length = 2"
   ]
  },
  {
   "cell_type": "code",
   "execution_count": null,
   "metadata": {
    "scrolled": false
   },
   "outputs": [],
   "source": [
    "_recording_demod_F_F0 = photometry_3.transform_df(class_name, \n",
    "                                           channels_to_calc, \n",
    "                                           window_time, \n",
    "                                           {'F_F0': sliding_baseline_length})"
   ]
  },
  {
   "cell_type": "code",
   "execution_count": null,
   "metadata": {},
   "outputs": [],
   "source": [
    "#save df to .hdf5 file\n",
    "#fname_for_saving = '/Users/johnmarshall/Documents/Analysis/PhotometryData/August2018/08282018/18828000_F_F0.h5'\n",
    "_recording_demod_F_F0.save_to_hdf(fname_for_saving+'background_subtracted_F_F0') "
   ]
  },
  {
   "cell_type": "code",
   "execution_count": null,
   "metadata": {
    "scrolled": false
   },
   "outputs": [],
   "source": [
    "_recording_demod_F_F0.class_df.columns.values"
   ]
  },
  {
   "cell_type": "code",
   "execution_count": null,
   "metadata": {
    "scrolled": true
   },
   "outputs": [],
   "source": [
    "plot_multiple_sweeps_from_class(_recording_demod_F_F0, _recording_demod_F_F0.class_df, ['sweep003'],\n",
    "                                ['encoder_windowed','channel_1_demod_F_F0', 'channel_2_demod_F_F0'], (0,0), 0.1,\n",
    "                               0.1, 'time', 'time (seconds)', 'detector power', False)"
   ]
  },
  {
   "cell_type": "code",
   "execution_count": null,
   "metadata": {},
   "outputs": [],
   "source": [
    "class_name = _recording_demod_F_F0\n",
    "channels_to_calc = ['encoder_windowed']\n",
    "window_time = (0,0)"
   ]
  },
  {
   "cell_type": "code",
   "execution_count": null,
   "metadata": {},
   "outputs": [],
   "source": [
    "_recording_demod_F_F0_endcodervariance = photometry_3.transform_df(class_name, \n",
    "                                           channels_to_calc, \n",
    "                                           window_time, \n",
    "                                           {'variance': 0})"
   ]
  },
  {
   "cell_type": "code",
   "execution_count": null,
   "metadata": {},
   "outputs": [],
   "source": [
    "_recording_demod_F_F0_endcodervariance.class_df.columns.values"
   ]
  },
  {
   "cell_type": "code",
   "execution_count": null,
   "metadata": {},
   "outputs": [],
   "source": [
    "_recording_demod_F_F0_endcodervariance.class_df.to_hdf(r'C:\\Users\\Santiago PC\\Documents\\Photometry Data S2\\07102019\\19710002_F_F0.h5', key='df', mode='w')"
   ]
  },
  {
   "cell_type": "code",
   "execution_count": null,
   "metadata": {},
   "outputs": [],
   "source": [
    "#save df to .hdf5 file\n",
    "fname_for_saving = r'C:\\Users\\Santiago PC\\Documents\\Photometry Data S2\\07102019\\19710002_demodencodervariance'\n",
    "_recording_demod_F_F0_endcodervariance.save_to_hdf(fname_for_saving) "
   ]
  },
  {
   "cell_type": "code",
   "execution_count": null,
   "metadata": {
    "scrolled": true
   },
   "outputs": [],
   "source": [
    "plot_multiple_sweeps_from_class(_recording_demod_F_F0_endcodervariance, \n",
    "                                _recording_demod_F_F0_endcodervariance.class_df, ['sweep004'],\n",
    "                                ['encoder_windowed_variance','encoder_windowed', 'channel_1_demod_F_F0'], \n",
    "                                (10,10), 0.1,\n",
    "                               0.1, 'time', 'time (seconds)', 'detector power', False)"
   ]
  },
  {
   "cell_type": "markdown",
   "metadata": {},
   "source": [
    "# functions to align sweeps to threshold events "
   ]
  },
  {
   "cell_type": "code",
   "execution_count": null,
   "metadata": {},
   "outputs": [],
   "source": [
    "## need to trigger files \n",
    "\n",
    "\n",
    "def return_indicies(class_name, channel_to_trigger, amplitude_threshold, time_threshold, window_time):\n",
    "\n",
    "    \"\"\"\n",
    "    Input: \n",
    "            \n",
    "            window time in tuple as before    \n",
    "    \n",
    "    Output: numpy array of sample points from input channel where trace passes above threshold\n",
    "    \"\"\"\n",
    "    indicies_from_trigger_channel_by_sweep = {}\n",
    "    for sweep in sorted(list(set(class_name.class_df.index.get_level_values(0)))):\n",
    "        trace = class_name.class_df.loc[sweep][channel_to_trigger].values\n",
    "        event_number, sample_indicies = photometry_3.count_events_in_array(trace,\n",
    "                                                                 class_name.dt, \n",
    "                                                                 time_threshold, \n",
    "                                                                 amplitude_threshold)\n",
    "        # remove sample indicies outside of \"window\"\n",
    "        sample_indicies_to_add = [i for i in sample_indicies if (window_time[0] < i < window_time[1])]\n",
    "        \n",
    "        if event_number > 0:\n",
    "            indicies_from_trigger_channel_by_sweep[sweep] = sample_indicies_to_add\n",
    "\n",
    "    return(indicies_from_trigger_channel_by_sweep)\n",
    "\n",
    "def align_on_trigger(class_name, channel_to_trigger, channels_to_align, amplitdue_threshold, time_threshold, \n",
    "                     time_region, window_time=(0,0)):\n",
    "    \"\"\"\n",
    "    Output: dataframe of trace regions surrounding threshold for all channels\n",
    "    \"\"\"\n",
    "    \n",
    "    # call return indicies to get sample indicies\n",
    "    \n",
    "    indicies_from_trigger_channel = return_indicies(class_name, channel_to_trigger, \n",
    "                                                    amplitdue_threshold, time_threshold, window_time)\n",
    "    \n",
    "    by_channel_by_sweep = {}\n",
    "    region_in_samples = time_region*class_name.Fs\n",
    "    \n",
    "    channels_to_align.append(channel_to_trigger)\n",
    "    for channel in channels_to_align:\n",
    "        for sweep in sorted(list(set(class_name.class_df.index.get_level_values(0)))):\n",
    "            if sweep in list(indicies_from_trigger_channel.keys()):\n",
    "                \n",
    "                by_index = {}\n",
    "                for i in indicies_from_trigger_channel[sweep]:\n",
    "            \n",
    "                    \n",
    "                    if int(i-region_in_samples) < 0:\n",
    "                        trace_region = np.pad(class_name.class_df.loc[sweep][channel].values[0:int(i+region_in_samples)], \n",
    "                                              (int(region_in_samples*2)-int(i+region_in_samples), 0), 'constant', constant_values=np.nan)\n",
    "                    \n",
    "                    \n",
    "                    elif int(i+region_in_samples) > len(class_name.class_df.loc[sweep][channel].values):\n",
    "                        trace_region = np.pad(class_name.class_df.loc[sweep][channel].values[(i-region_in_samples):], \n",
    "                                              (0, int(i+region_in_samples)-len(class_name.class_df.loc[sweep][channel].values))\n",
    "                                              , 'constant', constant_values=np.nan)\n",
    "                        \n",
    "                    else:\n",
    "                        trace_region = class_name.class_df.loc[sweep][channel].values[int(i-region_in_samples):int(i+region_in_samples)]\n",
    "\n",
    "                    by_index[i] = trace_region\n",
    "                    \n",
    "                index = list(range(int(-region_in_samples), int(region_in_samples)))\n",
    "        \n",
    "                by_index = pd.DataFrame(by_index)\n",
    "                                                                \n",
    "                by_channel_by_sweep[(channel, sweep)] = by_index\n",
    "            else:\n",
    "                pass\n",
    "             \n",
    "    return(by_channel_by_sweep)\n",
    "        \n",
    "        \n",
    "def average_sweep_responses(dict_of_dfs):\n",
    "    \n",
    "    channels = list(set((list(regions.keys()))[i][0] for i in range(len(regions.keys()))))\n",
    "    sweeps = list(set((list(regions.keys()))[i][1] for i in range(len(regions.keys()))))\n",
    "    \n",
    "    channel_means = {}\n",
    "    \n",
    "    for channel in channels:\n",
    "        list_to_concat = []\n",
    "        for sweep in sweeps:\n",
    "            for key in list(dict_of_dfs.keys()):\n",
    "                if channel in key:\n",
    "                    list_to_concat.append(regions[key].mean(axis=1))\n",
    "        \n",
    "        channel_means[channel] = pd.concat(list_to_concat, axis=1).mean(axis=1)\n",
    "        \n",
    "    mean_df = pd.DataFrame(channel_means)\n",
    "    \n",
    "    return(mean_df)\n",
    "        \n",
    "    "
   ]
  },
  {
   "cell_type": "code",
   "execution_count": null,
   "metadata": {},
   "outputs": [],
   "source": [
    "_recording_demod_F_F0_endcodervariance.class_df['encoder_windowed_variance'].mean()"
   ]
  },
  {
   "cell_type": "code",
   "execution_count": null,
   "metadata": {},
   "outputs": [],
   "source": [
    "_recording_demod_F_F0_endcodervariance.class_df['encoder_windowed_variance'].std()"
   ]
  },
  {
   "cell_type": "code",
   "execution_count": null,
   "metadata": {},
   "outputs": [],
   "source": [
    "np.mean(_recording_demod_F_F0_endcodervariance.class_df['encoder_windowed_variance'].values)"
   ]
  },
  {
   "cell_type": "code",
   "execution_count": null,
   "metadata": {},
   "outputs": [],
   "source": [
    "np.std(_recording_demod_F_F0_endcodervariance.class_df['encoder_windowed_variance'].values)"
   ]
  },
  {
   "cell_type": "code",
   "execution_count": null,
   "metadata": {},
   "outputs": [],
   "source": [
    "regions = align_on_trigger(_recording_demod_F_F0_endcodervariance, \n",
    "                                                     'encoder_windowed_variance', \n",
    "                                                     ['channel_1_demod_F_F0', 'channel_2_demod_F_F0'],\n",
    "                                                     8, \n",
    "                                                     1000, \n",
    "                                                     5)"
   ]
  },
  {
   "cell_type": "code",
   "execution_count": null,
   "metadata": {},
   "outputs": [],
   "source": [
    "regions[('encoder_windowed_variance', 'sweep013')]"
   ]
  },
  {
   "cell_type": "code",
   "execution_count": null,
   "metadata": {},
   "outputs": [],
   "source": [
    "mean_df = average_sweep_responses(regions)"
   ]
  },
  {
   "cell_type": "code",
   "execution_count": null,
   "metadata": {},
   "outputs": [],
   "source": [
    "list(regions.keys())"
   ]
  },
  {
   "cell_type": "code",
   "execution_count": null,
   "metadata": {
    "scrolled": false
   },
   "outputs": [],
   "source": [
    "plt.subplot(3,1,1)\n",
    "plt.plot(mean_df['encoder_windowed_variance'].values)\n",
    "plt.xlabel('time (samples (10000Hz))')\n",
    "plt.ylabel('encoder variance')\n",
    "plt.subplot(3,1,2)\n",
    "plt.plot(mean_df['channel_1_demod_F_F0'].values)\n",
    "plt.xlabel('time (samples (10000Hz))')\n",
    "plt.ylabel('F/F0 488')\n",
    "plt.subplot(3,1,3)\n",
    "plt.plot(mean_df['channel_2_demod_F_F0'].values)\n",
    "plt.xlabel('time (samples (10000Hz))')\n",
    "plt.ylabel('F/F0 405')\n",
    "plt.show()"
   ]
  },
  {
   "cell_type": "code",
   "execution_count": null,
   "metadata": {},
   "outputs": [],
   "source": [
    "mean_df"
   ]
  }
 ],
 "metadata": {
  "kernelspec": {
   "display_name": "Python 3",
   "language": "python",
   "name": "python3"
  },
  "language_info": {
   "codemirror_mode": {
    "name": "ipython",
    "version": 3
   },
   "file_extension": ".py",
   "mimetype": "text/x-python",
   "name": "python",
   "nbconvert_exporter": "python",
   "pygments_lexer": "ipython3",
   "version": "3.6.6"
  }
 },
 "nbformat": 4,
 "nbformat_minor": 2
}
