{
 "cells": [
  {
   "cell_type": "code",
   "execution_count": 1,
   "metadata": {},
   "outputs": [
    {
     "data": {
      "text/html": [
       "<style>.container { width:100% !important; }</style>"
      ],
      "text/plain": [
       "<IPython.core.display.HTML object>"
      ]
     },
     "metadata": {},
     "output_type": "display_data"
    }
   ],
   "source": [
    "from IPython.core.display import display, HTML\n",
    "display(HTML(\"<style>.container { width:100% !important; }</style>\"))\n",
    "\n",
    "from importlib import reload\n",
    "import pandas as pd\n",
    "import numpy as np\n",
    "import sys \n",
    "sys.path.append('/Users/Santiago PC/Documents/Photometry/Quarter1/alignment_with_ethovision/')\n",
    "import photometry_3\n",
    "import alignment_with_ethovision\n",
    "get_ipython().magic('matplotlib qt5')\n",
    "import matplotlib.pyplot as plt"
   ]
  },
  {
   "cell_type": "code",
   "execution_count": null,
   "metadata": {
    "scrolled": true
   },
   "outputs": [],
   "source": [
    "reload(alignment_with_ethovision)"
   ]
  },
  {
   "cell_type": "code",
   "execution_count": 2,
   "metadata": {},
   "outputs": [],
   "source": [
    "##import ethovision output into pandas dataframe\n",
    "\n",
    "path_to_photometry_file = '/Users/johnmarshall/Documents/Analysis/PhotometryData/2019/07132019/19713011background_subtracted_F_F0.h5'\n",
    "path_to_ethovision_file = '/Users/johnmarshall/Documents/Analysis/PhotometryData/2019/07132019/Raw data-07132019_Ai96d1cre011-Trial     1.xlsx'\n",
    "syn_pulses_df_file = '/Users/johnmarshall/Documents/Analysis/PhotometryData/2019/07132019/20190713_Ai96d1cre002_011abf_1TTL_pulse_times.csv'"
   ]
  },
  {
   "cell_type": "code",
   "execution_count": 3,
   "metadata": {},
   "outputs": [],
   "source": [
    "ethovision_df = alignment_with_ethovision.read_ethovision_dataframe(path_to_ethovision_file, 32, ['Digging Manual', 'Acceleration',])"
   ]
  },
  {
   "cell_type": "code",
   "execution_count": 5,
   "metadata": {},
   "outputs": [
    {
     "data": {
      "text/html": [
       "<div>\n",
       "<style scoped>\n",
       "    .dataframe tbody tr th:only-of-type {\n",
       "        vertical-align: middle;\n",
       "    }\n",
       "\n",
       "    .dataframe tbody tr th {\n",
       "        vertical-align: top;\n",
       "    }\n",
       "\n",
       "    .dataframe thead th {\n",
       "        text-align: right;\n",
       "    }\n",
       "</style>\n",
       "<table border=\"1\" class=\"dataframe\">\n",
       "  <thead>\n",
       "    <tr style=\"text-align: right;\">\n",
       "      <th></th>\n",
       "      <th>time</th>\n",
       "      <th>Digging Manual</th>\n",
       "      <th>Acceleration</th>\n",
       "    </tr>\n",
       "  </thead>\n",
       "  <tbody>\n",
       "    <tr>\n",
       "      <th>0</th>\n",
       "      <td>4.099</td>\n",
       "      <td>0</td>\n",
       "      <td>0.000</td>\n",
       "    </tr>\n",
       "    <tr>\n",
       "      <th>1</th>\n",
       "      <td>4.133</td>\n",
       "      <td>0</td>\n",
       "      <td>0.000</td>\n",
       "    </tr>\n",
       "    <tr>\n",
       "      <th>2</th>\n",
       "      <td>4.166</td>\n",
       "      <td>0</td>\n",
       "      <td>-214.379</td>\n",
       "    </tr>\n",
       "    <tr>\n",
       "      <th>3</th>\n",
       "      <td>4.199</td>\n",
       "      <td>0</td>\n",
       "      <td>-4.554</td>\n",
       "    </tr>\n",
       "    <tr>\n",
       "      <th>4</th>\n",
       "      <td>4.233</td>\n",
       "      <td>0</td>\n",
       "      <td>-10.820</td>\n",
       "    </tr>\n",
       "  </tbody>\n",
       "</table>\n",
       "</div>"
      ],
      "text/plain": [
       "    time  Digging Manual  Acceleration\n",
       "0  4.099               0         0.000\n",
       "1  4.133               0         0.000\n",
       "2  4.166               0      -214.379\n",
       "3  4.199               0        -4.554\n",
       "4  4.233               0       -10.820"
      ]
     },
     "execution_count": 5,
     "metadata": {},
     "output_type": "execute_result"
    }
   ],
   "source": [
    "ethovision_df.head()"
   ]
  },
  {
   "cell_type": "code",
   "execution_count": 6,
   "metadata": {
    "scrolled": true
   },
   "outputs": [],
   "source": [
    "syn_pulses_df = alignment_with_ethovision.read_sync_dataframe(syn_pulses_df_file)"
   ]
  },
  {
   "cell_type": "code",
   "execution_count": 7,
   "metadata": {},
   "outputs": [
    {
     "data": {
      "text/html": [
       "<div>\n",
       "<style scoped>\n",
       "    .dataframe tbody tr th:only-of-type {\n",
       "        vertical-align: middle;\n",
       "    }\n",
       "\n",
       "    .dataframe tbody tr th {\n",
       "        vertical-align: top;\n",
       "    }\n",
       "\n",
       "    .dataframe thead th {\n",
       "        text-align: right;\n",
       "    }\n",
       "</style>\n",
       "<table border=\"1\" class=\"dataframe\">\n",
       "  <thead>\n",
       "    <tr style=\"text-align: right;\">\n",
       "      <th></th>\n",
       "      <th>computer time</th>\n",
       "      <th>frame_num</th>\n",
       "      <th>video_time</th>\n",
       "    </tr>\n",
       "  </thead>\n",
       "  <tbody>\n",
       "    <tr>\n",
       "      <th>0</th>\n",
       "      <td>1.563060e+09</td>\n",
       "      <td>500</td>\n",
       "      <td>16.666953</td>\n",
       "    </tr>\n",
       "    <tr>\n",
       "      <th>1</th>\n",
       "      <td>1.563060e+09</td>\n",
       "      <td>1000</td>\n",
       "      <td>33.333906</td>\n",
       "    </tr>\n",
       "    <tr>\n",
       "      <th>2</th>\n",
       "      <td>1.563060e+09</td>\n",
       "      <td>1500</td>\n",
       "      <td>50.002860</td>\n",
       "    </tr>\n",
       "    <tr>\n",
       "      <th>3</th>\n",
       "      <td>1.563060e+09</td>\n",
       "      <td>2000</td>\n",
       "      <td>66.664813</td>\n",
       "    </tr>\n",
       "    <tr>\n",
       "      <th>4</th>\n",
       "      <td>1.563060e+09</td>\n",
       "      <td>2500</td>\n",
       "      <td>83.333766</td>\n",
       "    </tr>\n",
       "  </tbody>\n",
       "</table>\n",
       "</div>"
      ],
      "text/plain": [
       "   computer time  frame_num  video_time\n",
       "0   1.563060e+09        500   16.666953\n",
       "1   1.563060e+09       1000   33.333906\n",
       "2   1.563060e+09       1500   50.002860\n",
       "3   1.563060e+09       2000   66.664813\n",
       "4   1.563060e+09       2500   83.333766"
      ]
     },
     "execution_count": 7,
     "metadata": {},
     "output_type": "execute_result"
    }
   ],
   "source": [
    "syn_pulses_df.head()"
   ]
  },
  {
   "cell_type": "code",
   "execution_count": 8,
   "metadata": {
    "scrolled": true
   },
   "outputs": [],
   "source": [
    "photometry_df = pd.read_hdf(path_to_photometry_file)"
   ]
  },
  {
   "cell_type": "code",
   "execution_count": 9,
   "metadata": {},
   "outputs": [
    {
     "data": {
      "text/html": [
       "<div>\n",
       "<style scoped>\n",
       "    .dataframe tbody tr th:only-of-type {\n",
       "        vertical-align: middle;\n",
       "    }\n",
       "\n",
       "    .dataframe tbody tr th {\n",
       "        vertical-align: top;\n",
       "    }\n",
       "\n",
       "    .dataframe thead th {\n",
       "        text-align: right;\n",
       "    }\n",
       "</style>\n",
       "<table border=\"1\" class=\"dataframe\">\n",
       "  <thead>\n",
       "    <tr style=\"text-align: right;\">\n",
       "      <th></th>\n",
       "      <th></th>\n",
       "      <th>time</th>\n",
       "      <th>encoder_windowed</th>\n",
       "      <th>fluorescence_channel_1_windowed</th>\n",
       "      <th>channel_1_demod</th>\n",
       "      <th>channel_2_demod</th>\n",
       "      <th>channel_1_demod_F_F0</th>\n",
       "      <th>channel_2_demod_F_F0</th>\n",
       "    </tr>\n",
       "    <tr>\n",
       "      <th>sweep</th>\n",
       "      <th></th>\n",
       "      <th></th>\n",
       "      <th></th>\n",
       "      <th></th>\n",
       "      <th></th>\n",
       "      <th></th>\n",
       "      <th></th>\n",
       "      <th></th>\n",
       "    </tr>\n",
       "  </thead>\n",
       "  <tbody>\n",
       "    <tr>\n",
       "      <th rowspan=\"5\" valign=\"top\">sweep001</th>\n",
       "      <th>0</th>\n",
       "      <td>15.0000</td>\n",
       "      <td>0.050049</td>\n",
       "      <td>0.101318</td>\n",
       "      <td>0.044350</td>\n",
       "      <td>-7.874841e-07</td>\n",
       "      <td>0.962795</td>\n",
       "      <td>6.575675</td>\n",
       "    </tr>\n",
       "    <tr>\n",
       "      <th>1</th>\n",
       "      <td>15.0001</td>\n",
       "      <td>0.050964</td>\n",
       "      <td>0.058289</td>\n",
       "      <td>0.044342</td>\n",
       "      <td>-7.905409e-07</td>\n",
       "      <td>0.962795</td>\n",
       "      <td>6.575675</td>\n",
       "    </tr>\n",
       "    <tr>\n",
       "      <th>2</th>\n",
       "      <td>15.0002</td>\n",
       "      <td>0.050964</td>\n",
       "      <td>0.042725</td>\n",
       "      <td>0.044333</td>\n",
       "      <td>-7.931996e-07</td>\n",
       "      <td>0.962795</td>\n",
       "      <td>6.575675</td>\n",
       "    </tr>\n",
       "    <tr>\n",
       "      <th>3</th>\n",
       "      <td>15.0003</td>\n",
       "      <td>0.050354</td>\n",
       "      <td>0.044250</td>\n",
       "      <td>0.044324</td>\n",
       "      <td>-7.954441e-07</td>\n",
       "      <td>0.962795</td>\n",
       "      <td>6.575675</td>\n",
       "    </tr>\n",
       "    <tr>\n",
       "      <th>4</th>\n",
       "      <td>15.0004</td>\n",
       "      <td>0.050049</td>\n",
       "      <td>0.024109</td>\n",
       "      <td>0.044315</td>\n",
       "      <td>-7.972582e-07</td>\n",
       "      <td>0.962795</td>\n",
       "      <td>6.575675</td>\n",
       "    </tr>\n",
       "  </tbody>\n",
       "</table>\n",
       "</div>"
      ],
      "text/plain": [
       "               time  encoder_windowed  fluorescence_channel_1_windowed  \\\n",
       "sweep                                                                    \n",
       "sweep001 0  15.0000          0.050049                         0.101318   \n",
       "         1  15.0001          0.050964                         0.058289   \n",
       "         2  15.0002          0.050964                         0.042725   \n",
       "         3  15.0003          0.050354                         0.044250   \n",
       "         4  15.0004          0.050049                         0.024109   \n",
       "\n",
       "            channel_1_demod  channel_2_demod  channel_1_demod_F_F0  \\\n",
       "sweep                                                                \n",
       "sweep001 0         0.044350    -7.874841e-07              0.962795   \n",
       "         1         0.044342    -7.905409e-07              0.962795   \n",
       "         2         0.044333    -7.931996e-07              0.962795   \n",
       "         3         0.044324    -7.954441e-07              0.962795   \n",
       "         4         0.044315    -7.972582e-07              0.962795   \n",
       "\n",
       "            channel_2_demod_F_F0  \n",
       "sweep                             \n",
       "sweep001 0              6.575675  \n",
       "         1              6.575675  \n",
       "         2              6.575675  \n",
       "         3              6.575675  \n",
       "         4              6.575675  "
      ]
     },
     "execution_count": 9,
     "metadata": {},
     "output_type": "execute_result"
    }
   ],
   "source": [
    "photometry_df.head()"
   ]
  },
  {
   "cell_type": "code",
   "execution_count": 11,
   "metadata": {
    "scrolled": true
   },
   "outputs": [],
   "source": [
    "#ethovision_df"
   ]
  },
  {
   "cell_type": "code",
   "execution_count": 12,
   "metadata": {},
   "outputs": [
    {
     "data": {
      "text/plain": [
       "Text(0,0.5,'Acceleration state(center-point / High acceleration)')"
      ]
     },
     "execution_count": 12,
     "metadata": {},
     "output_type": "execute_result"
    },
    {
     "data": {
      "image/png": "[encoded data removed]",
      "text/plain": [
       "<Figure size 432x288 with 2 Axes>"
      ]
     },
     "metadata": {
      "needs_background": "light"
     },
     "output_type": "display_data"
    }
   ],
   "source": [
    "#plt.plot(ethovision_df['Acceleration'].values)\n",
    "#plt.show()\n",
    "\n",
    "plt.subplot(2,1,1)\n",
    "plt.plot(ethovision_df['Digging Manual'].values)\n",
    "plt.xlabel('time (samples (10000Hz))')\n",
    "plt.ylabel('Digging Manual')\n",
    "plt.subplot(2,1,2)\n",
    "plt.plot(ethovision_df['Acceleration'].values)\n",
    "plt.xlabel('time (samples (10000Hz))')\n",
    "plt.ylabel('Acceleration state(center-point / High acceleration)')"
   ]
  },
  {
   "cell_type": "code",
   "execution_count": 13,
   "metadata": {},
   "outputs": [
    {
     "name": "stdout",
     "output_type": "stream",
     "text": [
      "upsampling behavior data for sweep0\n",
      "upsampling behavior data for sweep1\n",
      "upsampling behavior data for sweep2\n",
      "upsampling behavior data for sweep3\n",
      "upsampling behavior data for sweep4\n",
      "upsampling behavior data for sweep5\n",
      "upsampling behavior data for sweep6\n",
      "upsampling behavior data for sweep7\n",
      "upsampling behavior data for sweep8\n",
      "upsampling behavior data for sweep9\n",
      "upsampling behavior data for sweep10\n",
      "upsampling behavior data for sweep11\n",
      "upsampling behavior data for sweep12\n",
      "upsampling behavior data for sweep13\n",
      "upsampling behavior data for sweep14\n",
      "upsampling behavior data for sweep15\n",
      "upsampling behavior data for sweep16\n"
     ]
    }
   ],
   "source": [
    "df_compiled = alignment_with_ethovision.loop_over_photometry_sweeps_and_align(photometry_df, ethovision_df, ['Acceleration'], syn_pulses_df)"
   ]
  },
  {
   "cell_type": "code",
   "execution_count": 14,
   "metadata": {
    "scrolled": true
   },
   "outputs": [
    {
     "data": {
      "image/png": "[encoded data removed]",
      "text/plain": [
       "<Figure size 432x288 with 1 Axes>"
      ]
     },
     "metadata": {
      "needs_background": "light"
     },
     "output_type": "display_data"
    }
   ],
   "source": [
    "plt.plot(df_compiled['Acceleration'].values)\n",
    "plt.show()"
   ]
  },
  {
   "cell_type": "code",
   "execution_count": 16,
   "metadata": {},
   "outputs": [
    {
     "data": {
      "image/png": "[encoded data removed]",
      "text/plain": [
       "<Figure size 432x288 with 3 Axes>"
      ]
     },
     "metadata": {
      "needs_background": "light"
     },
     "output_type": "display_data"
    }
   ],
   "source": [
    "sweep_num = 'sweep001'\n",
    "\n",
    "plt.subplot(3,1,1)\n",
    "plt.plot(df_compiled.loc[sweep_num]['Acceleration'].values)\n",
    "plt.xlabel('time (samples (10000Hz))')\n",
    "plt.ylabel('Digging Manual')\n",
    "plt.subplot(3,1,2)\n",
    "plt.plot(df_compiled.loc[sweep_num]['channel_1_demod_F_F0'].values)\n",
    "plt.xlabel('time (samples (10000Hz))')\n",
    "plt.ylabel('F/F0 488')\n",
    "plt.subplot(3,1,3)\n",
    "plt.plot(df_compiled.loc[sweep_num]['channel_2_demod_F_F0'].values)\n",
    "plt.xlabel('time (samples (10000Hz))')\n",
    "plt.ylabel('F/F0 405')\n",
    "plt.show()"
   ]
  },
  {
   "cell_type": "code",
   "execution_count": null,
   "metadata": {},
   "outputs": [],
   "source": []
  },
  {
   "cell_type": "code",
   "execution_count": 17,
   "metadata": {},
   "outputs": [
    {
     "name": "stderr",
     "output_type": "stream",
     "text": [
      "/Users/johnmarshall/miniconda2/envs/py36_photometry_analysis/lib/python3.6/site-packages/pandas/core/generic.py:1996: PerformanceWarning: \n",
      "your performance may suffer as PyTables will pickle object types that it cannot\n",
      "map directly to c-types [inferred_type->mixed,key->block2_values] [items->['Acceleration']]\n",
      "\n",
      "  return pytables.to_hdf(path_or_buf, key, self, **kwargs)\n"
     ]
    }
   ],
   "source": [
    "path_to_file_output = path_to_photometry_file.rstrip('.h5')+ 'behavior_added.h5'\n",
    "df_compiled.to_hdf(path_to_file_output, key='df', mode='w')"
   ]
  },
  {
   "cell_type": "code",
   "execution_count": 18,
   "metadata": {},
   "outputs": [],
   "source": [
    "#goodfromhere #goodfromhere"
   ]
  },
  {
   "cell_type": "code",
   "execution_count": 19,
   "metadata": {},
   "outputs": [
    {
     "ename": "NameError",
     "evalue": "name 'ax1' is not defined",
     "output_type": "error",
     "traceback": [
      "\u001b[0;31m---------------------------------------------------------------------------\u001b[0m",
      "\u001b[0;31mNameError\u001b[0m                                 Traceback (most recent call last)",
      "\u001b[0;32m<ipython-input-19-fa81a0000888>\u001b[0m in \u001b[0;36m<module>\u001b[0;34m()\u001b[0m\n\u001b[1;32m      1\u001b[0m \u001b[0;31m### ax1 = plt.subplots()\u001b[0m\u001b[0;34m\u001b[0m\u001b[0;34m\u001b[0m\u001b[0m\n\u001b[0;32m----> 2\u001b[0;31m \u001b[0max1\u001b[0m\u001b[0;34m.\u001b[0m\u001b[0mplot\u001b[0m\u001b[0;34m(\u001b[0m\u001b[0mdfs_with_behavior_data\u001b[0m\u001b[0;34m[\u001b[0m\u001b[0msweep_num\u001b[0m\u001b[0;34m]\u001b[0m\u001b[0;34m[\u001b[0m\u001b[0;34m'video_times_from_sync'\u001b[0m\u001b[0;34m]\u001b[0m\u001b[0;34m.\u001b[0m\u001b[0mvalues\u001b[0m\u001b[0;34m,\u001b[0m \u001b[0mdfs_with_behavior_data\u001b[0m\u001b[0;34m[\u001b[0m\u001b[0msweep_num\u001b[0m\u001b[0;34m]\u001b[0m\u001b[0;34m[\u001b[0m\u001b[0;34m'grooming'\u001b[0m\u001b[0;34m]\u001b[0m\u001b[0;34m.\u001b[0m\u001b[0mvalues\u001b[0m\u001b[0;34m,\u001b[0m \u001b[0mlabel\u001b[0m \u001b[0;34m=\u001b[0m \u001b[0;34m'grooming'\u001b[0m\u001b[0;34m)\u001b[0m\u001b[0;34m\u001b[0m\u001b[0m\n\u001b[0m\u001b[1;32m      3\u001b[0m \u001b[0max1\u001b[0m\u001b[0;34m.\u001b[0m\u001b[0mset_xlabel\u001b[0m\u001b[0;34m(\u001b[0m\u001b[0;34m'time in video (seconds)'\u001b[0m\u001b[0;34m)\u001b[0m\u001b[0;34m\u001b[0m\u001b[0m\n\u001b[1;32m      4\u001b[0m \u001b[0max2\u001b[0m \u001b[0;34m=\u001b[0m \u001b[0max1\u001b[0m\u001b[0;34m.\u001b[0m\u001b[0mtwiny\u001b[0m\u001b[0;34m(\u001b[0m\u001b[0;34m)\u001b[0m\u001b[0;34m\u001b[0m\u001b[0m\n\u001b[1;32m      5\u001b[0m \u001b[0max2\u001b[0m\u001b[0;34m.\u001b[0m\u001b[0mspines\u001b[0m\u001b[0;34m[\u001b[0m\u001b[0;34m'bottom'\u001b[0m\u001b[0;34m]\u001b[0m\u001b[0;34m.\u001b[0m\u001b[0mset_position\u001b[0m\u001b[0;34m(\u001b[0m\u001b[0;34m(\u001b[0m\u001b[0;34m'axes'\u001b[0m\u001b[0;34m,\u001b[0m \u001b[0;34m-\u001b[0m\u001b[0;36m1\u001b[0m\u001b[0;34m)\u001b[0m\u001b[0;34m)\u001b[0m\u001b[0;34m\u001b[0m\u001b[0m\n",
      "\u001b[0;31mNameError\u001b[0m: name 'ax1' is not defined"
     ]
    }
   ],
   "source": [
    "### ax1 = plt.subplots()\n",
    "ax1.plot(dfs_with_behavior_data[sweep_num]['video_times_from_sync'].values, dfs_with_behavior_data[sweep_num]['grooming'].values, label = 'grooming')\n",
    "ax1.set_xlabel('time in video (seconds)')\n",
    "ax2 = ax1.twiny()\n",
    "ax2.spines['bottom'].set_position(('axes', -1))\n",
    "ax2.set_xlabel('frame number')\n",
    "ax2.plot(dfs_with_behavior_data[sweep_num]['frame'].values, dfs_with_behavior_data[sweep_num]['channel_1_demod_F_F0'].values)\n",
    "ax2.plot(dfs_with_behavior_data[sweep_num]['frame'].values, dfs_with_behavior_data[sweep_num]['channel_2_demod_F_F0'].values)\n",
    "plt.show()"
   ]
  },
  {
   "cell_type": "code",
   "execution_count": null,
   "metadata": {},
   "outputs": [],
   "source": [
    "path_to_file = '/Users/johnmarshall/Documents/Analysis/PhotometryData/July2018/07302018/18730003_F_F0_grooming_sweep001.h5'\n",
    "data = pd.read_hdf(path_to_file)"
   ]
  },
  {
   "cell_type": "code",
   "execution_count": null,
   "metadata": {},
   "outputs": [],
   "source": [
    "behavior_df "
   ]
  },
  {
   "cell_type": "code",
   "execution_count": null,
   "metadata": {},
   "outputs": [],
   "source": [
    "syn_pulses_df"
   ]
  },
  {
   "cell_type": "code",
   "execution_count": null,
   "metadata": {},
   "outputs": [],
   "source": [
    "from numpy.random import rand\n",
    "import matplotlib\n",
    "matplotlib.use('gtkagg')\n",
    "import matplotlib.pyplot as plt\n",
    "\n",
    "# create all axes we need\n",
    "ax0 = plt.subplot(211)\n",
    "ax1 = ax0.twinx()\n",
    "ax2 = plt.subplot(212)\n",
    "ax3 = ax2.twinx()\n",
    "\n",
    "# share the secondary axes\n",
    "ax1.get_shared_y_axes().join(ax1, ax3)\n",
    "\n",
    "ax0.plot(rand(1) * rand(10),'r')\n",
    "ax1.plot(10*rand(1) * rand(10),'b')\n",
    "ax2.plot(3*rand(1) * rand(10),'g')\n",
    "ax3.plot(10*rand(1) * rand(10),'y')\n",
    "plt.show()"
   ]
  },
  {
   "cell_type": "code",
   "execution_count": null,
   "metadata": {},
   "outputs": [],
   "source": []
  }
 ],
 "metadata": {
  "kernelspec": {
   "display_name": "Python 3",
   "language": "python",
   "name": "python3"
  },
  "language_info": {
   "codemirror_mode": {
    "name": "ipython",
    "version": 3
   },
   "file_extension": ".py",
   "mimetype": "text/x-python",
   "name": "python",
   "nbconvert_exporter": "python",
   "pygments_lexer": "ipython3",
   "version": "3.6.6"
  }
 },
 "nbformat": 4,
 "nbformat_minor": 2
}
