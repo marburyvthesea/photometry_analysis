{
 "cells": [
  {
   "cell_type": "code",
   "execution_count": 1,
   "metadata": {},
   "outputs": [
    {
     "data": {
      "text/html": [
       "<style>.container { width:100% !important; }</style>"
      ],
      "text/plain": [
       "<IPython.core.display.HTML object>"
      ]
     },
     "metadata": {},
     "output_type": "display_data"
    }
   ],
   "source": [
    "from neo import io\n",
    "import pandas as pd\n",
    "from IPython.core.display import display, HTML\n",
    "import matplotlib.pyplot as plt\n",
    "display(HTML(\"<style>.container { width:100% !important; }</style>\"))"
   ]
  },
  {
   "cell_type": "code",
   "execution_count": 2,
   "metadata": {},
   "outputs": [],
   "source": [
    "box_TTL_log_file = '/Users/johnmarshall/Documents/Analysis/PhotometryData/2019/operant_box_eg/155_2019_7_8 11h25m Task29_TtlLog.txt' \n",
    "touch_log = '/Users/johnmarshall/Documents/Analysis/PhotometryData/2019/operant_box_eg/155_2019_7_8 11h25m Task29_Drink.txt'\n",
    "drink_log = '/Users/johnmarshall/Documents/Analysis/PhotometryData/2019/operant_box_eg/155_2019_7_8 11h25m Task29_Touch.txt'\n",
    "path_to_photometry_file = '/Users/johnmarshall/Documents/Analysis/PhotometryData/Old/September2018/AAV_syn29_002/18919001_F_F0behavior_added.h5'\n",
    "path_to_original_abf_file = '/Users/johnmarshall/Documents/Analysis/PhotometryData/Old/September2018/AAV_syn29_002/18919001.abf'"
   ]
  },
  {
   "cell_type": "code",
   "execution_count": 3,
   "metadata": {},
   "outputs": [],
   "source": [
    "photometry_df = pd.read_hdf(path_to_photometry_file)"
   ]
  },
  {
   "cell_type": "code",
   "execution_count": 4,
   "metadata": {},
   "outputs": [
    {
     "data": {
      "text/html": [
       "<div>\n",
       "<style scoped>\n",
       "    .dataframe tbody tr th:only-of-type {\n",
       "        vertical-align: middle;\n",
       "    }\n",
       "\n",
       "    .dataframe tbody tr th {\n",
       "        vertical-align: top;\n",
       "    }\n",
       "\n",
       "    .dataframe thead th {\n",
       "        text-align: right;\n",
       "    }\n",
       "</style>\n",
       "<table border=\"1\" class=\"dataframe\">\n",
       "  <thead>\n",
       "    <tr style=\"text-align: right;\">\n",
       "      <th></th>\n",
       "      <th></th>\n",
       "      <th>channel_1_demod</th>\n",
       "      <th>channel_1_demod_F_F0</th>\n",
       "      <th>channel_2_demod</th>\n",
       "      <th>channel_2_demod_F_F0</th>\n",
       "      <th>encoder_windowed</th>\n",
       "      <th>fluorescence_channel_1_windowed</th>\n",
       "      <th>time</th>\n",
       "      <th>video_times_from_sync</th>\n",
       "      <th>frame</th>\n",
       "      <th>Acceleration</th>\n",
       "      <th>Grooming</th>\n",
       "      <th>Digging</th>\n",
       "      <th>Acceleration state(center-point / High acceleration)</th>\n",
       "      <th>Acceleration state(center-point / Low acceleration)</th>\n",
       "    </tr>\n",
       "    <tr>\n",
       "      <th>sweeps</th>\n",
       "      <th>index</th>\n",
       "      <th></th>\n",
       "      <th></th>\n",
       "      <th></th>\n",
       "      <th></th>\n",
       "      <th></th>\n",
       "      <th></th>\n",
       "      <th></th>\n",
       "      <th></th>\n",
       "      <th></th>\n",
       "      <th></th>\n",
       "      <th></th>\n",
       "      <th></th>\n",
       "      <th></th>\n",
       "      <th></th>\n",
       "    </tr>\n",
       "  </thead>\n",
       "  <tbody>\n",
       "    <tr>\n",
       "      <th rowspan=\"5\" valign=\"top\">sweep001</th>\n",
       "      <th>35725</th>\n",
       "      <td>0.023184</td>\n",
       "      <td>0.990907</td>\n",
       "      <td>0.332307</td>\n",
       "      <td>0.991201</td>\n",
       "      <td>4.913330</td>\n",
       "      <td>-0.260620</td>\n",
       "      <td>18.5725</td>\n",
       "      <td>19.000000</td>\n",
       "      <td>500.000000</td>\n",
       "      <td>-76.5895</td>\n",
       "      <td>0.0</td>\n",
       "      <td>0.0</td>\n",
       "      <td>0.0</td>\n",
       "      <td>0.0</td>\n",
       "    </tr>\n",
       "    <tr>\n",
       "      <th>35726</th>\n",
       "      <td>0.023178</td>\n",
       "      <td>0.990632</td>\n",
       "      <td>0.332298</td>\n",
       "      <td>0.991176</td>\n",
       "      <td>4.917603</td>\n",
       "      <td>-0.419006</td>\n",
       "      <td>18.5726</td>\n",
       "      <td>19.000101</td>\n",
       "      <td>500.002651</td>\n",
       "      <td>-76.5895</td>\n",
       "      <td>0.0</td>\n",
       "      <td>0.0</td>\n",
       "      <td>0.0</td>\n",
       "      <td>0.0</td>\n",
       "    </tr>\n",
       "    <tr>\n",
       "      <th>35727</th>\n",
       "      <td>0.023172</td>\n",
       "      <td>0.990367</td>\n",
       "      <td>0.332290</td>\n",
       "      <td>0.991151</td>\n",
       "      <td>4.918823</td>\n",
       "      <td>-0.475769</td>\n",
       "      <td>18.5727</td>\n",
       "      <td>19.000201</td>\n",
       "      <td>500.005302</td>\n",
       "      <td>-76.5895</td>\n",
       "      <td>0.0</td>\n",
       "      <td>0.0</td>\n",
       "      <td>0.0</td>\n",
       "      <td>0.0</td>\n",
       "    </tr>\n",
       "    <tr>\n",
       "      <th>35728</th>\n",
       "      <td>0.023166</td>\n",
       "      <td>0.990111</td>\n",
       "      <td>0.332281</td>\n",
       "      <td>0.991127</td>\n",
       "      <td>4.918518</td>\n",
       "      <td>-0.433350</td>\n",
       "      <td>18.5728</td>\n",
       "      <td>19.000302</td>\n",
       "      <td>500.007953</td>\n",
       "      <td>-76.5895</td>\n",
       "      <td>0.0</td>\n",
       "      <td>0.0</td>\n",
       "      <td>0.0</td>\n",
       "      <td>0.0</td>\n",
       "    </tr>\n",
       "    <tr>\n",
       "      <th>35729</th>\n",
       "      <td>0.023160</td>\n",
       "      <td>0.989864</td>\n",
       "      <td>0.332273</td>\n",
       "      <td>0.991103</td>\n",
       "      <td>4.918518</td>\n",
       "      <td>-0.266724</td>\n",
       "      <td>18.5729</td>\n",
       "      <td>19.000403</td>\n",
       "      <td>500.010604</td>\n",
       "      <td>-76.5895</td>\n",
       "      <td>0.0</td>\n",
       "      <td>0.0</td>\n",
       "      <td>0.0</td>\n",
       "      <td>0.0</td>\n",
       "    </tr>\n",
       "  </tbody>\n",
       "</table>\n",
       "</div>"
      ],
      "text/plain": [
       "                channel_1_demod  channel_1_demod_F_F0  channel_2_demod  \\\n",
       "sweeps   index                                                           \n",
       "sweep001 35725         0.023184              0.990907         0.332307   \n",
       "         35726         0.023178              0.990632         0.332298   \n",
       "         35727         0.023172              0.990367         0.332290   \n",
       "         35728         0.023166              0.990111         0.332281   \n",
       "         35729         0.023160              0.989864         0.332273   \n",
       "\n",
       "                channel_2_demod_F_F0  encoder_windowed  \\\n",
       "sweeps   index                                           \n",
       "sweep001 35725              0.991201          4.913330   \n",
       "         35726              0.991176          4.917603   \n",
       "         35727              0.991151          4.918823   \n",
       "         35728              0.991127          4.918518   \n",
       "         35729              0.991103          4.918518   \n",
       "\n",
       "                fluorescence_channel_1_windowed     time  \\\n",
       "sweeps   index                                             \n",
       "sweep001 35725                        -0.260620  18.5725   \n",
       "         35726                        -0.419006  18.5726   \n",
       "         35727                        -0.475769  18.5727   \n",
       "         35728                        -0.433350  18.5728   \n",
       "         35729                        -0.266724  18.5729   \n",
       "\n",
       "                video_times_from_sync       frame  Acceleration  Grooming  \\\n",
       "sweeps   index                                                              \n",
       "sweep001 35725              19.000000  500.000000      -76.5895       0.0   \n",
       "         35726              19.000101  500.002651      -76.5895       0.0   \n",
       "         35727              19.000201  500.005302      -76.5895       0.0   \n",
       "         35728              19.000302  500.007953      -76.5895       0.0   \n",
       "         35729              19.000403  500.010604      -76.5895       0.0   \n",
       "\n",
       "                Digging  Acceleration state(center-point / High acceleration)  \\\n",
       "sweeps   index                                                                  \n",
       "sweep001 35725      0.0                                                0.0      \n",
       "         35726      0.0                                                0.0      \n",
       "         35727      0.0                                                0.0      \n",
       "         35728      0.0                                                0.0      \n",
       "         35729      0.0                                                0.0      \n",
       "\n",
       "                Acceleration state(center-point / Low acceleration)  \n",
       "sweeps   index                                                       \n",
       "sweep001 35725                                                0.0    \n",
       "         35726                                                0.0    \n",
       "         35727                                                0.0    \n",
       "         35728                                                0.0    \n",
       "         35729                                                0.0    "
      ]
     },
     "execution_count": 4,
     "metadata": {},
     "output_type": "execute_result"
    }
   ],
   "source": [
    "photometry_df.head()"
   ]
  },
  {
   "cell_type": "code",
   "execution_count": 5,
   "metadata": {},
   "outputs": [
    {
     "ename": "FileNotFoundError",
     "evalue": "File b'/Users/johnmarshall/Documents/Analysis/PhotometryData/2019/operant_box_eg/155_2019_7_8 11h25m Task29_TtlLog.txt' does not exist",
     "output_type": "error",
     "traceback": [
      "\u001b[0;31m---------------------------------------------------------------------------\u001b[0m",
      "\u001b[0;31mFileNotFoundError\u001b[0m                         Traceback (most recent call last)",
      "\u001b[0;32m<ipython-input-5-5559bdf41c66>\u001b[0m in \u001b[0;36m<module>\u001b[0;34m\u001b[0m\n\u001b[0;32m----> 1\u001b[0;31m \u001b[0mbox_TTL_log\u001b[0m \u001b[0;34m=\u001b[0m \u001b[0mpd\u001b[0m\u001b[0;34m.\u001b[0m\u001b[0mread_table\u001b[0m\u001b[0;34m(\u001b[0m\u001b[0mbox_TTL_log_file\u001b[0m\u001b[0;34m,\u001b[0m \u001b[0msep\u001b[0m \u001b[0;34m=\u001b[0m\u001b[0;34m','\u001b[0m\u001b[0;34m,\u001b[0m \u001b[0mheader\u001b[0m\u001b[0;34m=\u001b[0m\u001b[0;36m1\u001b[0m\u001b[0;34m)\u001b[0m\u001b[0;34m\u001b[0m\u001b[0;34m\u001b[0m\u001b[0m\n\u001b[0m",
      "\u001b[0;32m~/miniconda3/envs/miniscoPy/lib/python3.6/site-packages/pandas/io/parsers.py\u001b[0m in \u001b[0;36mparser_f\u001b[0;34m(filepath_or_buffer, sep, delimiter, header, names, index_col, usecols, squeeze, prefix, mangle_dupe_cols, dtype, engine, converters, true_values, false_values, skipinitialspace, skiprows, nrows, na_values, keep_default_na, na_filter, verbose, skip_blank_lines, parse_dates, infer_datetime_format, keep_date_col, date_parser, dayfirst, iterator, chunksize, compression, thousands, decimal, lineterminator, quotechar, quoting, escapechar, comment, encoding, dialect, tupleize_cols, error_bad_lines, warn_bad_lines, skipfooter, doublequote, delim_whitespace, low_memory, memory_map, float_precision)\u001b[0m\n\u001b[1;32m    676\u001b[0m                     skip_blank_lines=skip_blank_lines)\n\u001b[1;32m    677\u001b[0m \u001b[0;34m\u001b[0m\u001b[0m\n\u001b[0;32m--> 678\u001b[0;31m         \u001b[0;32mreturn\u001b[0m \u001b[0m_read\u001b[0m\u001b[0;34m(\u001b[0m\u001b[0mfilepath_or_buffer\u001b[0m\u001b[0;34m,\u001b[0m \u001b[0mkwds\u001b[0m\u001b[0;34m)\u001b[0m\u001b[0;34m\u001b[0m\u001b[0;34m\u001b[0m\u001b[0m\n\u001b[0m\u001b[1;32m    679\u001b[0m \u001b[0;34m\u001b[0m\u001b[0m\n\u001b[1;32m    680\u001b[0m     \u001b[0mparser_f\u001b[0m\u001b[0;34m.\u001b[0m\u001b[0m__name__\u001b[0m \u001b[0;34m=\u001b[0m \u001b[0mname\u001b[0m\u001b[0;34m\u001b[0m\u001b[0;34m\u001b[0m\u001b[0m\n",
      "\u001b[0;32m~/miniconda3/envs/miniscoPy/lib/python3.6/site-packages/pandas/io/parsers.py\u001b[0m in \u001b[0;36m_read\u001b[0;34m(filepath_or_buffer, kwds)\u001b[0m\n\u001b[1;32m    438\u001b[0m \u001b[0;34m\u001b[0m\u001b[0m\n\u001b[1;32m    439\u001b[0m     \u001b[0;31m# Create the parser.\u001b[0m\u001b[0;34m\u001b[0m\u001b[0;34m\u001b[0m\u001b[0;34m\u001b[0m\u001b[0m\n\u001b[0;32m--> 440\u001b[0;31m     \u001b[0mparser\u001b[0m \u001b[0;34m=\u001b[0m \u001b[0mTextFileReader\u001b[0m\u001b[0;34m(\u001b[0m\u001b[0mfilepath_or_buffer\u001b[0m\u001b[0;34m,\u001b[0m \u001b[0;34m**\u001b[0m\u001b[0mkwds\u001b[0m\u001b[0;34m)\u001b[0m\u001b[0;34m\u001b[0m\u001b[0;34m\u001b[0m\u001b[0m\n\u001b[0m\u001b[1;32m    441\u001b[0m \u001b[0;34m\u001b[0m\u001b[0m\n\u001b[1;32m    442\u001b[0m     \u001b[0;32mif\u001b[0m \u001b[0mchunksize\u001b[0m \u001b[0;32mor\u001b[0m \u001b[0miterator\u001b[0m\u001b[0;34m:\u001b[0m\u001b[0;34m\u001b[0m\u001b[0;34m\u001b[0m\u001b[0m\n",
      "\u001b[0;32m~/miniconda3/envs/miniscoPy/lib/python3.6/site-packages/pandas/io/parsers.py\u001b[0m in \u001b[0;36m__init__\u001b[0;34m(self, f, engine, **kwds)\u001b[0m\n\u001b[1;32m    785\u001b[0m             \u001b[0mself\u001b[0m\u001b[0;34m.\u001b[0m\u001b[0moptions\u001b[0m\u001b[0;34m[\u001b[0m\u001b[0;34m'has_index_names'\u001b[0m\u001b[0;34m]\u001b[0m \u001b[0;34m=\u001b[0m \u001b[0mkwds\u001b[0m\u001b[0;34m[\u001b[0m\u001b[0;34m'has_index_names'\u001b[0m\u001b[0;34m]\u001b[0m\u001b[0;34m\u001b[0m\u001b[0;34m\u001b[0m\u001b[0m\n\u001b[1;32m    786\u001b[0m \u001b[0;34m\u001b[0m\u001b[0m\n\u001b[0;32m--> 787\u001b[0;31m         \u001b[0mself\u001b[0m\u001b[0;34m.\u001b[0m\u001b[0m_make_engine\u001b[0m\u001b[0;34m(\u001b[0m\u001b[0mself\u001b[0m\u001b[0;34m.\u001b[0m\u001b[0mengine\u001b[0m\u001b[0;34m)\u001b[0m\u001b[0;34m\u001b[0m\u001b[0;34m\u001b[0m\u001b[0m\n\u001b[0m\u001b[1;32m    788\u001b[0m \u001b[0;34m\u001b[0m\u001b[0m\n\u001b[1;32m    789\u001b[0m     \u001b[0;32mdef\u001b[0m \u001b[0mclose\u001b[0m\u001b[0;34m(\u001b[0m\u001b[0mself\u001b[0m\u001b[0;34m)\u001b[0m\u001b[0;34m:\u001b[0m\u001b[0;34m\u001b[0m\u001b[0;34m\u001b[0m\u001b[0m\n",
      "\u001b[0;32m~/miniconda3/envs/miniscoPy/lib/python3.6/site-packages/pandas/io/parsers.py\u001b[0m in \u001b[0;36m_make_engine\u001b[0;34m(self, engine)\u001b[0m\n\u001b[1;32m   1012\u001b[0m     \u001b[0;32mdef\u001b[0m \u001b[0m_make_engine\u001b[0m\u001b[0;34m(\u001b[0m\u001b[0mself\u001b[0m\u001b[0;34m,\u001b[0m \u001b[0mengine\u001b[0m\u001b[0;34m=\u001b[0m\u001b[0;34m'c'\u001b[0m\u001b[0;34m)\u001b[0m\u001b[0;34m:\u001b[0m\u001b[0;34m\u001b[0m\u001b[0;34m\u001b[0m\u001b[0m\n\u001b[1;32m   1013\u001b[0m         \u001b[0;32mif\u001b[0m \u001b[0mengine\u001b[0m \u001b[0;34m==\u001b[0m \u001b[0;34m'c'\u001b[0m\u001b[0;34m:\u001b[0m\u001b[0;34m\u001b[0m\u001b[0;34m\u001b[0m\u001b[0m\n\u001b[0;32m-> 1014\u001b[0;31m             \u001b[0mself\u001b[0m\u001b[0;34m.\u001b[0m\u001b[0m_engine\u001b[0m \u001b[0;34m=\u001b[0m \u001b[0mCParserWrapper\u001b[0m\u001b[0;34m(\u001b[0m\u001b[0mself\u001b[0m\u001b[0;34m.\u001b[0m\u001b[0mf\u001b[0m\u001b[0;34m,\u001b[0m \u001b[0;34m**\u001b[0m\u001b[0mself\u001b[0m\u001b[0;34m.\u001b[0m\u001b[0moptions\u001b[0m\u001b[0;34m)\u001b[0m\u001b[0;34m\u001b[0m\u001b[0;34m\u001b[0m\u001b[0m\n\u001b[0m\u001b[1;32m   1015\u001b[0m         \u001b[0;32melse\u001b[0m\u001b[0;34m:\u001b[0m\u001b[0;34m\u001b[0m\u001b[0;34m\u001b[0m\u001b[0m\n\u001b[1;32m   1016\u001b[0m             \u001b[0;32mif\u001b[0m \u001b[0mengine\u001b[0m \u001b[0;34m==\u001b[0m \u001b[0;34m'python'\u001b[0m\u001b[0;34m:\u001b[0m\u001b[0;34m\u001b[0m\u001b[0;34m\u001b[0m\u001b[0m\n",
      "\u001b[0;32m~/miniconda3/envs/miniscoPy/lib/python3.6/site-packages/pandas/io/parsers.py\u001b[0m in \u001b[0;36m__init__\u001b[0;34m(self, src, **kwds)\u001b[0m\n\u001b[1;32m   1706\u001b[0m         \u001b[0mkwds\u001b[0m\u001b[0;34m[\u001b[0m\u001b[0;34m'usecols'\u001b[0m\u001b[0;34m]\u001b[0m \u001b[0;34m=\u001b[0m \u001b[0mself\u001b[0m\u001b[0;34m.\u001b[0m\u001b[0musecols\u001b[0m\u001b[0;34m\u001b[0m\u001b[0;34m\u001b[0m\u001b[0m\n\u001b[1;32m   1707\u001b[0m \u001b[0;34m\u001b[0m\u001b[0m\n\u001b[0;32m-> 1708\u001b[0;31m         \u001b[0mself\u001b[0m\u001b[0;34m.\u001b[0m\u001b[0m_reader\u001b[0m \u001b[0;34m=\u001b[0m \u001b[0mparsers\u001b[0m\u001b[0;34m.\u001b[0m\u001b[0mTextReader\u001b[0m\u001b[0;34m(\u001b[0m\u001b[0msrc\u001b[0m\u001b[0;34m,\u001b[0m \u001b[0;34m**\u001b[0m\u001b[0mkwds\u001b[0m\u001b[0;34m)\u001b[0m\u001b[0;34m\u001b[0m\u001b[0;34m\u001b[0m\u001b[0m\n\u001b[0m\u001b[1;32m   1709\u001b[0m \u001b[0;34m\u001b[0m\u001b[0m\n\u001b[1;32m   1710\u001b[0m         \u001b[0mpassed_names\u001b[0m \u001b[0;34m=\u001b[0m \u001b[0mself\u001b[0m\u001b[0;34m.\u001b[0m\u001b[0mnames\u001b[0m \u001b[0;32mis\u001b[0m \u001b[0;32mNone\u001b[0m\u001b[0;34m\u001b[0m\u001b[0;34m\u001b[0m\u001b[0m\n",
      "\u001b[0;32mpandas/_libs/parsers.pyx\u001b[0m in \u001b[0;36mpandas._libs.parsers.TextReader.__cinit__\u001b[0;34m()\u001b[0m\n",
      "\u001b[0;32mpandas/_libs/parsers.pyx\u001b[0m in \u001b[0;36mpandas._libs.parsers.TextReader._setup_parser_source\u001b[0;34m()\u001b[0m\n",
      "\u001b[0;31mFileNotFoundError\u001b[0m: File b'/Users/johnmarshall/Documents/Analysis/PhotometryData/2019/operant_box_eg/155_2019_7_8 11h25m Task29_TtlLog.txt' does not exist"
     ]
    }
   ],
   "source": [
    "box_TTL_log = pd.read_table(box_TTL_log_file, sep =',', header=1)"
   ]
  },
  {
   "cell_type": "code",
   "execution_count": 6,
   "metadata": {},
   "outputs": [
    {
     "ename": "NameError",
     "evalue": "name 'box_TTL_log' is not defined",
     "output_type": "error",
     "traceback": [
      "\u001b[0;31m---------------------------------------------------------------------------\u001b[0m",
      "\u001b[0;31mNameError\u001b[0m                                 Traceback (most recent call last)",
      "\u001b[0;32m<ipython-input-6-1bcd82e1c8f7>\u001b[0m in \u001b[0;36m<module>\u001b[0;34m\u001b[0m\n\u001b[0;32m----> 1\u001b[0;31m \u001b[0mTTL_ON_log\u001b[0m \u001b[0;34m=\u001b[0m \u001b[0mbox_TTL_log\u001b[0m\u001b[0;34m.\u001b[0m\u001b[0miloc\u001b[0m\u001b[0;34m[\u001b[0m\u001b[0;34m:\u001b[0m\u001b[0;34m,\u001b[0m\u001b[0;34m:\u001b[0m\u001b[0;36m4\u001b[0m\u001b[0;34m]\u001b[0m\u001b[0;34m.\u001b[0m\u001b[0mdropna\u001b[0m\u001b[0;34m(\u001b[0m\u001b[0;34m)\u001b[0m\u001b[0;34m.\u001b[0m\u001b[0mset_index\u001b[0m\u001b[0;34m(\u001b[0m\u001b[0;34m[\u001b[0m\u001b[0;34m'No'\u001b[0m\u001b[0;34m]\u001b[0m\u001b[0;34m)\u001b[0m\u001b[0;34m\u001b[0m\u001b[0;34m\u001b[0m\u001b[0m\n\u001b[0m",
      "\u001b[0;31mNameError\u001b[0m: name 'box_TTL_log' is not defined"
     ]
    }
   ],
   "source": [
    "TTL_ON_log = box_TTL_log.iloc[:,:4].dropna().set_index(['No'])"
   ]
  },
  {
   "cell_type": "code",
   "execution_count": 7,
   "metadata": {},
   "outputs": [
    {
     "ename": "NameError",
     "evalue": "name 'TTL_ON_log' is not defined",
     "output_type": "error",
     "traceback": [
      "\u001b[0;31m---------------------------------------------------------------------------\u001b[0m",
      "\u001b[0;31mNameError\u001b[0m                                 Traceback (most recent call last)",
      "\u001b[0;32m<ipython-input-7-caf2e8e0adc1>\u001b[0m in \u001b[0;36m<module>\u001b[0;34m\u001b[0m\n\u001b[0;32m----> 1\u001b[0;31m \u001b[0mTTL_ON_log\u001b[0m\u001b[0;34m.\u001b[0m\u001b[0mhead\u001b[0m\u001b[0;34m(\u001b[0m\u001b[0;34m)\u001b[0m\u001b[0;34m\u001b[0m\u001b[0;34m\u001b[0m\u001b[0m\n\u001b[0m",
      "\u001b[0;31mNameError\u001b[0m: name 'TTL_ON_log' is not defined"
     ]
    }
   ],
   "source": [
    "TTL_ON_log.head()"
   ]
  },
  {
   "cell_type": "code",
   "execution_count": 8,
   "metadata": {},
   "outputs": [
    {
     "ename": "NameError",
     "evalue": "name 'TTL_ON_log' is not defined",
     "output_type": "error",
     "traceback": [
      "\u001b[0;31m---------------------------------------------------------------------------\u001b[0m",
      "\u001b[0;31mNameError\u001b[0m                                 Traceback (most recent call last)",
      "\u001b[0;32m<ipython-input-8-bad078073cbb>\u001b[0m in \u001b[0;36m<module>\u001b[0;34m\u001b[0m\n\u001b[1;32m      1\u001b[0m \u001b[0;31m#convert absolute time to time from start of trial\u001b[0m\u001b[0;34m\u001b[0m\u001b[0;34m\u001b[0m\u001b[0;34m\u001b[0m\u001b[0m\n\u001b[0;32m----> 2\u001b[0;31m \u001b[0mhour_start\u001b[0m \u001b[0;34m=\u001b[0m \u001b[0mTTL_ON_log\u001b[0m\u001b[0;34m.\u001b[0m\u001b[0mloc\u001b[0m\u001b[0;34m[\u001b[0m\u001b[0;36m1\u001b[0m\u001b[0;34m]\u001b[0m\u001b[0;34m[\u001b[0m\u001b[0;34m'hr'\u001b[0m\u001b[0;34m]\u001b[0m\u001b[0;34m\u001b[0m\u001b[0;34m\u001b[0m\u001b[0m\n\u001b[0m\u001b[1;32m      3\u001b[0m \u001b[0mmin_start\u001b[0m \u001b[0;34m=\u001b[0m \u001b[0mTTL_ON_log\u001b[0m\u001b[0;34m.\u001b[0m\u001b[0mloc\u001b[0m\u001b[0;34m[\u001b[0m\u001b[0;36m1\u001b[0m\u001b[0;34m]\u001b[0m\u001b[0;34m[\u001b[0m\u001b[0;34m'min'\u001b[0m\u001b[0;34m]\u001b[0m\u001b[0;34m\u001b[0m\u001b[0;34m\u001b[0m\u001b[0m\n\u001b[1;32m      4\u001b[0m \u001b[0;34m\u001b[0m\u001b[0m\n\u001b[1;32m      5\u001b[0m \u001b[0mtrial_time\u001b[0m \u001b[0;34m=\u001b[0m \u001b[0;34m[\u001b[0m\u001b[0;36m0\u001b[0m\u001b[0;34m]\u001b[0m\u001b[0;34m\u001b[0m\u001b[0;34m\u001b[0m\u001b[0m\n",
      "\u001b[0;31mNameError\u001b[0m: name 'TTL_ON_log' is not defined"
     ]
    }
   ],
   "source": [
    "#convert absolute time to time from start of trial \n",
    "hour_start = TTL_ON_log.loc[1]['hr']\n",
    "min_start = TTL_ON_log.loc[1]['min']\n",
    "\n",
    "trial_time = [0]\n",
    "\n",
    "for row in range(2, len(TTL_ON_log)):\n",
    "    trial_time.append(((TTL_ON_log.loc[int(row)]['hr'] - hour_start)*3660) + ((TTL_ON_log.loc[int(row)]['min'] - min_start)*60) + (TTL_ON_log.loc[int(row)]['sec']))\n",
    "    \n",
    "trial_time_df = pd.DataFrame({'trial_time':trial_time}, index=list(range(1, len(TTL_ON_log))))    "
   ]
  },
  {
   "cell_type": "code",
   "execution_count": 9,
   "metadata": {},
   "outputs": [
    {
     "ename": "NameError",
     "evalue": "name 'TTL_ON_log' is not defined",
     "output_type": "error",
     "traceback": [
      "\u001b[0;31m---------------------------------------------------------------------------\u001b[0m",
      "\u001b[0;31mNameError\u001b[0m                                 Traceback (most recent call last)",
      "\u001b[0;32m<ipython-input-9-a71d6cc87988>\u001b[0m in \u001b[0;36m<module>\u001b[0;34m\u001b[0m\n\u001b[0;32m----> 1\u001b[0;31m \u001b[0mTTL_ON_log\u001b[0m \u001b[0;34m=\u001b[0m \u001b[0mpd\u001b[0m\u001b[0;34m.\u001b[0m\u001b[0mconcat\u001b[0m\u001b[0;34m(\u001b[0m\u001b[0;34m[\u001b[0m\u001b[0mTTL_ON_log\u001b[0m\u001b[0;34m,\u001b[0m \u001b[0mtrial_time_df\u001b[0m\u001b[0;34m]\u001b[0m\u001b[0;34m,\u001b[0m \u001b[0maxis\u001b[0m\u001b[0;34m=\u001b[0m\u001b[0;36m1\u001b[0m\u001b[0;34m)\u001b[0m\u001b[0;34m\u001b[0m\u001b[0;34m\u001b[0m\u001b[0m\n\u001b[0m",
      "\u001b[0;31mNameError\u001b[0m: name 'TTL_ON_log' is not defined"
     ]
    }
   ],
   "source": [
    "TTL_ON_log = pd.concat([TTL_ON_log, trial_time_df], axis=1)"
   ]
  },
  {
   "cell_type": "code",
   "execution_count": 10,
   "metadata": {},
   "outputs": [
    {
     "ename": "NameError",
     "evalue": "name 'TTL_ON_log' is not defined",
     "output_type": "error",
     "traceback": [
      "\u001b[0;31m---------------------------------------------------------------------------\u001b[0m",
      "\u001b[0;31mNameError\u001b[0m                                 Traceback (most recent call last)",
      "\u001b[0;32m<ipython-input-10-caf2e8e0adc1>\u001b[0m in \u001b[0;36m<module>\u001b[0;34m\u001b[0m\n\u001b[0;32m----> 1\u001b[0;31m \u001b[0mTTL_ON_log\u001b[0m\u001b[0;34m.\u001b[0m\u001b[0mhead\u001b[0m\u001b[0;34m(\u001b[0m\u001b[0;34m)\u001b[0m\u001b[0;34m\u001b[0m\u001b[0;34m\u001b[0m\u001b[0m\n\u001b[0m",
      "\u001b[0;31mNameError\u001b[0m: name 'TTL_ON_log' is not defined"
     ]
    }
   ],
   "source": [
    "TTL_ON_log.head()"
   ]
  },
  {
   "cell_type": "code",
   "execution_count": 11,
   "metadata": {},
   "outputs": [
    {
     "ename": "NameError",
     "evalue": "name 'TTL_ON_log' is not defined",
     "output_type": "error",
     "traceback": [
      "\u001b[0;31m---------------------------------------------------------------------------\u001b[0m",
      "\u001b[0;31mNameError\u001b[0m                                 Traceback (most recent call last)",
      "\u001b[0;32m<ipython-input-11-82ac0952cc6c>\u001b[0m in \u001b[0;36m<module>\u001b[0;34m\u001b[0m\n\u001b[0;32m----> 1\u001b[0;31m \u001b[0mTTL_ON_log\u001b[0m\u001b[0;34m.\u001b[0m\u001b[0mloc\u001b[0m\u001b[0;34m[\u001b[0m\u001b[0;36m1\u001b[0m\u001b[0;34m]\u001b[0m\u001b[0;34m\u001b[0m\u001b[0;34m\u001b[0m\u001b[0m\n\u001b[0m",
      "\u001b[0;31mNameError\u001b[0m: name 'TTL_ON_log' is not defined"
     ]
    }
   ],
   "source": [
    "TTL_ON_log.loc[1]"
   ]
  },
  {
   "cell_type": "code",
   "execution_count": 12,
   "metadata": {},
   "outputs": [
    {
     "data": {
      "text/plain": [
       "{0: 4.928999999999999,\n",
       " 1: 107.881,\n",
       " 2: 210.897,\n",
       " 3: 313.917,\n",
       " 4: 416.87,\n",
       " 5: 519.89,\n",
       " 6: 622.9069999999999,\n",
       " 7: 725.9259999999999}"
      ]
     },
     "execution_count": 12,
     "metadata": {},
     "output_type": "execute_result"
    }
   ],
   "source": [
    "# get timestamps of sweep starts from abf file \n",
    "r = io.AxonIO(filename=path_to_original_abf_file)\n",
    "r._t_starts"
   ]
  },
  {
   "cell_type": "code",
   "execution_count": 13,
   "metadata": {},
   "outputs": [],
   "source": [
    "## this line create a list of sweeps called \"sweeps\" from the photometry df \n",
    "sweeps = sorted(list(set(photometry_df.index.get_level_values(level=0))))"
   ]
  },
  {
   "cell_type": "code",
   "execution_count": 14,
   "metadata": {},
   "outputs": [
    {
     "data": {
      "text/plain": [
       "['sweep001', 'sweep002', 'sweep003', 'sweep004', 'sweep005', 'sweep006']"
      ]
     },
     "execution_count": 14,
     "metadata": {},
     "output_type": "execute_result"
    }
   ],
   "source": [
    "sweeps"
   ]
  },
  {
   "cell_type": "code",
   "execution_count": 15,
   "metadata": {},
   "outputs": [
    {
     "data": {
      "text/plain": [
       "['sweep001', 'sweep002', 'sweep003']"
      ]
     },
     "execution_count": 15,
     "metadata": {},
     "output_type": "execute_result"
    }
   ],
   "source": [
    "## if you want to use fewer sweeps to make the code run faster then only select a few sweeps here e.g. make a new list \n",
    "sweep_subset = sweeps[0:3]\n",
    "sweep_subset"
   ]
  },
  {
   "cell_type": "code",
   "execution_count": 16,
   "metadata": {},
   "outputs": [],
   "source": [
    "## then here use the \"sweep_subset\" list when running this loop to create the data frame with times from the start of the trial for each sample \n",
    "dfs = []\n",
    "for sweepname, sweep in zip(sweep_subset, range(len(sweep_subset))):\n",
    "    trial_time = photometry_df.loc[sweepname]['time']+r._t_starts[sweep]\n",
    "    dfs.append(pd.DataFrame([trial_time.rename('trial_time'), photometry_df.loc[sweepname]['time']]).transpose())\n",
    "run_time_dfs  = pd.concat(dfs, keys=sweeps, names=['sweep'])    "
   ]
  },
  {
   "cell_type": "code",
   "execution_count": null,
   "metadata": {},
   "outputs": [],
   "source": [
    "run_time_dfs.loc['sweep003'].head()"
   ]
  },
  {
   "cell_type": "code",
   "execution_count": null,
   "metadata": {},
   "outputs": [],
   "source": [
    "## for e.g want to know what happened when mouse touched at 13:23 11.964\n",
    "# if the current df is only a subset of the number of sweep then would just want to make sure that the time falls within the range of trial times contained in \"run_time_df\" made in the last step\n",
    "hr_ = 11\n",
    "min_ = 23\n",
    "sec_ = 11.964\n",
    "TTL_base_time = (TTL_ON_log.loc[1]['hr']*3600)+(TTL_ON_log.loc[1]['min']*60)+TTL_ON_log.loc[1]['sec']\n",
    "\n",
    "relative_event_time = ((hr_*3600)+(min_*60)+sec_)-TTL_base_time \n",
    "\n",
    "relative_event_time"
   ]
  },
  {
   "cell_type": "code",
   "execution_count": null,
   "metadata": {},
   "outputs": [],
   "source": [
    "## find out which samples in the photometry data frame are closest to this time \n",
    "\n",
    "closest_samples = run_time_dfs.ix[(run_time_dfs['trial_time']-relative_event_time).abs().argsort()[:2]]\n",
    "sweep = closest_samples.index.values[0][0]\n",
    "time = closest_samples.values[0][1]\n",
    "index_ = photometry_df.loc[sweep][photometry_df.loc[sweep]['time']==time].index.values[0]\n"
   ]
  },
  {
   "cell_type": "code",
   "execution_count": null,
   "metadata": {},
   "outputs": [],
   "source": [
    "closest_samples"
   ]
  },
  {
   "cell_type": "code",
   "execution_count": null,
   "metadata": {},
   "outputs": [],
   "source": [
    "photometry_df.loc[sweep][photometry_df.loc[sweep]['time']==time].index.values[0]"
   ]
  },
  {
   "cell_type": "code",
   "execution_count": null,
   "metadata": {},
   "outputs": [],
   "source": [
    "#pick out a certain region on either side of the index to plot\n",
    "\n",
    "start_ = index_-10000\n",
    "end_ = index_+10000\n",
    "\n",
    "photometry_df.loc['sweep003'][start_:end_].head()"
   ]
  },
  {
   "cell_type": "code",
   "execution_count": null,
   "metadata": {},
   "outputs": [],
   "source": [
    "plt.plot(photometry_df.loc['sweep003'][start_:end_]['channel_1_demod_F_F0'].values)"
   ]
  },
  {
   "cell_type": "code",
   "execution_count": null,
   "metadata": {},
   "outputs": [],
   "source": [
    "## if we want to do this for a number of times make a list of times and run these functions in a loop\n",
    "\n",
    "list_of_times = [235.82900000000518, 951.3320000000022]\n",
    "\n",
    "results = []\n",
    "for rel_event_time in list_of_times: \n",
    "    ## find out which samples in the photometry data frame are closest to this time \n",
    "    closest_samples = run_time_dfs.ix[(run_time_dfs['trial_time']-rel_event_time).abs().argsort()[:2]]\n",
    "    sweep = closest_samples.index.values[0][0]\n",
    "    time = closest_samples.values[0][1]\n",
    "    index_ = photometry_df.loc[sweep][photometry_df.loc[sweep]['time']==time].index.values[0]\n",
    "    \n",
    "    \n",
    "    start_ = index_-10000\n",
    "    end_ = index_+10000\n",
    "    \n",
    "    results.append(photometry_df.loc[sweep][start_:end_])"
   ]
  },
  {
   "cell_type": "code",
   "execution_count": null,
   "metadata": {},
   "outputs": [],
   "source": [
    "#combine results\n",
    "combined = pd.concat(results, keys=list_of_times, names=['event_times'])\n",
    "#save \n",
    "combined.to_excel('/Users/johnmarshall/Documents/Analysis/PhotometryData/2019/operant_box_eg/155_2019_7_8 11h25m Task29_Touch_photometry_data.xlsx')"
   ]
  },
  {
   "cell_type": "code",
   "execution_count": null,
   "metadata": {},
   "outputs": [],
   "source": [
    "combined"
   ]
  },
  {
   "cell_type": "code",
   "execution_count": null,
   "metadata": {},
   "outputs": [],
   "source": []
  }
 ],
 "metadata": {
  "kernelspec": {
   "display_name": "Python [default]",
   "language": "python",
   "name": "python3"
  },
  "language_info": {
   "codemirror_mode": {
    "name": "ipython",
    "version": 3
   },
   "file_extension": ".py",
   "mimetype": "text/x-python",
   "name": "python",
   "nbconvert_exporter": "python",
   "pygments_lexer": "ipython3",
   "version": "3.6.7"
  }
 },
 "nbformat": 4,
 "nbformat_minor": 2
}
